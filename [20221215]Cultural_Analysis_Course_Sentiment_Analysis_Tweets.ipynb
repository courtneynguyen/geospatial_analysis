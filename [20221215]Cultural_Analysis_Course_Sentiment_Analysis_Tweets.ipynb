{
  "cells": [
    {
      "cell_type": "markdown",
      "metadata": {
        "id": "view-in-github",
        "colab_type": "text"
      },
      "source": [
        "<a href=\"https://colab.research.google.com/github/courtneynguyen/Kenyon-College_IPHS_Cultural-Analytics/blob/main/%5B20221215%5DCultural_Analysis_Course_Sentiment_Analysis_Tweets.ipynb\" target=\"_parent\"><img src=\"https://colab.research.google.com/assets/colab-badge.svg\" alt=\"Open In Colab\"/></a>"
      ]
    },
    {
      "cell_type": "markdown",
      "metadata": {
        "id": "uSec38dY4n0y"
      },
      "source": [
        "Jon Chun\n",
        "24 Oct 2021"
      ]
    },
    {
      "cell_type": "markdown",
      "metadata": {
        "id": "3Y24MEWZczqs"
      },
      "source": [
        "# **Requirements**\n",
        "\n",
        "* Must use **Chrome** browser (esp not Safari)\n",
        "* Use only **plain text** files (no *.rtf, *.doc, etc)"
      ]
    },
    {
      "cell_type": "markdown",
      "metadata": {
        "id": "6vcCvDsM_gKY"
      },
      "source": [
        "# **Setup and Configuration**"
      ]
    },
    {
      "cell_type": "code",
      "execution_count": 1,
      "metadata": {
        "id": "H1rqW1I2cjQ_",
        "colab": {
          "base_uri": "https://localhost:8080/"
        },
        "outputId": "8238cd29-bb60-4e99-97d3-2df4a0ffc2b6"
      },
      "outputs": [
        {
          "output_type": "stream",
          "name": "stdout",
          "text": [
            "NVIDIA-SMI has failed because it couldn't communicate with the NVIDIA driver. Make sure that the latest NVIDIA driver is installed and running.\n",
            "\n"
          ]
        }
      ],
      "source": [
        "!nvidia-smi"
      ]
    },
    {
      "cell_type": "code",
      "execution_count": 2,
      "metadata": {
        "id": "AkM_l-q2-Ore",
        "colab": {
          "base_uri": "https://localhost:8080/"
        },
        "outputId": "bb9fd062-4b78-48b6-dd5b-b894ec6fa681"
      },
      "outputs": [
        {
          "output_type": "stream",
          "name": "stdout",
          "text": [
            "Cloning into 'text-preprocessing-techniques'...\n",
            "remote: Enumerating objects: 35, done.\u001b[K\n",
            "remote: Total 35 (delta 0), reused 0 (delta 0), pack-reused 35\u001b[K\n",
            "Unpacking objects: 100% (35/35), done.\n",
            "/content/text-preprocessing-techniques\n",
            "total 6720\n",
            "drwxr-xr-x 1 root root    4096 Dec 15 19:20 ..\n",
            "-rw-r--r-- 1 root root    2157 Dec 15 19:20 README.md\n",
            "-rw-r--r-- 1 root root 6617121 Dec 15 19:20 corporaForSpellCorrection.txt\n",
            "-rw-r--r-- 1 root root    5181 Dec 15 19:20 slang.txt\n",
            "-rw-r--r-- 1 root root    8174 Dec 15 19:20 preprocess.py\n",
            "-rw-r--r-- 1 root root  220883 Dec 15 19:20 ss-twitterfinal.txt\n",
            "-rw-r--r-- 1 root root    8009 Dec 15 19:20 techniques.py\n",
            "drwxr-xr-x 8 root root    4096 Dec 15 19:20 .git\n",
            "drwxr-xr-x 3 root root    4096 Dec 15 19:20 .\n"
          ]
        }
      ],
      "source": [
        "!git clone https://github.com/Deffro/text-preprocessing-techniques.git\n",
        "%cd text-preprocessing-techniques\n",
        "!ls -altr"
      ]
    },
    {
      "cell_type": "code",
      "source": [
        "!pip install -U pandas"
      ],
      "metadata": {
        "id": "nk1RJKrx6Drr",
        "colab": {
          "base_uri": "https://localhost:8080/"
        },
        "outputId": "30877996-13f0-4f23-d0ed-e28c067b5ba3"
      },
      "execution_count": 3,
      "outputs": [
        {
          "output_type": "stream",
          "name": "stdout",
          "text": [
            "Looking in indexes: https://pypi.org/simple, https://us-python.pkg.dev/colab-wheels/public/simple/\n",
            "Requirement already satisfied: pandas in /usr/local/lib/python3.8/dist-packages (1.3.5)\n",
            "Collecting pandas\n",
            "  Downloading pandas-1.5.2-cp38-cp38-manylinux_2_17_x86_64.manylinux2014_x86_64.whl (12.2 MB)\n",
            "\u001b[K     |████████████████████████████████| 12.2 MB 3.2 MB/s \n",
            "\u001b[?25hRequirement already satisfied: python-dateutil>=2.8.1 in /usr/local/lib/python3.8/dist-packages (from pandas) (2.8.2)\n",
            "Requirement already satisfied: numpy>=1.20.3 in /usr/local/lib/python3.8/dist-packages (from pandas) (1.21.6)\n",
            "Requirement already satisfied: pytz>=2020.1 in /usr/local/lib/python3.8/dist-packages (from pandas) (2022.6)\n",
            "Requirement already satisfied: six>=1.5 in /usr/local/lib/python3.8/dist-packages (from python-dateutil>=2.8.1->pandas) (1.15.0)\n",
            "Installing collected packages: pandas\n",
            "  Attempting uninstall: pandas\n",
            "    Found existing installation: pandas 1.3.5\n",
            "    Uninstalling pandas-1.3.5:\n",
            "      Successfully uninstalled pandas-1.3.5\n",
            "Successfully installed pandas-1.5.2\n"
          ]
        }
      ]
    },
    {
      "cell_type": "code",
      "execution_count": 4,
      "metadata": {
        "id": "fzrydP-9gzjX",
        "colab": {
          "base_uri": "https://localhost:8080/"
        },
        "outputId": "476e1505-a357-4903-f285-fe0a18099c51"
      },
      "outputs": [
        {
          "output_type": "stream",
          "name": "stdout",
          "text": [
            "Looking in indexes: https://pypi.org/simple, https://us-python.pkg.dev/colab-wheels/public/simple/\n",
            "Collecting transformers\n",
            "  Downloading transformers-4.25.1-py3-none-any.whl (5.8 MB)\n",
            "\u001b[K     |████████████████████████████████| 5.8 MB 5.2 MB/s \n",
            "\u001b[?25hCollecting huggingface-hub<1.0,>=0.10.0\n",
            "  Downloading huggingface_hub-0.11.1-py3-none-any.whl (182 kB)\n",
            "\u001b[K     |████████████████████████████████| 182 kB 53.3 MB/s \n",
            "\u001b[?25hRequirement already satisfied: pyyaml>=5.1 in /usr/local/lib/python3.8/dist-packages (from transformers) (6.0)\n",
            "Requirement already satisfied: requests in /usr/local/lib/python3.8/dist-packages (from transformers) (2.23.0)\n",
            "Requirement already satisfied: numpy>=1.17 in /usr/local/lib/python3.8/dist-packages (from transformers) (1.21.6)\n",
            "Requirement already satisfied: regex!=2019.12.17 in /usr/local/lib/python3.8/dist-packages (from transformers) (2022.6.2)\n",
            "Collecting tokenizers!=0.11.3,<0.14,>=0.11.1\n",
            "  Downloading tokenizers-0.13.2-cp38-cp38-manylinux_2_17_x86_64.manylinux2014_x86_64.whl (7.6 MB)\n",
            "\u001b[K     |████████████████████████████████| 7.6 MB 42.8 MB/s \n",
            "\u001b[?25hRequirement already satisfied: filelock in /usr/local/lib/python3.8/dist-packages (from transformers) (3.8.0)\n",
            "Requirement already satisfied: tqdm>=4.27 in /usr/local/lib/python3.8/dist-packages (from transformers) (4.64.1)\n",
            "Requirement already satisfied: packaging>=20.0 in /usr/local/lib/python3.8/dist-packages (from transformers) (21.3)\n",
            "Requirement already satisfied: typing-extensions>=3.7.4.3 in /usr/local/lib/python3.8/dist-packages (from huggingface-hub<1.0,>=0.10.0->transformers) (4.4.0)\n",
            "Requirement already satisfied: pyparsing!=3.0.5,>=2.0.2 in /usr/local/lib/python3.8/dist-packages (from packaging>=20.0->transformers) (3.0.9)\n",
            "Requirement already satisfied: certifi>=2017.4.17 in /usr/local/lib/python3.8/dist-packages (from requests->transformers) (2022.9.24)\n",
            "Requirement already satisfied: chardet<4,>=3.0.2 in /usr/local/lib/python3.8/dist-packages (from requests->transformers) (3.0.4)\n",
            "Requirement already satisfied: idna<3,>=2.5 in /usr/local/lib/python3.8/dist-packages (from requests->transformers) (2.10)\n",
            "Requirement already satisfied: urllib3!=1.25.0,!=1.25.1,<1.26,>=1.21.1 in /usr/local/lib/python3.8/dist-packages (from requests->transformers) (1.24.3)\n",
            "Installing collected packages: tokenizers, huggingface-hub, transformers\n",
            "Successfully installed huggingface-hub-0.11.1 tokenizers-0.13.2 transformers-4.25.1\n"
          ]
        }
      ],
      "source": [
        "!pip install transformers"
      ]
    },
    {
      "cell_type": "code",
      "execution_count": 5,
      "metadata": {
        "id": "-mWoG6U07jU3",
        "colab": {
          "base_uri": "https://localhost:8080/"
        },
        "outputId": "497f661c-be74-4ba1-80a2-cd0cb7b9d62d"
      },
      "outputs": [
        {
          "output_type": "stream",
          "name": "stdout",
          "text": [
            "Looking in indexes: https://pypi.org/simple, https://us-python.pkg.dev/colab-wheels/public/simple/\n",
            "Collecting clean-text\n",
            "  Downloading clean_text-0.6.0-py3-none-any.whl (11 kB)\n",
            "Collecting emoji<2.0.0,>=1.0.0\n",
            "  Downloading emoji-1.7.0.tar.gz (175 kB)\n",
            "\u001b[K     |████████████████████████████████| 175 kB 5.0 MB/s \n",
            "\u001b[?25hCollecting ftfy<7.0,>=6.0\n",
            "  Downloading ftfy-6.1.1-py3-none-any.whl (53 kB)\n",
            "\u001b[K     |████████████████████████████████| 53 kB 1.2 MB/s \n",
            "\u001b[?25hRequirement already satisfied: wcwidth>=0.2.5 in /usr/local/lib/python3.8/dist-packages (from ftfy<7.0,>=6.0->clean-text) (0.2.5)\n",
            "Building wheels for collected packages: emoji\n",
            "  Building wheel for emoji (setup.py) ... \u001b[?25l\u001b[?25hdone\n",
            "  Created wheel for emoji: filename=emoji-1.7.0-py3-none-any.whl size=171046 sha256=da436cea7a9f2b7784d381547c9c4b78c49c93c66a202bdec2c747527f9f514d\n",
            "  Stored in directory: /root/.cache/pip/wheels/5e/8c/80/c3646df8201ba6f5070297fe3779a4b70265d0bfd961c15302\n",
            "Successfully built emoji\n",
            "Installing collected packages: ftfy, emoji, clean-text\n",
            "Successfully installed clean-text-0.6.0 emoji-1.7.0 ftfy-6.1.1\n"
          ]
        }
      ],
      "source": [
        "!pip install clean-text"
      ]
    },
    {
      "cell_type": "code",
      "execution_count": 6,
      "metadata": {
        "id": "w8TQCzw6ZjTA",
        "colab": {
          "base_uri": "https://localhost:8080/"
        },
        "outputId": "081ba04b-a477-4767-8b70-f2d1647ae67a"
      },
      "outputs": [
        {
          "output_type": "stream",
          "name": "stdout",
          "text": [
            "Looking in indexes: https://pypi.org/simple, https://us-python.pkg.dev/colab-wheels/public/simple/\n",
            "Collecting unidecode\n",
            "  Downloading Unidecode-1.3.6-py3-none-any.whl (235 kB)\n",
            "\u001b[K     |████████████████████████████████| 235 kB 5.1 MB/s \n",
            "\u001b[?25hInstalling collected packages: unidecode\n",
            "Successfully installed unidecode-1.3.6\n"
          ]
        }
      ],
      "source": [
        "# This library contains a function that takes a string object, possibly containing non-ASCII characters, and returns a string\n",
        "\n",
        "!pip install unidecode  # clean-text dependency\n",
        "\n",
        "# Dealing with encodings\n",
        "# import binascii\n",
        "\n",
        "# !pip install chardet\n",
        "# import chardet"
      ]
    },
    {
      "cell_type": "code",
      "execution_count": 7,
      "metadata": {
        "id": "YvixNvNVvIbr",
        "colab": {
          "base_uri": "https://localhost:8080/"
        },
        "outputId": "5f30e7a3-fc85-477f-b63f-ec8f68df5307"
      },
      "outputs": [
        {
          "output_type": "stream",
          "name": "stdout",
          "text": [
            "Looking in indexes: https://pypi.org/simple, https://us-python.pkg.dev/colab-wheels/public/simple/\n",
            "Collecting contractions\n",
            "  Downloading contractions-0.1.73-py2.py3-none-any.whl (8.7 kB)\n",
            "Collecting textsearch>=0.0.21\n",
            "  Downloading textsearch-0.0.24-py2.py3-none-any.whl (7.6 kB)\n",
            "Collecting pyahocorasick\n",
            "  Downloading pyahocorasick-1.4.4-cp38-cp38-manylinux_2_17_x86_64.manylinux2014_x86_64.whl (110 kB)\n",
            "\u001b[K     |████████████████████████████████| 110 kB 4.4 MB/s \n",
            "\u001b[?25hCollecting anyascii\n",
            "  Downloading anyascii-0.3.1-py3-none-any.whl (287 kB)\n",
            "\u001b[K     |████████████████████████████████| 287 kB 37.7 MB/s \n",
            "\u001b[?25hInstalling collected packages: pyahocorasick, anyascii, textsearch, contractions\n",
            "Successfully installed anyascii-0.3.1 contractions-0.1.73 pyahocorasick-1.4.4 textsearch-0.0.24\n"
          ]
        }
      ],
      "source": [
        "!pip install contractions"
      ]
    },
    {
      "cell_type": "code",
      "execution_count": 8,
      "metadata": {
        "id": "PsNyPo1XaQO9",
        "colab": {
          "base_uri": "https://localhost:8080/"
        },
        "outputId": "4849b59c-4be3-4458-82a6-ac2d71c76948"
      },
      "outputs": [
        {
          "output_type": "stream",
          "name": "stdout",
          "text": [
            "Looking in indexes: https://pypi.org/simple, https://us-python.pkg.dev/colab-wheels/public/simple/\n",
            "Requirement already satisfied: python-slugify in /usr/local/lib/python3.8/dist-packages (7.0.0)\n",
            "Requirement already satisfied: text-unidecode>=1.3 in /usr/local/lib/python3.8/dist-packages (from python-slugify) (1.3)\n"
          ]
        }
      ],
      "source": [
        "!pip install python-slugify"
      ]
    },
    {
      "cell_type": "code",
      "execution_count": 9,
      "metadata": {
        "id": "0FYGJMf565-3",
        "colab": {
          "base_uri": "https://localhost:8080/"
        },
        "outputId": "0aaef1b9-23ba-4ba2-ebe8-f699c996795b"
      },
      "outputs": [
        {
          "output_type": "stream",
          "name": "stdout",
          "text": [
            "Looking in indexes: https://pypi.org/simple, https://us-python.pkg.dev/colab-wheels/public/simple/\n",
            "Collecting arrow\n",
            "  Downloading arrow-1.2.3-py3-none-any.whl (66 kB)\n",
            "\u001b[K     |████████████████████████████████| 66 kB 2.6 MB/s \n",
            "\u001b[?25hRequirement already satisfied: python-dateutil>=2.7.0 in /usr/local/lib/python3.8/dist-packages (from arrow) (2.8.2)\n",
            "Requirement already satisfied: six>=1.5 in /usr/local/lib/python3.8/dist-packages (from python-dateutil>=2.7.0->arrow) (1.15.0)\n",
            "Installing collected packages: arrow\n",
            "Successfully installed arrow-1.2.3\n"
          ]
        }
      ],
      "source": [
        "!pip install arrow"
      ]
    },
    {
      "cell_type": "code",
      "execution_count": 10,
      "metadata": {
        "id": "D779bVXnWWBE",
        "colab": {
          "base_uri": "https://localhost:8080/"
        },
        "outputId": "6ffa25ed-403c-473c-e33e-d0bfeea2a6a8"
      },
      "outputs": [
        {
          "output_type": "stream",
          "name": "stdout",
          "text": [
            "Looking in indexes: https://pypi.org/simple, https://us-python.pkg.dev/colab-wheels/public/simple/\n",
            "Collecting snscrape\n",
            "  Downloading snscrape-0.4.3.20220106-py3-none-any.whl (59 kB)\n",
            "\u001b[K     |████████████████████████████████| 59 kB 2.7 MB/s \n",
            "\u001b[?25hRequirement already satisfied: lxml in /usr/local/lib/python3.8/dist-packages (from snscrape) (4.9.1)\n",
            "Requirement already satisfied: requests[socks] in /usr/local/lib/python3.8/dist-packages (from snscrape) (2.23.0)\n",
            "Requirement already satisfied: filelock in /usr/local/lib/python3.8/dist-packages (from snscrape) (3.8.0)\n",
            "Requirement already satisfied: beautifulsoup4 in /usr/local/lib/python3.8/dist-packages (from snscrape) (4.6.3)\n",
            "Requirement already satisfied: pytz in /usr/local/lib/python3.8/dist-packages (from snscrape) (2022.6)\n",
            "Requirement already satisfied: urllib3!=1.25.0,!=1.25.1,<1.26,>=1.21.1 in /usr/local/lib/python3.8/dist-packages (from requests[socks]->snscrape) (1.24.3)\n",
            "Requirement already satisfied: chardet<4,>=3.0.2 in /usr/local/lib/python3.8/dist-packages (from requests[socks]->snscrape) (3.0.4)\n",
            "Requirement already satisfied: certifi>=2017.4.17 in /usr/local/lib/python3.8/dist-packages (from requests[socks]->snscrape) (2022.9.24)\n",
            "Requirement already satisfied: idna<3,>=2.5 in /usr/local/lib/python3.8/dist-packages (from requests[socks]->snscrape) (2.10)\n",
            "Requirement already satisfied: PySocks!=1.5.7,>=1.5.6 in /usr/local/lib/python3.8/dist-packages (from requests[socks]->snscrape) (1.7.1)\n",
            "Installing collected packages: snscrape\n",
            "Successfully installed snscrape-0.4.3.20220106\n"
          ]
        }
      ],
      "source": [
        "!pip install snscrape"
      ]
    },
    {
      "cell_type": "code",
      "execution_count": 11,
      "metadata": {
        "id": "O--7tFNBDiBI",
        "colab": {
          "base_uri": "https://localhost:8080/"
        },
        "outputId": "a7a4651f-f7d4-4e71-c3a6-9df0f66e752d"
      },
      "outputs": [
        {
          "output_type": "stream",
          "name": "stdout",
          "text": [
            "Looking in indexes: https://pypi.org/simple, https://us-python.pkg.dev/colab-wheels/public/simple/\n",
            "Collecting emoticon-fix\n",
            "  Downloading emoticon_fix-0.0.2.tar.gz (3.1 kB)\n",
            "Building wheels for collected packages: emoticon-fix\n",
            "  Building wheel for emoticon-fix (setup.py) ... \u001b[?25l\u001b[?25hdone\n",
            "  Created wheel for emoticon-fix: filename=emoticon_fix-0.0.2-py3-none-any.whl size=3448 sha256=d53b7fc565bbece98a26594920892e061c713f3925731ccb658e1078709ec2df\n",
            "  Stored in directory: /root/.cache/pip/wheels/a1/c9/0c/df1f040fdda294413121bf278d88dc3840a4b6f50579bb2681\n",
            "Successfully built emoticon-fix\n",
            "Installing collected packages: emoticon-fix\n",
            "Successfully installed emoticon-fix-0.0.2\n"
          ]
        }
      ],
      "source": [
        "# Install optional libraries\n",
        "\n",
        "# !pip install emoji\n",
        "!pip install emoticon-fix"
      ]
    },
    {
      "cell_type": "code",
      "execution_count": 12,
      "metadata": {
        "id": "j0EvWdm1NPVt",
        "colab": {
          "base_uri": "https://localhost:8080/",
          "height": 36
        },
        "outputId": "c73db460-d7a9-474c-e87e-455f8e1f3423"
      },
      "outputs": [
        {
          "output_type": "execute_result",
          "data": {
            "text/plain": [
              "'test Smile test Laugh test'"
            ],
            "application/vnd.google.colaboratory.intrinsic+json": {
              "type": "string"
            }
          },
          "metadata": {},
          "execution_count": 12
        }
      ],
      "source": [
        "# Test\n",
        "\n",
        "from emoticon_fix import emoticon_fix\n",
        "\n",
        "text = 'test :) test :D test'\n",
        "emoticon_fix.emoticon_fix(text)"
      ]
    },
    {
      "cell_type": "code",
      "execution_count": 13,
      "metadata": {
        "id": "l6KeRBJe_S_g"
      },
      "outputs": [],
      "source": [
        "# Python Libraries\n",
        "\n",
        "import numpy as np\n",
        "import pandas as pd\n",
        "import matplotlib.pyplot as plt\n",
        "import seaborn as sns\n",
        "\n",
        "# import chardet\n",
        "from pprint import pprint\n",
        "import datetime \n",
        "import string\n",
        "import re\n",
        "import os\n",
        "\n",
        "# import arrow\n",
        "from tqdm import tqdm\n",
        "# from pprint import pprint\n",
        "# from logging import error\n",
        "\n",
        "from sklearn.preprocessing import StandardScaler\n",
        "from scipy.signal import find_peaks\n",
        "from scipy.special import softmax\n",
        "\n",
        "import csv\n",
        "import urllib.request\n",
        "\n",
        "from google.colab import files\n",
        "\n",
        "# Import functions to preprocess Tweets\n",
        "# https://github.com/Deffro/text-preprocessing-techniques/blob/master/techniques.py\n"
      ]
    },
    {
      "cell_type": "code",
      "source": [
        "from transformers import AutoTokenizer, AutoModelForSequenceClassification, Trainer\n",
        "from transformers import AutoModelForSequenceClassification, TFAutoModelForSequenceClassification, AutoTokenizer"
      ],
      "metadata": {
        "id": "gaqlw1eVB9V5"
      },
      "execution_count": 14,
      "outputs": []
    },
    {
      "cell_type": "code",
      "execution_count": 15,
      "metadata": {
        "id": "HlNFUxF7JdQB"
      },
      "outputs": [],
      "source": [
        "# Import Twitter specific preprocessing files\n",
        "\n",
        "from cleantext import clean\n",
        "\n",
        "import contractions\n",
        "\n",
        "from slugify import slugify\n",
        "\n",
        "import emoji\n",
        "\n",
        "from techniques import *"
      ]
    },
    {
      "cell_type": "code",
      "execution_count": 16,
      "metadata": {
        "id": "Ee4FgrcZ57cm"
      },
      "outputs": [],
      "source": [
        "# Setup matplotlib\n",
        "\n",
        "# %matplotlib inline\n",
        "\n",
        "plt.rcParams[\"figure.figsize\"] = (20,10)\n",
        "\n",
        "from IPython.core.interactiveshell import InteractiveShell\n",
        "InteractiveShell.ast_node_interactivity = \"all\""
      ]
    },
    {
      "cell_type": "markdown",
      "metadata": {
        "id": "2oygQf4PtN-5"
      },
      "source": [
        "# Globals"
      ]
    },
    {
      "cell_type": "code",
      "execution_count": 17,
      "metadata": {
        "id": "Mkm8LWSitbhy"
      },
      "outputs": [],
      "source": [
        "# Global Vars\n",
        "\n",
        "novel_filename_str = ''\n",
        "novel_title_str = ''\n",
        "novel_raw_str = ''\n",
        "novel_clean_str = ''\n",
        "\n",
        "novel_lines_ls = []\n",
        "novel_sentences_ls = []\n",
        "novel_paragraphs_ls = []\n",
        "\n",
        "# Main (Modin) DataFrame for Novel Sentiments\n",
        "data_df = pd.DataFrame\n",
        "\n",
        "TEXT_ENCODING = 'utf-8'"
      ]
    },
    {
      "cell_type": "code",
      "execution_count": 18,
      "metadata": {
        "id": "DmBgCGUCDYGA"
      },
      "outputs": [],
      "source": [
        "def verify_novel(anovel_raw_str, anovel_title_str, index_ends=500):\n",
        "  '''\n",
        "  INPUT: string in some stage of processing\n",
        "  OUTPUT: display summary index_ends chars of header/footer for verification\n",
        "  '''\n",
        "\n",
        "  print(f'Novel Title: {anovel_title_str}')\n",
        "  print(f'  Char Len: {len(anovel_raw_str)}')\n",
        "  print('====================================\\n')\n",
        "  print(f'Beginning:\\n\\n {anovel_raw_str[:index_ends]}\\n\\n')\n",
        "  print('\\n------------------------------------')\n",
        "  print(f'Ending:\\n\\n {anovel_raw_str[-index_ends:]}\\n\\n')"
      ]
    },
    {
      "cell_type": "code",
      "execution_count": 19,
      "metadata": {
        "id": "4284uzStHpyU"
      },
      "outputs": [],
      "source": [
        "def save_text2txt_and_download(text_obj, file_suffix='_save.txt'):\n",
        "  '''\n",
        "  INPUT: text object and suffix to add to output text filename\n",
        "  OUTPUT: Write text object to text file (both temp VM and download)\n",
        "  '''\n",
        "\n",
        "  if type(text_obj) == str:\n",
        "    print('STEP 1. Processing String Object\\n')\n",
        "    str_obj = text_obj\n",
        "  elif type(text_obj) == list:\n",
        "    if (len(text_obj) > 0):\n",
        "      if type(text_obj[0]) == str:\n",
        "        print('STEP 1. Processing List of Strings Object\\n')\n",
        "        str_obj = \"\\n\".join(text_obj)\n",
        "      else:\n",
        "        print('ERROR: Object is not an List of Strings [save_text2txt_and_download()]')\n",
        "        return -1\n",
        "    else:\n",
        "      print('ERROR: Object is an empty List [save_text2txt_and_download()]')\n",
        "      return -1\n",
        "  else:\n",
        "    print('ERROR: Object Type is neither String nor List [save_text2txt_and_download()]')\n",
        "    return -1\n",
        "\n",
        "  datetime_str = datetime.datetime.now().strftime('%Y%m%d-%H%M%S')\n",
        "  # out_filename = novel_name_str.split('.')[0] + '_' + datetime_str + file_suffix\n",
        "  out_filename = novel_name_str.split('.')[0] + file_suffix\n",
        "\n",
        "  # Write file to temporary VM filesystem\n",
        "  print(f'STEP 2. Saving textfile to temporary VM file: {out_filename}\\n')\n",
        "  with open(out_filename, \"w\") as fp:\n",
        "    fp.write(str_obj)\n",
        "\n",
        "  # Download permanent copy of file\n",
        "  print(f'STEP 3. Downloading permanent copy of textfile: {out_filename}\\n')\n",
        "  files.download(out_filename)"
      ]
    },
    {
      "cell_type": "code",
      "execution_count": 20,
      "metadata": {
        "id": "CeA0VLNT56TZ"
      },
      "outputs": [],
      "source": [
        "def save_df2csv_and_download(df_obj, file_suffix='_save.csv', nodate=True):\n",
        "  '''\n",
        "  INPUT: DataFrame object and suffix to add to output csv filename\n",
        "  OUTPUT: Write DataFrame object to csv file (both temp VM and download)\n",
        "  '''\n",
        "\n",
        "  if isinstance(df_obj, pd.DataFrame):\n",
        "    datetime_str = datetime.datetime.now().strftime('%Y%m%d-%H%M%S')\n",
        "    if nodate:\n",
        "      out_filename = novel_name_str.split('.')[0] + file_suffix\n",
        "    else:\n",
        "      out_filename = novel_name_str.split('.')[0] + '_' + datetime_str + file_suffix\n",
        "    # print(f'STEP 1. Saving DataFrame: {df_obj.__name__} to temporary VM file: {out_filename}\\n') # Also, isinstance(obj, pd.DataFrame)\n",
        "    print(f'STEP 1. Saving DataFrame to temporary VM file: {out_filename}\\n')\n",
        "    df_obj.to_csv(out_filename, index=False) \n",
        "  else:\n",
        "    print(f'ERROR: Object is not a DataFrame [save_df2csv_and_download()]')\n",
        "    return -1\n",
        "\n",
        "  # Download permanent copy of file\n",
        "  print(f'STEP 2. Downloading permanent copy of csvfile: {out_filename}\\n')\n",
        "  files.download(out_filename)\n",
        "\n",
        "\n",
        "# Test\n",
        "\n",
        "# save_df2csv_and_download(temp_df, '_bert-nlptown.txt')"
      ]
    },
    {
      "cell_type": "code",
      "execution_count": 21,
      "metadata": {
        "id": "jwby-TEly0i5",
        "colab": {
          "base_uri": "https://localhost:8080/",
          "height": 126
        },
        "outputId": "5bfaed49-a9a4-4ccf-d314-9a06adf047b3"
      },
      "outputs": [
        {
          "output_type": "execute_result",
          "data": {
            "text/plain": [
              "'\\n# novel_clean_ls = [re.sub(r\\'[\\n]+\\', \\' \\', x).strip() for x in novel_ls]\\nnovel_clean_ls = [contractions.fix(x) for x in novel_ls]\\nnovel_clean_ls = [re.sub(r\\'[\\n]+\\', \\' \\', x).strip() for x in novel_clean_ls]\\nnovel_clean_ls = [x.strip() for x in novel_clean_ls if len(x.strip()) > 1]\\n# novel_clean_ls = [re.sub(r\"^[\"\\']\", \"\", x) for x in novel_clean_ls]  # re.sub(\"[\"\\']\", \"\", s)\\n# novel_clean_ls = [re.sub(r\"[\"\\']$\", \"\", x) for x in novel_clean_ls]\\nnovel_clean_ls = [x.encode(\\'ascii\\',errors=\\'ignore\\').decode() for x in novel_clean_ls]\\n# novel_bin = novel_clean_str.encode(\\'ascii\\',errors=\\'ignore\\')\\n# novel_clean_str = novel_bin.decode()\\n\\n[f\\'[{x}]\\' for x in novel_clean_ls]\\n'"
            ],
            "application/vnd.google.colaboratory.intrinsic+json": {
              "type": "string"
            }
          },
          "metadata": {},
          "execution_count": 21
        }
      ],
      "source": [
        "def expand_contractions(input_str):\n",
        "  '''\n",
        "  INPUT: long string\n",
        "  OUTPUT: long string with expanded contractions\n",
        "  '''\n",
        "\n",
        "  output_str = contractions.fix(input_str)\n",
        "\n",
        "  return output_str\n",
        "\n",
        "\"\"\"\n",
        "# novel_clean_ls = [re.sub(r'[\\n]+', ' ', x).strip() for x in novel_ls]\n",
        "novel_clean_ls = [contractions.fix(x) for x in novel_ls]\n",
        "novel_clean_ls = [re.sub(r'[\\n]+', ' ', x).strip() for x in novel_clean_ls]\n",
        "novel_clean_ls = [x.strip() for x in novel_clean_ls if len(x.strip()) > 1]\n",
        "# novel_clean_ls = [re.sub(r\"^[\\\"\\']\", \"\", x) for x in novel_clean_ls]  # re.sub(\"[\\\"\\']\", \"\", s)\n",
        "# novel_clean_ls = [re.sub(r\"[\\\"\\']$\", \"\", x) for x in novel_clean_ls]\n",
        "novel_clean_ls = [x.encode('ascii',errors='ignore').decode() for x in novel_clean_ls]\n",
        "# novel_bin = novel_clean_str.encode('ascii',errors='ignore')\n",
        "# novel_clean_str = novel_bin.decode()\n",
        "\n",
        "[f'[{x}]' for x in novel_clean_ls]\n",
        "\"\"\""
      ]
    },
    {
      "cell_type": "markdown",
      "metadata": {
        "id": "Etz3zVn3kTe-"
      },
      "source": [
        "# **Get Tweet Text - Pick ONE Option**"
      ]
    },
    {
      "cell_type": "markdown",
      "metadata": {
        "id": "p5OA7O6MWc-H"
      },
      "source": [
        "## OPTION (a): Scrape Twitter with snscrape"
      ]
    },
    {
      "cell_type": "code",
      "execution_count": 22,
      "metadata": {
        "id": "U5OfDm1jWoEy"
      },
      "outputs": [],
      "source": [
        "import arrow\n",
        "import snscrape\n",
        "import snscrape.modules.twitter as sntwitter\n",
        "\n",
        "end_date = arrow.utcnow().format('YYYY-MM-DD')\n",
        "start_date = arrow.utcnow().shift(days=-7).format('YYYY-MM-DD')\n",
        "\n",
        "end_target_date = end_date\n",
        "start_target_date = start_date\n",
        "\n",
        "# print(f'start_date: {start_date}')\n",
        "# print(f'  end_date: {end_date}')\n",
        "\n",
        "# local.format('YYYY-MM-DD HH:mm:ss ZZ')\n",
        "\n",
        "# Set default search parameters\n",
        "# today = datetime.date.today()\n",
        "# end_date = today\n",
        "# start_date = end_date"
      ]
    },
    {
      "cell_type": "code",
      "execution_count": null,
      "metadata": {
        "id": "n_YjbOOn6g5G"
      },
      "outputs": [],
      "source": [
        "#import arrow\n",
        "\n",
        "# = arrow.utcnow().format('YYYY-MM-DD')\n",
        "# start_date = utc.shift(days=-7).format('YYYY-MM-DD')\n",
        "\n",
        "# print(f'start_date: {start_date}')\n",
        "# print(f'  end_date: {end_date}')\n",
        "\n",
        "# local.format('YYYY-MM-DD HH:mm:ss ZZ')"
      ]
    },
    {
      "cell_type": "markdown",
      "metadata": {
        "id": "fYXIsGQvM0mk"
      },
      "source": [
        "### INSTRUCTIONS\n",
        "\n",
        "Pick a current topic since you can only search for Tweets starting **from today backwards** in time.\n",
        "\n",
        "1. Search by username or Keyword/Hashtag\n",
        "2. Spaces between multiple keywords act as AND\n",
        "2. Tweets will be scraped from Now/Today backwards\n",
        "3. (max_results) Tweets from the Now/Today back will be retrived\n",
        "4. How far back in time (start_date) will be determined based upon:\n",
        "  * The frequency of matching Tweets \n",
        "  * The max_results number of Tweets requested"
      ]
    },
    {
      "cell_type": "code",
      "execution_count": 26,
      "metadata": {
        "id": "F9zDaNJb42l6",
        "cellView": "form"
      },
      "outputs": [],
      "source": [
        "#@title Twitter Search Type and Parameters\n",
        "\n",
        "search_type = \"keyword\" #@param [\"keyword\", \"username\", \"hashtag\"]\n",
        "\n",
        "search_term = \"twitter acquisition\" #@param {type:\"string\"}\n",
        "\n",
        "# start_target_date = '2022-11-01' #@param {type:\"date\"}\n",
        "\n",
        "# end_target_date = '2022-11-14' #@param {type:\"date\"}\n",
        "\n",
        "max_results = 10000 #@param {type:\"slider\", min:100, max:30000, step:100}\n",
        "\n"
      ]
    },
    {
      "cell_type": "code",
      "execution_count": 27,
      "metadata": {
        "colab": {
          "base_uri": "https://localhost:8080/"
        },
        "id": "UWYtzZvU9GHX",
        "outputId": "687d8680-30c6-4643-87e4-80bcd2cd73e4"
      },
      "outputs": [
        {
          "output_type": "stream",
          "name": "stdout",
          "text": [
            "EXECUTING: keyword search: [twitter acquisition] from [2022-12-08] to [2022-12-15]\n",
            "\n",
            "  10000 Tweets received\n",
            "Tweet Dataset Retrieved:\n",
            "\n",
            " Raw Tweet Count: 10000\n",
            "\n",
            "\n",
            "      First Date: 20221110_173137 (vs start_target_date: 2022-12-08)\n",
            "       Last Date: 20221215_192524 (vs end_target_date: 2022-12-15)\n",
            "\n",
            "\n",
            "   ReTweet Count: 0\n",
            "    Quoted Count: 705\n",
            "\n",
            "\n",
            "     Reply %: 100.00%\n",
            "   ReTweet %: 100.00%\n",
            "      Like %: 100.00%\n",
            "     Quote %: 100.00%\n",
            "\n",
            "\n",
            "CPU times: user 6.77 s, sys: 392 ms, total: 7.16 s\n",
            "Wall time: 4min 54s\n"
          ]
        }
      ],
      "source": [
        "%%time\n",
        "\n",
        "# EXECUTE SEARCH/SCRAPE\n",
        "\n",
        "# NOTE: 2m15s on Sun 20221204 @ 14:26PM EST on Colab Pro T4 for 5k Tweets \n",
        "#       3m44s on Sun 20221204 @ 15:51PM EST on Colab Pro T4 for 5k Tweets \n",
        "#       3m22s on Tue 20221206 @ 02:26AM EST on Colab Pro T4 for 5k Tweets \n",
        "#       6m27s on Tue 20221206 @ 02:32AM EST on Colab Pro T4 for 10k Tweets \n",
        "#       5m34s on Tue 20221207 @ 16:12PM EST on Colab Pro T4 for 10k Tweets \n",
        "#      12m18s on Thu 20221208 @ 04:13AM EST on Colab Pro T4 for 30k Tweets\n",
        "#      17m43s on Sun 20221211 @ 14:00PM EST on Colab Pro T4 for 30k Tweets\n",
        "#       6m00s on Sun 20221211 @ 16:30PM EST on Colab Pro T4 for 10k Tweets\n",
        "#      21m47s on Sun 20221211 @ 16:30PM EST on Colab Pro T4 for 30k Tweets\n",
        "#      22m36s on Sun 20221211 @ 15:10PM EST on Colab Pro T4 for 30k Tweets\n",
        "#      18m30s on Mon 20221213 @ 14:49PM EST on Colab Pro T4 for 30k Tweets\n",
        "\n",
        "data_df = pd.DataFrame()\n",
        "\n",
        "# Creating list to append tweet data to\n",
        "tweet_ls = []\n",
        "\n",
        "if ((search_type == \"keyword\") | (search_type == \"hashtag\")):\n",
        "  print(f'EXECUTING: keyword search: [{search_term}] from [{start_target_date}] to [{end_target_date}]\\n')\n",
        "  for i,tweet in enumerate(sntwitter.TwitterSearchScraper(f'{search_term}').get_items()):\n",
        "    if i >= max_results:\n",
        "      break\n",
        "    tweet_ls.append([tweet.date, tweet.id, tweet.content, tweet.user.username, tweet.replyCount, tweet.retweetCount, tweet.likeCount, tweet.quoteCount, tweet.retweetedTweet, tweet.quotedTweet])\n",
        "  print(f'  {len(tweet_ls)} Tweets received')\n",
        "  data_df = pd.DataFrame(tweet_ls, columns=['datetime','id','tweet','username','reply_ct','retweet_ct','like_ct','quote_ct','retweeted_id','quoted_id'])\n",
        "  data_df.sort_values('datetime',inplace=True)\n",
        "\n",
        "elif search_type == \"username\":\n",
        "  print(f'EXECUTING: username search: [{search_term}] from [{start_target_date}] to [{end_target_date}]\\n')\n",
        "  # Using TwitterSearchScraper to scrape data and append tweets to list\n",
        "  for i,tweet in enumerate(sntwitter.TwitterSearchScraper(f'from:{search_term}').get_items()):\n",
        "    if i >= max_results:\n",
        "      break\n",
        "    tweet_ls.append([tweet.date, tweet.id, tweet.content, tweet.user.username, tweet.replyCount, tweet.retweetCount, tweet.likeCount, tweet.quoteCount, tweet.retweetedTweet, tweet.quotedTweet])\n",
        "  print(f'  {len(tweet_ls)} Tweets received')\n",
        "  data_df = pd.DataFrame(tweet_ls, columns=['datetime','id','tweet','username','reply_ct','retweet_ct','like_ct','quote_ct','retweeted_id','quoted_id'])\n",
        "  data_df.sort_values('datetime',inplace=True)\n",
        "\n",
        "# elif search_type == \"hashtag\":\n",
        "#   print(f'EXECUTING: hashtag search: [{search_term}] from [{start_date}] to [{end_date}]\\n')\n",
        "\n",
        "else:\n",
        "  print(f\"ERROR: Illegal search_type: {search_type}\")\n",
        "\n",
        "# Calculate Data Range\n",
        "print(f'Tweet Dataset Retrieved:\\n')\n",
        "\n",
        "# start_retrieve_date = data_df.datetime.min().strftime('%Y-%m-%d-%H:%M:%S')\n",
        "# end_retrieve_date = data_df.datetime.max().strftime('%Y-%m-%d-%H:%M:%S')\n",
        "start_retrieve_date = data_df.datetime.min().strftime('%Y%m%d_%H%M%S')\n",
        "end_retrieve_date = data_df.datetime.max().strftime('%Y%m%d_%H%M%S')\n",
        "\n",
        "print(f' Raw Tweet Count: {data_df.shape[0]}')\n",
        "print('\\n')\n",
        "print(f'      First Date: {start_retrieve_date} (vs start_target_date: {start_target_date})')\n",
        "print(f'       Last Date: {end_retrieve_date} (vs end_target_date: {end_target_date})')\n",
        "print('\\n')\n",
        "print(f'   ReTweet Count: {data_df.retweeted_id.count().sum()}')\n",
        "print(f'    Quoted Count: {data_df.quoted_id.count().sum()}')\n",
        "print('\\n')\n",
        "print(f'     Reply %: {100*data_df.reply_ct.count().sum()/data_df.shape[0]:.2f}%')\n",
        "print(f'   ReTweet %: {100*data_df.retweet_ct.count().sum()/data_df.shape[0]:.2f}%')\n",
        "print(f'      Like %: {100*data_df.like_ct.count().sum()/data_df.shape[0]:.2f}%')\n",
        "print(f'     Quote %: {100*data_df.quote_ct.count().sum()/data_df.shape[0]:.2f}%')\n",
        "\n",
        "print('\\n')"
      ]
    },
    {
      "cell_type": "code",
      "source": [
        "# Histogram of Tweet Counts over retrieved datetime range\n",
        "\n",
        "_ = fig, ax = plt.subplots()\n",
        "_ = data_df[\"datetime\"].astype(np.int64).plot.hist(ax=ax)\n",
        "_ = labels = ax.get_xticks().tolist()\n",
        "_ = labels = pd.to_datetime(labels)\n",
        "_ = ax.set_xticklabels(labels, rotation=90)\n",
        "_ = plt.grid()\n",
        "_ = plt.show();"
      ],
      "metadata": {
        "id": "ST8cYAF_Jjqr",
        "colab": {
          "base_uri": "https://localhost:8080/",
          "height": 687
        },
        "outputId": "22ce2560-0ad9-42f5-ed9d-aa746625da2a"
      },
      "execution_count": 28,
      "outputs": [
        {
          "output_type": "display_data",
          "data": {
            "text/plain": [
              "<Figure size 1440x720 with 1 Axes>"
            ],
            "image/png": "[encoded data removed]"
          },
          "metadata": {
            "needs_background": "light"
          }
        }
      ]
    },
    {
      "cell_type": "code",
      "execution_count": null,
      "metadata": {
        "id": "DSMM9EFY_OQ3"
      },
      "outputs": [],
      "source": [
        "#       6m27s on Tue 20221206 @ 02:32AM EST on Colab Pro T4 getting 10k Tweets \n",
        "#       6m27s on Tue 20221206 @ 02:32AM EST on Colab Pro T4 getting 10k Tweets \n",
        "data_df.head()"
      ]
    },
    {
      "cell_type": "code",
      "execution_count": 30,
      "metadata": {
        "id": "n1zcPvSZ6Mpa",
        "colab": {
          "base_uri": "https://localhost:8080/",
          "height": 35
        },
        "outputId": "0850d050-8911-4572-e51e-a9ddbffde555"
      },
      "outputs": [
        {
          "output_type": "stream",
          "name": "stdout",
          "text": [
            "Saving to file: tweets_raw_twitteracquisition_20221110_173137_20221215_192524.csv\n"
          ]
        },
        {
          "output_type": "display_data",
          "data": {
            "text/plain": [
              "<IPython.core.display.Javascript object>"
            ],
            "application/javascript": [
              "\n",
              "    async function download(id, filename, size) {\n",
              "      if (!google.colab.kernel.accessAllowed) {\n",
              "        return;\n",
              "      }\n",
              "      const div = document.createElement('div');\n",
              "      const label = document.createElement('label');\n",
              "      label.textContent = `Downloading \"${filename}\": `;\n",
              "      div.appendChild(label);\n",
              "      const progress = document.createElement('progress');\n",
              "      progress.max = size;\n",
              "      div.appendChild(progress);\n",
              "      document.body.appendChild(div);\n",
              "\n",
              "      const buffers = [];\n",
              "      let downloaded = 0;\n",
              "\n",
              "      const channel = await google.colab.kernel.comms.open(id);\n",
              "      // Send a message to notify the kernel that we're ready.\n",
              "      channel.send({})\n",
              "\n",
              "      for await (const message of channel.messages) {\n",
              "        // Send a message to notify the kernel that we're ready.\n",
              "        channel.send({})\n",
              "        if (message.buffers) {\n",
              "          for (const buffer of message.buffers) {\n",
              "            buffers.push(buffer);\n",
              "            downloaded += buffer.byteLength;\n",
              "            progress.value = downloaded;\n",
              "          }\n",
              "        }\n",
              "      }\n",
              "      const blob = new Blob(buffers, {type: 'application/binary'});\n",
              "      const a = document.createElement('a');\n",
              "      a.href = window.URL.createObjectURL(blob);\n",
              "      a.download = filename;\n",
              "      div.appendChild(a);\n",
              "      a.click();\n",
              "      div.remove();\n",
              "    }\n",
              "  "
            ]
          },
          "metadata": {}
        },
        {
          "output_type": "display_data",
          "data": {
            "text/plain": [
              "<IPython.core.display.Javascript object>"
            ],
            "application/javascript": [
              "download(\"download_1c0dfe8e-3600-417e-9488-51de36740657\", \"tweets_raw_twitteracquisition_20221110_173137_20221215_192524.csv\", 2827459)"
            ]
          },
          "metadata": {}
        }
      ],
      "source": [
        "# Save raw tweets\n",
        "\n",
        "# end_date = end_date.split('.')[0]  # If cells executed out of order, this can grow a suffix .csv.csv...\n",
        "\n",
        "filename_tweets = f'tweets_raw_{slugify(search_term, separator=\"\")}_{start_retrieve_date}_{end_retrieve_date}.csv'\n",
        "print(f'Saving to file: {filename_tweets}')\n",
        "\n",
        "data_df.to_csv(filename_tweets, index=False, encoding='utf-8', errors='strict')\n",
        "\n",
        "files.download(filename_tweets)"
      ]
    },
    {
      "cell_type": "markdown",
      "metadata": {
        "id": "f18Z61fYtvpN"
      },
      "source": [
        "## OPTION (b): Upload Raw Textfile\n",
        "\n",
        "RECOMMEND that you don't save/read twitter_raw_*csv datafiles\n",
        "Instead, just run entire notebook from start to finish without any interruption."
      ]
    },
    {
      "cell_type": "code",
      "execution_count": 97,
      "metadata": {
        "id": "7sKJqMys8gUR",
        "colab": {
          "base_uri": "https://localhost:8080/",
          "height": 487
        },
        "outputId": "fce8678b-a8da-47b4-a2ad-69ca0987f1bf"
      },
      "outputs": [
        {
          "output_type": "display_data",
          "data": {
            "text/plain": [
              "<IPython.core.display.HTML object>"
            ],
            "text/html": [
              "\n",
              "     <input type=\"file\" id=\"files-b4c05bea-4844-43d4-af0e-78c45eb4938d\" name=\"files[]\" multiple disabled\n",
              "        style=\"border:none\" />\n",
              "     <output id=\"result-b4c05bea-4844-43d4-af0e-78c45eb4938d\">\n",
              "      Upload widget is only available when the cell has been executed in the\n",
              "      current browser session. Please rerun this cell to enable.\n",
              "      </output>\n",
              "      <script>// Copyright 2017 Google LLC\n",
              "//\n",
              "// Licensed under the Apache License, Version 2.0 (the \"License\");\n",
              "// you may not use this file except in compliance with the License.\n",
              "// You may obtain a copy of the License at\n",
              "//\n",
              "//      http://www.apache.org/licenses/LICENSE-2.0\n",
              "//\n",
              "// Unless required by applicable law or agreed to in writing, software\n",
              "// distributed under the License is distributed on an \"AS IS\" BASIS,\n",
              "// WITHOUT WARRANTIES OR CONDITIONS OF ANY KIND, either express or implied.\n",
              "// See the License for the specific language governing permissions and\n",
              "// limitations under the License.\n",
              "\n",
              "/**\n",
              " * @fileoverview Helpers for google.colab Python module.\n",
              " */\n",
              "(function(scope) {\n",
              "function span(text, styleAttributes = {}) {\n",
              "  const element = document.createElement('span');\n",
              "  element.textContent = text;\n",
              "  for (const key of Object.keys(styleAttributes)) {\n",
              "    element.style[key] = styleAttributes[key];\n",
              "  }\n",
              "  return element;\n",
              "}\n",
              "\n",
              "// Max number of bytes which will be uploaded at a time.\n",
              "const MAX_PAYLOAD_SIZE = 100 * 1024;\n",
              "\n",
              "function _uploadFiles(inputId, outputId) {\n",
              "  const steps = uploadFilesStep(inputId, outputId);\n",
              "  const outputElement = document.getElementById(outputId);\n",
              "  // Cache steps on the outputElement to make it available for the next call\n",
              "  // to uploadFilesContinue from Python.\n",
              "  outputElement.steps = steps;\n",
              "\n",
              "  return _uploadFilesContinue(outputId);\n",
              "}\n",
              "\n",
              "// This is roughly an async generator (not supported in the browser yet),\n",
              "// where there are multiple asynchronous steps and the Python side is going\n",
              "// to poll for completion of each step.\n",
              "// This uses a Promise to block the python side on completion of each step,\n",
              "// then passes the result of the previous step as the input to the next step.\n",
              "function _uploadFilesContinue(outputId) {\n",
              "  const outputElement = document.getElementById(outputId);\n",
              "  const steps = outputElement.steps;\n",
              "\n",
              "  const next = steps.next(outputElement.lastPromiseValue);\n",
              "  return Promise.resolve(next.value.promise).then((value) => {\n",
              "    // Cache the last promise value to make it available to the next\n",
              "    // step of the generator.\n",
              "    outputElement.lastPromiseValue = value;\n",
              "    return next.value.response;\n",
              "  });\n",
              "}\n",
              "\n",
              "/**\n",
              " * Generator function which is called between each async step of the upload\n",
              " * process.\n",
              " * @param {string} inputId Element ID of the input file picker element.\n",
              " * @param {string} outputId Element ID of the output display.\n",
              " * @return {!Iterable<!Object>} Iterable of next steps.\n",
              " */\n",
              "function* uploadFilesStep(inputId, outputId) {\n",
              "  const inputElement = document.getElementById(inputId);\n",
              "  inputElement.disabled = false;\n",
              "\n",
              "  const outputElement = document.getElementById(outputId);\n",
              "  outputElement.innerHTML = '';\n",
              "\n",
              "  const pickedPromise = new Promise((resolve) => {\n",
              "    inputElement.addEventListener('change', (e) => {\n",
              "      resolve(e.target.files);\n",
              "    });\n",
              "  });\n",
              "\n",
              "  const cancel = document.createElement('button');\n",
              "  inputElement.parentElement.appendChild(cancel);\n",
              "  cancel.textContent = 'Cancel upload';\n",
              "  const cancelPromise = new Promise((resolve) => {\n",
              "    cancel.onclick = () => {\n",
              "      resolve(null);\n",
              "    };\n",
              "  });\n",
              "\n",
              "  // Wait for the user to pick the files.\n",
              "  const files = yield {\n",
              "    promise: Promise.race([pickedPromise, cancelPromise]),\n",
              "    response: {\n",
              "      action: 'starting',\n",
              "    }\n",
              "  };\n",
              "\n",
              "  cancel.remove();\n",
              "\n",
              "  // Disable the input element since further picks are not allowed.\n",
              "  inputElement.disabled = true;\n",
              "\n",
              "  if (!files) {\n",
              "    return {\n",
              "      response: {\n",
              "        action: 'complete',\n",
              "      }\n",
              "    };\n",
              "  }\n",
              "\n",
              "  for (const file of files) {\n",
              "    const li = document.createElement('li');\n",
              "    li.append(span(file.name, {fontWeight: 'bold'}));\n",
              "    li.append(span(\n",
              "        `(${file.type || 'n/a'}) - ${file.size} bytes, ` +\n",
              "        `last modified: ${\n",
              "            file.lastModifiedDate ? file.lastModifiedDate.toLocaleDateString() :\n",
              "                                    'n/a'} - `));\n",
              "    const percent = span('0% done');\n",
              "    li.appendChild(percent);\n",
              "\n",
              "    outputElement.appendChild(li);\n",
              "\n",
              "    const fileDataPromise = new Promise((resolve) => {\n",
              "      const reader = new FileReader();\n",
              "      reader.onload = (e) => {\n",
              "        resolve(e.target.result);\n",
              "      };\n",
              "      reader.readAsArrayBuffer(file);\n",
              "    });\n",
              "    // Wait for the data to be ready.\n",
              "    let fileData = yield {\n",
              "      promise: fileDataPromise,\n",
              "      response: {\n",
              "        action: 'continue',\n",
              "      }\n",
              "    };\n",
              "\n",
              "    // Use a chunked sending to avoid message size limits. See b/62115660.\n",
              "    let position = 0;\n",
              "    do {\n",
              "      const length = Math.min(fileData.byteLength - position, MAX_PAYLOAD_SIZE);\n",
              "      const chunk = new Uint8Array(fileData, position, length);\n",
              "      position += length;\n",
              "\n",
              "      const base64 = btoa(String.fromCharCode.apply(null, chunk));\n",
              "      yield {\n",
              "        response: {\n",
              "          action: 'append',\n",
              "          file: file.name,\n",
              "          data: base64,\n",
              "        },\n",
              "      };\n",
              "\n",
              "      let percentDone = fileData.byteLength === 0 ?\n",
              "          100 :\n",
              "          Math.round((position / fileData.byteLength) * 100);\n",
              "      percent.textContent = `${percentDone}% done`;\n",
              "\n",
              "    } while (position < fileData.byteLength);\n",
              "  }\n",
              "\n",
              "  // All done.\n",
              "  yield {\n",
              "    response: {\n",
              "      action: 'complete',\n",
              "    }\n",
              "  };\n",
              "}\n",
              "\n",
              "scope.google = scope.google || {};\n",
              "scope.google.colab = scope.google.colab || {};\n",
              "scope.google.colab._files = {\n",
              "  _uploadFiles,\n",
              "  _uploadFilesContinue,\n",
              "};\n",
              "})(self);\n",
              "</script> "
            ]
          },
          "metadata": {}
        },
        {
          "output_type": "stream",
          "name": "stdout",
          "text": [
            "Saving tweets_raw_twitteracquisition_20221110_173137_20221215_192524.csv to tweets_raw_twitteracquisition_20221110_173137_20221215_192524 (2).csv\n",
            "Tweet raw datafile should have been created with this notebook with the filename format:\n",
            "   tweets_raw_<search_term>_<start_date>-<end_date>.csv\n",
            "   e.g. 'tweets_raw_elonmusk_2022-10-01_2022-12-04.csv'\n",
            "\n",
            "\n",
            "User uploaded file \"tweets_raw_twitteracquisition_20221110_173137_20221215_192524.csv\" with length 2827459 bytes\n",
            "\n",
            "\n",
            "Search Term: twitteracquisition\n",
            "  start_date: 20221110\n",
            "  end_date: 20221215\n",
            "\n",
            "\n",
            "tweet_str: tweets\n",
            "text_state_str: raw\n",
            "search_str: twitteracquisition\n",
            "start_date: 20221110\n",
            "start_time: 173137\n",
            "end_date: 20221215\n",
            "end_time: 192524\n",
            "CPU times: user 388 ms, sys: 38.9 ms, total: 426 ms\n",
            "Wall time: 19.6 s\n"
          ]
        }
      ],
      "source": [
        "%%time\n",
        "\n",
        "# NOTE: 1m07s\n",
        "\n",
        "# Upload Plain Text File\n",
        "uploaded = files.upload()\n",
        "datafile_name = ''\n",
        "\n",
        "# NOTE: Allows for multiple file uploads, will only process the last\n",
        "#       Left in for future feature addition (processing multiple files at once)\n",
        "\n",
        "print(f\"Tweet raw datafile should have been created with this notebook with the filename format:\")\n",
        "print(f\"   tweets_raw_<search_term>_<start_date>-<end_date>.csv\")\n",
        "print(f\"   e.g. 'tweets_raw_elonmusk_2022-10-01_2022-12-04.csv'\\n\\n\")\n",
        "\n",
        "for fn in uploaded.keys():\n",
        "  print('User uploaded file \"{name}\" with length {length} bytes'.format(\n",
        "      name=fn, length=len(uploaded[fn])))\n",
        "  datafile_name = fn\n",
        "\n",
        "# Parse raw tweet datafile filename to extract key search parameters\n",
        "try:\n",
        "  word1, word2, file_search_term, file_start_date, file_start_time, file_end_date, file_end_time = datafile_name.split('_')\n",
        "  if (word1 =='tweets') & (word2 == 'raw'):\n",
        "    search_term = file_search_term\n",
        "    start_date = file_start_date\n",
        "    end_date = file_end_date.split('.')[0]  # trim '.csv' suffix\n",
        "    print(f'\\n\\nSearch Term: {search_term}\\n  start_date: {start_date}\\n  end_date: {end_date}\\n\\n')\n",
        "  else:\n",
        "    print(f'ILLEGAL FILENAME: {datafile_name}\\n  Tweets datafile name must begin with prefix [tweets_raw_]')\n",
        "except:\n",
        "  print(f'ILLEGAL FILENAME: {datafile_name}\\n  cannot parse Tweets datafile name')\n",
        "\n",
        "\n",
        "# Parse out search dates based upon filename\n",
        "\n",
        "tweet_str, text_state_str, search_str, start_date, start_time, end_date, end_time = datafile_name.split('_')\n",
        "end_time = ''.join(end_time.split('.')[:-1])\n",
        "\n",
        "print(f'tweet_str: {tweet_str}')\n",
        "print(f'text_state_str: {text_state_str}')\n",
        "print(f'search_str: {search_str}')\n",
        "print(f'start_date: {start_date}')\n",
        "print(f'start_time: {start_time}')\n",
        "print(f'end_date: {end_date}')\n",
        "print(f'end_time: {end_time}')"
      ]
    },
    {
      "cell_type": "code",
      "execution_count": 98,
      "metadata": {
        "id": "I-FYaIEmcHjD",
        "colab": {
          "base_uri": "https://localhost:8080/"
        },
        "outputId": "3060302a-7384-4f8a-f3ba-9a104d9a4e50"
      },
      "outputs": [
        {
          "output_type": "stream",
          "name": "stdout",
          "text": [
            "datetime,id,tweet,username,reply_ct,retweet_ct,like_ct,quote_ct,retweeted_id,quoted_id\n",
            "2022-11-10 17:31:37+00:00,1590759092447891457,@elonmusk Well Elon— I am new to twitter because of you. I even paid my $8– because I appreciate your acquisition,sarbaughtina1,0,0,0,0,,\n",
            "2022-11-10 17:33:50+00:00,1590759652522065920,\"I would think because Musk’s acquisition of Twitter had ZERO good intent, making the purchase could be construed as tool to willfully squelch the FREE SPEECH of millions of regular citizens &amp; activists. \n",
            "But such would have to be proven in a court of law.\",slicoricetea,1,0,0,0,,\n",
            "2022-11-10 17:34:04+00:00,1590759711267500033,@ShiLLin_ViLLian No twitter acquisition 😂,xerocooleth,0,0,0,0,,\n"
          ]
        }
      ],
      "source": [
        "!head -n 5 $datafile_name"
      ]
    },
    {
      "cell_type": "code",
      "source": [
        "# DEBUG\n",
        "\n",
        "# Reading and Write File to Filter out Illegal utf-8 characters\n",
        "# https://stackoverflow.com/questions/12468179/unicodedecodeerror-utf8-codec-cant-decode-byte-0x9c\n",
        "\"\"\"\n",
        "import codecs\n",
        "\n",
        "with codecs.open(datafile_name, 'r', encoding='utf-8', errors='ignore') as fp:\n",
        "  datafile_str = fp.read()\n",
        "\n",
        "print(datafile_str[:1000])\n",
        "\n",
        "# os.copy back up with timestamp\n",
        "import shutil\n",
        "\n",
        "datetime_str = datetime.datetime.now().strftime(\"%Y%m%d_%H%M%S\")\n",
        "\n",
        "datafile_root = ' '.join(datafile_name.split('.')[:-1])\n",
        "datafile_backup = f\"{datafile_root}_backup_{datetime_str}.csv\"\n",
        "\n",
        "shutil.copy2(datafile_name, datafile_backup) # complete target filename given\n",
        "\n",
        "# overwrite clean/filtered data to original filename\n",
        "with open(datafile_name, \"w\", encoding='utf-8') as fp:\n",
        "  fp.write(datafile_str)\n",
        "\n",
        "os.listdir()\n",
        "\"\"\";"
      ],
      "metadata": {
        "id": "vhe6Rtq5gJtY"
      },
      "execution_count": 99,
      "outputs": []
    },
    {
      "cell_type": "code",
      "source": [
        "# DEBUG\n",
        "\n",
        "# Another approach to overcome pd.read_csv() read errors\n",
        "\n",
        "\"\"\"\n",
        "import io   \n",
        "\n",
        "TESTDATA=col1;col2;col3\n",
        "1;4.4;99\n",
        "2;4.5;200\n",
        "3;4.7;65\n",
        "4;3.2;140\n",
        "\n",
        "\n",
        "df = pd.read_csv(io.StringIO(TESTDATA), sep=\";\")\n",
        "# df = pd.read_csv(io.StringIO(datafile_str), sep=\",\")\n",
        "print(df)\n",
        "\"\"\";"
      ],
      "metadata": {
        "id": "jPGQCuDUoE0E"
      },
      "execution_count": 100,
      "outputs": []
    },
    {
      "cell_type": "code",
      "execution_count": 101,
      "metadata": {
        "id": "XYY6Ei6F848w",
        "colab": {
          "base_uri": "https://localhost:8080/",
          "height": 661
        },
        "outputId": "87989e8e-515e-4234-8efc-dbe70a175555"
      },
      "outputs": [
        {
          "output_type": "execute_result",
          "data": {
            "text/plain": [
              "                    datetime                   id  \\\n",
              "0  2022-11-10 17:31:37+00:00  1590759092447891457   \n",
              "1  2022-11-10 17:33:50+00:00  1590759652522065920   \n",
              "2  2022-11-10 17:34:04+00:00  1590759711267500033   \n",
              "3  2022-11-10 17:34:15+00:00  1590759756880232449   \n",
              "4  2022-11-10 17:35:06+00:00  1590759969951207424   \n",
              "\n",
              "                                               tweet         username  \\\n",
              "0  @elonmusk Well Elon— I am new to twitter becau...    sarbaughtina1   \n",
              "1  I would think because Musk’s acquisition of Tw...     slicoricetea   \n",
              "2          @ShiLLin_ViLLian No twitter acquisition 😂      xerocooleth   \n",
              "3  Joe Biden says there are “lots of ways” Elon M...  Sherman4Liberty   \n",
              "4  On #NationalSecurity: Elon Musk and Twitter's ...       CMA_Social   \n",
              "\n",
              "   reply_ct  retweet_ct  like_ct  quote_ct  retweeted_id quoted_id  \n",
              "0         0           0        0         0           NaN       NaN  \n",
              "1         1           0        0         0           NaN       NaN  \n",
              "2         0           0        0         0           NaN       NaN  \n",
              "3         0           0        0         0           NaN       NaN  \n",
              "4         0           0        0         0           NaN       NaN  "
            ],
            "text/html": [
              "\n",
              "  <div id=\"df-0817bb3e-d754-49bd-8e41-7a6c078ea556\">\n",
              "    <div class=\"colab-df-container\">\n",
              "      <div>\n",
              "<style scoped>\n",
              "    .dataframe tbody tr th:only-of-type {\n",
              "        vertical-align: middle;\n",
              "    }\n",
              "\n",
              "    .dataframe tbody tr th {\n",
              "        vertical-align: top;\n",
              "    }\n",
              "\n",
              "    .dataframe thead th {\n",
              "        text-align: right;\n",
              "    }\n",
              "</style>\n",
              "<table border=\"1\" class=\"dataframe\">\n",
              "  <thead>\n",
              "    <tr style=\"text-align: right;\">\n",
              "      <th></th>\n",
              "      <th>datetime</th>\n",
              "      <th>id</th>\n",
              "      <th>tweet</th>\n",
              "      <th>username</th>\n",
              "      <th>reply_ct</th>\n",
              "      <th>retweet_ct</th>\n",
              "      <th>like_ct</th>\n",
              "      <th>quote_ct</th>\n",
              "      <th>retweeted_id</th>\n",
              "      <th>quoted_id</th>\n",
              "    </tr>\n",
              "  </thead>\n",
              "  <tbody>\n",
              "    <tr>\n",
              "      <th>0</th>\n",
              "      <td>2022-11-10 17:31:37+00:00</td>\n",
              "      <td>1590759092447891457</td>\n",
              "      <td>@elonmusk Well Elon— I am new to twitter becau...</td>\n",
              "      <td>sarbaughtina1</td>\n",
              "      <td>0</td>\n",
              "      <td>0</td>\n",
              "      <td>0</td>\n",
              "      <td>0</td>\n",
              "      <td>NaN</td>\n",
              "      <td>NaN</td>\n",
              "    </tr>\n",
              "    <tr>\n",
              "      <th>1</th>\n",
              "      <td>2022-11-10 17:33:50+00:00</td>\n",
              "      <td>1590759652522065920</td>\n",
              "      <td>I would think because Musk’s acquisition of Tw...</td>\n",
              "      <td>slicoricetea</td>\n",
              "      <td>1</td>\n",
              "      <td>0</td>\n",
              "      <td>0</td>\n",
              "      <td>0</td>\n",
              "      <td>NaN</td>\n",
              "      <td>NaN</td>\n",
              "    </tr>\n",
              "    <tr>\n",
              "      <th>2</th>\n",
              "      <td>2022-11-10 17:34:04+00:00</td>\n",
              "      <td>1590759711267500033</td>\n",
              "      <td>@ShiLLin_ViLLian No twitter acquisition 😂</td>\n",
              "      <td>xerocooleth</td>\n",
              "      <td>0</td>\n",
              "      <td>0</td>\n",
              "      <td>0</td>\n",
              "      <td>0</td>\n",
              "      <td>NaN</td>\n",
              "      <td>NaN</td>\n",
              "    </tr>\n",
              "    <tr>\n",
              "      <th>3</th>\n",
              "      <td>2022-11-10 17:34:15+00:00</td>\n",
              "      <td>1590759756880232449</td>\n",
              "      <td>Joe Biden says there are “lots of ways” Elon M...</td>\n",
              "      <td>Sherman4Liberty</td>\n",
              "      <td>0</td>\n",
              "      <td>0</td>\n",
              "      <td>0</td>\n",
              "      <td>0</td>\n",
              "      <td>NaN</td>\n",
              "      <td>NaN</td>\n",
              "    </tr>\n",
              "    <tr>\n",
              "      <th>4</th>\n",
              "      <td>2022-11-10 17:35:06+00:00</td>\n",
              "      <td>1590759969951207424</td>\n",
              "      <td>On #NationalSecurity: Elon Musk and Twitter's ...</td>\n",
              "      <td>CMA_Social</td>\n",
              "      <td>0</td>\n",
              "      <td>0</td>\n",
              "      <td>0</td>\n",
              "      <td>0</td>\n",
              "      <td>NaN</td>\n",
              "      <td>NaN</td>\n",
              "    </tr>\n",
              "  </tbody>\n",
              "</table>\n",
              "</div>\n",
              "      <button class=\"colab-df-convert\" onclick=\"convertToInteractive('df-0817bb3e-d754-49bd-8e41-7a6c078ea556')\"\n",
              "              title=\"Convert this dataframe to an interactive table.\"\n",
              "              style=\"display:none;\">\n",
              "        \n",
              "  <svg xmlns=\"http://www.w3.org/2000/svg\" height=\"24px\"viewBox=\"0 0 24 24\"\n",
              "       width=\"24px\">\n",
              "    <path d=\"M0 0h24v24H0V0z\" fill=\"none\"/>\n",
              "    <path d=\"M18.56 5.44l.94 2.06.94-2.06 2.06-.94-2.06-.94-.94-2.06-.94 2.06-2.06.94zm-11 1L8.5 8.5l.94-2.06 2.06-.94-2.06-.94L8.5 2.5l-.94 2.06-2.06.94zm10 10l.94 2.06.94-2.06 2.06-.94-2.06-.94-.94-2.06-.94 2.06-2.06.94z\"/><path d=\"M17.41 7.96l-1.37-1.37c-.4-.4-.92-.59-1.43-.59-.52 0-1.04.2-1.43.59L10.3 9.45l-7.72 7.72c-.78.78-.78 2.05 0 2.83L4 21.41c.39.39.9.59 1.41.59.51 0 1.02-.2 1.41-.59l7.78-7.78 2.81-2.81c.8-.78.8-2.07 0-2.86zM5.41 20L4 18.59l7.72-7.72 1.47 1.35L5.41 20z\"/>\n",
              "  </svg>\n",
              "      </button>\n",
              "      \n",
              "  <style>\n",
              "    .colab-df-container {\n",
              "      display:flex;\n",
              "      flex-wrap:wrap;\n",
              "      gap: 12px;\n",
              "    }\n",
              "\n",
              "    .colab-df-convert {\n",
              "      background-color: #E8F0FE;\n",
              "      border: none;\n",
              "      border-radius: 50%;\n",
              "      cursor: pointer;\n",
              "      display: none;\n",
              "      fill: #1967D2;\n",
              "      height: 32px;\n",
              "      padding: 0 0 0 0;\n",
              "      width: 32px;\n",
              "    }\n",
              "\n",
              "    .colab-df-convert:hover {\n",
              "      background-color: #E2EBFA;\n",
              "      box-shadow: 0px 1px 2px rgba(60, 64, 67, 0.3), 0px 1px 3px 1px rgba(60, 64, 67, 0.15);\n",
              "      fill: #174EA6;\n",
              "    }\n",
              "\n",
              "    [theme=dark] .colab-df-convert {\n",
              "      background-color: #3B4455;\n",
              "      fill: #D2E3FC;\n",
              "    }\n",
              "\n",
              "    [theme=dark] .colab-df-convert:hover {\n",
              "      background-color: #434B5C;\n",
              "      box-shadow: 0px 1px 3px 1px rgba(0, 0, 0, 0.15);\n",
              "      filter: drop-shadow(0px 1px 2px rgba(0, 0, 0, 0.3));\n",
              "      fill: #FFFFFF;\n",
              "    }\n",
              "  </style>\n",
              "\n",
              "      <script>\n",
              "        const buttonEl =\n",
              "          document.querySelector('#df-0817bb3e-d754-49bd-8e41-7a6c078ea556 button.colab-df-convert');\n",
              "        buttonEl.style.display =\n",
              "          google.colab.kernel.accessAllowed ? 'block' : 'none';\n",
              "\n",
              "        async function convertToInteractive(key) {\n",
              "          const element = document.querySelector('#df-0817bb3e-d754-49bd-8e41-7a6c078ea556');\n",
              "          const dataTable =\n",
              "            await google.colab.kernel.invokeFunction('convertToInteractive',\n",
              "                                                     [key], {});\n",
              "          if (!dataTable) return;\n",
              "\n",
              "          const docLinkHtml = 'Like what you see? Visit the ' +\n",
              "            '<a target=\"_blank\" href=https://colab.research.google.com/notebooks/data_table.ipynb>data table notebook</a>'\n",
              "            + ' to learn more about interactive tables.';\n",
              "          element.innerHTML = '';\n",
              "          dataTable['output_type'] = 'display_data';\n",
              "          await google.colab.output.renderOutput(dataTable, element);\n",
              "          const docLink = document.createElement('div');\n",
              "          docLink.innerHTML = docLinkHtml;\n",
              "          element.appendChild(docLink);\n",
              "        }\n",
              "      </script>\n",
              "    </div>\n",
              "  </div>\n",
              "  "
            ]
          },
          "metadata": {},
          "execution_count": 101
        },
        {
          "output_type": "stream",
          "name": "stdout",
          "text": [
            "<class 'pandas.core.frame.DataFrame'>\n",
            "RangeIndex: 10000 entries, 0 to 9999\n",
            "Data columns (total 10 columns):\n",
            " #   Column        Non-Null Count  Dtype  \n",
            "---  ------        --------------  -----  \n",
            " 0   datetime      10000 non-null  object \n",
            " 1   id            10000 non-null  int64  \n",
            " 2   tweet         10000 non-null  object \n",
            " 3   username      10000 non-null  object \n",
            " 4   reply_ct      10000 non-null  int64  \n",
            " 5   retweet_ct    10000 non-null  int64  \n",
            " 6   like_ct       10000 non-null  int64  \n",
            " 7   quote_ct      10000 non-null  int64  \n",
            " 8   retweeted_id  0 non-null      float64\n",
            " 9   quoted_id     705 non-null    object \n",
            "dtypes: float64(1), int64(5), object(4)\n",
            "memory usage: 781.4+ KB\n",
            "SUCCESS: Tweets datafile [tweets_raw_twitteracquisition_20221110_173137_20221215_192524.csv] read into DataFrame 'data_df'\n"
          ]
        }
      ],
      "source": [
        "# Read raw tweet datafile into DataFrame 'data'\n",
        "\n",
        "# NOTE: Tweets have many encoding and other parsing errors so\n",
        "#       just do basic read and then try to set dtype\n",
        "\n",
        "try:\n",
        "  headers = ['datetime','id','tweet','username','reply_ct','retweet_ct','like_ct','quote_ct','retweeted_id','quoted_id']\n",
        "  dtypes_dt = {'datetime': str,\n",
        "            'id': int,\n",
        "            'tweet': str,\n",
        "            'username':str,\n",
        "            'reply_ct':int,\n",
        "            'retweet_ct':int,\n",
        "            'like_ct':int,\n",
        "            'quote_ct':int,\n",
        "            'retweeted_id':str,\n",
        "            'quoted_id':str}\n",
        "  parse_dates = ['datetime']\n",
        "  data_df = pd.read_csv(datafile_name, index_col=None) # , dtype=dtypes_dt) # , skiprows=[0]) # , names=headers) # , dtype=dtypes) # , parse_dates=parse_dates, index_col=None, on_bad_lines='ignore') # encoding='utf-8', on_bad_lines='ignore')\n",
        "  # data_df = pd.read_csv(datafile_name)\n",
        "  data_df.head()\n",
        "  data_df.info()\n",
        "  print(f\"SUCCESS: Tweets datafile [{datafile_name}] read into DataFrame 'data_df'\")\n",
        "except:\n",
        "  print(f'ERROR: Tweets datafile [{datafile_name}] cannot be read by pd.read_csv')"
      ]
    },
    {
      "cell_type": "code",
      "source": [
        "# Drop unused columns\n",
        "\n",
        "if 'reply_ct' in data_df.columns:\n",
        "  data_df.drop(columns=['reply_ct'], inplace=True)\n",
        "\n",
        "if 'retweet_ct' in data_df.columns:\n",
        "  data_df.drop(columns=['retweet_ct'], inplace=True)\n",
        "\n",
        "if 'like_ct' in data_df.columns:\n",
        "  data_df.drop(columns=['like_ct'], inplace=True)\n",
        "\n",
        "if 'quote_ct' in data_df.columns:\n",
        "  data_df.drop(columns=['quote_ct'], inplace=True)\n",
        "\n",
        "if 'retweeted_id' in data_df.columns:\n",
        "  data_df.drop(columns=['retweeted_id'], inplace=True)\n",
        "\n",
        "if 'quoted_id' in data_df.columns:\n",
        "  data_df.drop(columns=['quoted_id'], inplace=True)\n",
        "\n",
        "data_df.info()"
      ],
      "metadata": {
        "id": "NUcwYvww9RsT",
        "colab": {
          "base_uri": "https://localhost:8080/"
        },
        "outputId": "f2b629e3-1732-483f-b57a-9d6c1e267fef"
      },
      "execution_count": 102,
      "outputs": [
        {
          "output_type": "stream",
          "name": "stdout",
          "text": [
            "<class 'pandas.core.frame.DataFrame'>\n",
            "RangeIndex: 10000 entries, 0 to 9999\n",
            "Data columns (total 4 columns):\n",
            " #   Column    Non-Null Count  Dtype \n",
            "---  ------    --------------  ----- \n",
            " 0   datetime  10000 non-null  object\n",
            " 1   id        10000 non-null  int64 \n",
            " 2   tweet     10000 non-null  object\n",
            " 3   username  10000 non-null  object\n",
            "dtypes: int64(1), object(3)\n",
            "memory usage: 312.6+ KB\n"
          ]
        }
      ]
    },
    {
      "cell_type": "code",
      "source": [
        "# DEBUG\n",
        "\n",
        "# data_df.iloc[8740:8750].datetime"
      ],
      "metadata": {
        "id": "iu8JrlEg1ec-"
      },
      "execution_count": 103,
      "outputs": []
    },
    {
      "cell_type": "code",
      "source": [
        "# Clean and drop illegal datetime values\n",
        "\n",
        "data_df['datetime'] = pd.to_datetime(data_df['datetime'], errors='coerce')\n",
        "data_df = data_df.dropna(subset=['datetime'])\n",
        "data_df.info()\n"
      ],
      "metadata": {
        "id": "ptZJf7UK25Gt",
        "colab": {
          "base_uri": "https://localhost:8080/"
        },
        "outputId": "1200316f-352d-41d9-fb38-fb646c7a3d53"
      },
      "execution_count": 104,
      "outputs": [
        {
          "output_type": "stream",
          "name": "stdout",
          "text": [
            "<class 'pandas.core.frame.DataFrame'>\n",
            "RangeIndex: 10000 entries, 0 to 9999\n",
            "Data columns (total 4 columns):\n",
            " #   Column    Non-Null Count  Dtype              \n",
            "---  ------    --------------  -----              \n",
            " 0   datetime  10000 non-null  datetime64[ns, UTC]\n",
            " 1   id        10000 non-null  int64              \n",
            " 2   tweet     10000 non-null  object             \n",
            " 3   username  10000 non-null  object             \n",
            "dtypes: datetime64[ns, UTC](1), int64(1), object(2)\n",
            "memory usage: 312.6+ KB\n"
          ]
        }
      ]
    },
    {
      "cell_type": "code",
      "source": [
        "# Drop any row that have at any NaN\n",
        "\n",
        "data_df.dropna(inplace=True)\n",
        "data_df.info()"
      ],
      "metadata": {
        "id": "QKHL-YNE-klN",
        "colab": {
          "base_uri": "https://localhost:8080/"
        },
        "outputId": "f6c7e9f2-924e-4403-aefc-723adb8e01a4"
      },
      "execution_count": 105,
      "outputs": [
        {
          "output_type": "stream",
          "name": "stdout",
          "text": [
            "<class 'pandas.core.frame.DataFrame'>\n",
            "RangeIndex: 10000 entries, 0 to 9999\n",
            "Data columns (total 4 columns):\n",
            " #   Column    Non-Null Count  Dtype              \n",
            "---  ------    --------------  -----              \n",
            " 0   datetime  10000 non-null  datetime64[ns, UTC]\n",
            " 1   id        10000 non-null  int64              \n",
            " 2   tweet     10000 non-null  object             \n",
            " 3   username  10000 non-null  object             \n",
            "dtypes: datetime64[ns, UTC](1), int64(1), object(2)\n",
            "memory usage: 312.6+ KB\n"
          ]
        }
      ]
    },
    {
      "cell_type": "code",
      "source": [
        "data_df['text_raw'] = data_df['tweet']\n",
        "\n",
        "data_df['text_raw_type'] = data_df['text_raw'].apply(lambda x: type(x))\n",
        "data_df['text_raw_type'].value_counts()"
      ],
      "metadata": {
        "id": "urJml1NbCA-1",
        "colab": {
          "base_uri": "https://localhost:8080/"
        },
        "outputId": "d3fd6d52-ded6-4586-cece-635d990f7a6f"
      },
      "execution_count": 106,
      "outputs": [
        {
          "output_type": "execute_result",
          "data": {
            "text/plain": [
              "<class 'str'>    10000\n",
              "Name: text_raw_type, dtype: int64"
            ]
          },
          "metadata": {},
          "execution_count": 106
        }
      ]
    },
    {
      "cell_type": "code",
      "source": [
        "data_df.convert_dtypes()\n",
        "data_df.info()"
      ],
      "metadata": {
        "id": "EIfvPDgQBNoS",
        "colab": {
          "base_uri": "https://localhost:8080/",
          "height": 875
        },
        "outputId": "a8786af2-e9ad-4a95-b6ce-9e5f053f1aa3"
      },
      "execution_count": 107,
      "outputs": [
        {
          "output_type": "execute_result",
          "data": {
            "text/plain": [
              "                      datetime                   id  \\\n",
              "0    2022-11-10 17:31:37+00:00  1590759092447891457   \n",
              "1    2022-11-10 17:33:50+00:00  1590759652522065920   \n",
              "2    2022-11-10 17:34:04+00:00  1590759711267500033   \n",
              "3    2022-11-10 17:34:15+00:00  1590759756880232449   \n",
              "4    2022-11-10 17:35:06+00:00  1590759969951207424   \n",
              "...                        ...                  ...   \n",
              "9995 2022-12-15 19:12:29+00:00  1603468054716944399   \n",
              "9996 2022-12-15 19:12:38+00:00  1603468089517084675   \n",
              "9997 2022-12-15 19:13:28+00:00  1603468302420172800   \n",
              "9998 2022-12-15 19:21:49+00:00  1603470403627757568   \n",
              "9999 2022-12-15 19:25:24+00:00  1603471304107384832   \n",
              "\n",
              "                                                  tweet         username  \\\n",
              "0     @elonmusk Well Elon— I am new to twitter becau...    sarbaughtina1   \n",
              "1     I would think because Musk’s acquisition of Tw...     slicoricetea   \n",
              "2             @ShiLLin_ViLLian No twitter acquisition 😂      xerocooleth   \n",
              "3     Joe Biden says there are “lots of ways” Elon M...  Sherman4Liberty   \n",
              "4     On #NationalSecurity: Elon Musk and Twitter's ...       CMA_Social   \n",
              "...                                                 ...              ...   \n",
              "9995  @DoakFinancial @CAVandy We know why in this ca...      FermisSocks   \n",
              "9996  @elonmusk @Teslaconomics Your 'exposure' profi...   JohannaKristn7   \n",
              "9997  Andy Vermaut shares:Twitter Must Inform Laid-O...      AndyVermaut   \n",
              "9998  @joel_keranen @_jameshatfield_ @WholeMarsBlog ...        alwarming   \n",
              "9999  At his peak, he owned about a quarter of the c...     wallisweaver   \n",
              "\n",
              "                                               text_raw  text_raw_type  \n",
              "0     @elonmusk Well Elon— I am new to twitter becau...  <class 'str'>  \n",
              "1     I would think because Musk’s acquisition of Tw...  <class 'str'>  \n",
              "2             @ShiLLin_ViLLian No twitter acquisition 😂  <class 'str'>  \n",
              "3     Joe Biden says there are “lots of ways” Elon M...  <class 'str'>  \n",
              "4     On #NationalSecurity: Elon Musk and Twitter's ...  <class 'str'>  \n",
              "...                                                 ...            ...  \n",
              "9995  @DoakFinancial @CAVandy We know why in this ca...  <class 'str'>  \n",
              "9996  @elonmusk @Teslaconomics Your 'exposure' profi...  <class 'str'>  \n",
              "9997  Andy Vermaut shares:Twitter Must Inform Laid-O...  <class 'str'>  \n",
              "9998  @joel_keranen @_jameshatfield_ @WholeMarsBlog ...  <class 'str'>  \n",
              "9999  At his peak, he owned about a quarter of the c...  <class 'str'>  \n",
              "\n",
              "[10000 rows x 6 columns]"
            ],
            "text/html": [
              "\n",
              "  <div id=\"df-47e5cef3-0aae-481a-bc98-e888ba0a55a9\">\n",
              "    <div class=\"colab-df-container\">\n",
              "      <div>\n",
              "<style scoped>\n",
              "    .dataframe tbody tr th:only-of-type {\n",
              "        vertical-align: middle;\n",
              "    }\n",
              "\n",
              "    .dataframe tbody tr th {\n",
              "        vertical-align: top;\n",
              "    }\n",
              "\n",
              "    .dataframe thead th {\n",
              "        text-align: right;\n",
              "    }\n",
              "</style>\n",
              "<table border=\"1\" class=\"dataframe\">\n",
              "  <thead>\n",
              "    <tr style=\"text-align: right;\">\n",
              "      <th></th>\n",
              "      <th>datetime</th>\n",
              "      <th>id</th>\n",
              "      <th>tweet</th>\n",
              "      <th>username</th>\n",
              "      <th>text_raw</th>\n",
              "      <th>text_raw_type</th>\n",
              "    </tr>\n",
              "  </thead>\n",
              "  <tbody>\n",
              "    <tr>\n",
              "      <th>0</th>\n",
              "      <td>2022-11-10 17:31:37+00:00</td>\n",
              "      <td>1590759092447891457</td>\n",
              "      <td>@elonmusk Well Elon— I am new to twitter becau...</td>\n",
              "      <td>sarbaughtina1</td>\n",
              "      <td>@elonmusk Well Elon— I am new to twitter becau...</td>\n",
              "      <td>&lt;class 'str'&gt;</td>\n",
              "    </tr>\n",
              "    <tr>\n",
              "      <th>1</th>\n",
              "      <td>2022-11-10 17:33:50+00:00</td>\n",
              "      <td>1590759652522065920</td>\n",
              "      <td>I would think because Musk’s acquisition of Tw...</td>\n",
              "      <td>slicoricetea</td>\n",
              "      <td>I would think because Musk’s acquisition of Tw...</td>\n",
              "      <td>&lt;class 'str'&gt;</td>\n",
              "    </tr>\n",
              "    <tr>\n",
              "      <th>2</th>\n",
              "      <td>2022-11-10 17:34:04+00:00</td>\n",
              "      <td>1590759711267500033</td>\n",
              "      <td>@ShiLLin_ViLLian No twitter acquisition 😂</td>\n",
              "      <td>xerocooleth</td>\n",
              "      <td>@ShiLLin_ViLLian No twitter acquisition 😂</td>\n",
              "      <td>&lt;class 'str'&gt;</td>\n",
              "    </tr>\n",
              "    <tr>\n",
              "      <th>3</th>\n",
              "      <td>2022-11-10 17:34:15+00:00</td>\n",
              "      <td>1590759756880232449</td>\n",
              "      <td>Joe Biden says there are “lots of ways” Elon M...</td>\n",
              "      <td>Sherman4Liberty</td>\n",
              "      <td>Joe Biden says there are “lots of ways” Elon M...</td>\n",
              "      <td>&lt;class 'str'&gt;</td>\n",
              "    </tr>\n",
              "    <tr>\n",
              "      <th>4</th>\n",
              "      <td>2022-11-10 17:35:06+00:00</td>\n",
              "      <td>1590759969951207424</td>\n",
              "      <td>On #NationalSecurity: Elon Musk and Twitter's ...</td>\n",
              "      <td>CMA_Social</td>\n",
              "      <td>On #NationalSecurity: Elon Musk and Twitter's ...</td>\n",
              "      <td>&lt;class 'str'&gt;</td>\n",
              "    </tr>\n",
              "    <tr>\n",
              "      <th>...</th>\n",
              "      <td>...</td>\n",
              "      <td>...</td>\n",
              "      <td>...</td>\n",
              "      <td>...</td>\n",
              "      <td>...</td>\n",
              "      <td>...</td>\n",
              "    </tr>\n",
              "    <tr>\n",
              "      <th>9995</th>\n",
              "      <td>2022-12-15 19:12:29+00:00</td>\n",
              "      <td>1603468054716944399</td>\n",
              "      <td>@DoakFinancial @CAVandy We know why in this ca...</td>\n",
              "      <td>FermisSocks</td>\n",
              "      <td>@DoakFinancial @CAVandy We know why in this ca...</td>\n",
              "      <td>&lt;class 'str'&gt;</td>\n",
              "    </tr>\n",
              "    <tr>\n",
              "      <th>9996</th>\n",
              "      <td>2022-12-15 19:12:38+00:00</td>\n",
              "      <td>1603468089517084675</td>\n",
              "      <td>@elonmusk @Teslaconomics Your 'exposure' profi...</td>\n",
              "      <td>JohannaKristn7</td>\n",
              "      <td>@elonmusk @Teslaconomics Your 'exposure' profi...</td>\n",
              "      <td>&lt;class 'str'&gt;</td>\n",
              "    </tr>\n",
              "    <tr>\n",
              "      <th>9997</th>\n",
              "      <td>2022-12-15 19:13:28+00:00</td>\n",
              "      <td>1603468302420172800</td>\n",
              "      <td>Andy Vermaut shares:Twitter Must Inform Laid-O...</td>\n",
              "      <td>AndyVermaut</td>\n",
              "      <td>Andy Vermaut shares:Twitter Must Inform Laid-O...</td>\n",
              "      <td>&lt;class 'str'&gt;</td>\n",
              "    </tr>\n",
              "    <tr>\n",
              "      <th>9998</th>\n",
              "      <td>2022-12-15 19:21:49+00:00</td>\n",
              "      <td>1603470403627757568</td>\n",
              "      <td>@joel_keranen @_jameshatfield_ @WholeMarsBlog ...</td>\n",
              "      <td>alwarming</td>\n",
              "      <td>@joel_keranen @_jameshatfield_ @WholeMarsBlog ...</td>\n",
              "      <td>&lt;class 'str'&gt;</td>\n",
              "    </tr>\n",
              "    <tr>\n",
              "      <th>9999</th>\n",
              "      <td>2022-12-15 19:25:24+00:00</td>\n",
              "      <td>1603471304107384832</td>\n",
              "      <td>At his peak, he owned about a quarter of the c...</td>\n",
              "      <td>wallisweaver</td>\n",
              "      <td>At his peak, he owned about a quarter of the c...</td>\n",
              "      <td>&lt;class 'str'&gt;</td>\n",
              "    </tr>\n",
              "  </tbody>\n",
              "</table>\n",
              "<p>10000 rows × 6 columns</p>\n",
              "</div>\n",
              "      <button class=\"colab-df-convert\" onclick=\"convertToInteractive('df-47e5cef3-0aae-481a-bc98-e888ba0a55a9')\"\n",
              "              title=\"Convert this dataframe to an interactive table.\"\n",
              "              style=\"display:none;\">\n",
              "        \n",
              "  <svg xmlns=\"http://www.w3.org/2000/svg\" height=\"24px\"viewBox=\"0 0 24 24\"\n",
              "       width=\"24px\">\n",
              "    <path d=\"M0 0h24v24H0V0z\" fill=\"none\"/>\n",
              "    <path d=\"M18.56 5.44l.94 2.06.94-2.06 2.06-.94-2.06-.94-.94-2.06-.94 2.06-2.06.94zm-11 1L8.5 8.5l.94-2.06 2.06-.94-2.06-.94L8.5 2.5l-.94 2.06-2.06.94zm10 10l.94 2.06.94-2.06 2.06-.94-2.06-.94-.94-2.06-.94 2.06-2.06.94z\"/><path d=\"M17.41 7.96l-1.37-1.37c-.4-.4-.92-.59-1.43-.59-.52 0-1.04.2-1.43.59L10.3 9.45l-7.72 7.72c-.78.78-.78 2.05 0 2.83L4 21.41c.39.39.9.59 1.41.59.51 0 1.02-.2 1.41-.59l7.78-7.78 2.81-2.81c.8-.78.8-2.07 0-2.86zM5.41 20L4 18.59l7.72-7.72 1.47 1.35L5.41 20z\"/>\n",
              "  </svg>\n",
              "      </button>\n",
              "      \n",
              "  <style>\n",
              "    .colab-df-container {\n",
              "      display:flex;\n",
              "      flex-wrap:wrap;\n",
              "      gap: 12px;\n",
              "    }\n",
              "\n",
              "    .colab-df-convert {\n",
              "      background-color: #E8F0FE;\n",
              "      border: none;\n",
              "      border-radius: 50%;\n",
              "      cursor: pointer;\n",
              "      display: none;\n",
              "      fill: #1967D2;\n",
              "      height: 32px;\n",
              "      padding: 0 0 0 0;\n",
              "      width: 32px;\n",
              "    }\n",
              "\n",
              "    .colab-df-convert:hover {\n",
              "      background-color: #E2EBFA;\n",
              "      box-shadow: 0px 1px 2px rgba(60, 64, 67, 0.3), 0px 1px 3px 1px rgba(60, 64, 67, 0.15);\n",
              "      fill: #174EA6;\n",
              "    }\n",
              "\n",
              "    [theme=dark] .colab-df-convert {\n",
              "      background-color: #3B4455;\n",
              "      fill: #D2E3FC;\n",
              "    }\n",
              "\n",
              "    [theme=dark] .colab-df-convert:hover {\n",
              "      background-color: #434B5C;\n",
              "      box-shadow: 0px 1px 3px 1px rgba(0, 0, 0, 0.15);\n",
              "      filter: drop-shadow(0px 1px 2px rgba(0, 0, 0, 0.3));\n",
              "      fill: #FFFFFF;\n",
              "    }\n",
              "  </style>\n",
              "\n",
              "      <script>\n",
              "        const buttonEl =\n",
              "          document.querySelector('#df-47e5cef3-0aae-481a-bc98-e888ba0a55a9 button.colab-df-convert');\n",
              "        buttonEl.style.display =\n",
              "          google.colab.kernel.accessAllowed ? 'block' : 'none';\n",
              "\n",
              "        async function convertToInteractive(key) {\n",
              "          const element = document.querySelector('#df-47e5cef3-0aae-481a-bc98-e888ba0a55a9');\n",
              "          const dataTable =\n",
              "            await google.colab.kernel.invokeFunction('convertToInteractive',\n",
              "                                                     [key], {});\n",
              "          if (!dataTable) return;\n",
              "\n",
              "          const docLinkHtml = 'Like what you see? Visit the ' +\n",
              "            '<a target=\"_blank\" href=https://colab.research.google.com/notebooks/data_table.ipynb>data table notebook</a>'\n",
              "            + ' to learn more about interactive tables.';\n",
              "          element.innerHTML = '';\n",
              "          dataTable['output_type'] = 'display_data';\n",
              "          await google.colab.output.renderOutput(dataTable, element);\n",
              "          const docLink = document.createElement('div');\n",
              "          docLink.innerHTML = docLinkHtml;\n",
              "          element.appendChild(docLink);\n",
              "        }\n",
              "      </script>\n",
              "    </div>\n",
              "  </div>\n",
              "  "
            ]
          },
          "metadata": {},
          "execution_count": 107
        },
        {
          "output_type": "stream",
          "name": "stdout",
          "text": [
            "<class 'pandas.core.frame.DataFrame'>\n",
            "RangeIndex: 10000 entries, 0 to 9999\n",
            "Data columns (total 6 columns):\n",
            " #   Column         Non-Null Count  Dtype              \n",
            "---  ------         --------------  -----              \n",
            " 0   datetime       10000 non-null  datetime64[ns, UTC]\n",
            " 1   id             10000 non-null  int64              \n",
            " 2   tweet          10000 non-null  object             \n",
            " 3   username       10000 non-null  object             \n",
            " 4   text_raw       10000 non-null  object             \n",
            " 5   text_raw_type  10000 non-null  object             \n",
            "dtypes: datetime64[ns, UTC](1), int64(1), object(4)\n",
            "memory usage: 468.9+ KB\n"
          ]
        }
      ]
    },
    {
      "cell_type": "code",
      "source": [
        "# Try to convert Tweet text to string (raise error if incompatible encoding)\n",
        "\n",
        "# data_df['text_raw'] = data_df['text_raw'].apply(lambda x: str(x)) # \n",
        "data_df[['text_raw','username']] = data_df[['text_raw','username']].astype('string', errors='raise') # , errors='coerce')\n",
        "# data_df = data_df.dropna(subset=['text_raw'])\n",
        "data_df.info()"
      ],
      "metadata": {
        "id": "bq6TsdYS-8WS",
        "colab": {
          "base_uri": "https://localhost:8080/"
        },
        "outputId": "28485a2b-c02d-49c2-cba7-2c28a47134da"
      },
      "execution_count": 108,
      "outputs": [
        {
          "output_type": "stream",
          "name": "stdout",
          "text": [
            "<class 'pandas.core.frame.DataFrame'>\n",
            "RangeIndex: 10000 entries, 0 to 9999\n",
            "Data columns (total 6 columns):\n",
            " #   Column         Non-Null Count  Dtype              \n",
            "---  ------         --------------  -----              \n",
            " 0   datetime       10000 non-null  datetime64[ns, UTC]\n",
            " 1   id             10000 non-null  int64              \n",
            " 2   tweet          10000 non-null  object             \n",
            " 3   username       10000 non-null  string             \n",
            " 4   text_raw       10000 non-null  string             \n",
            " 5   text_raw_type  10000 non-null  object             \n",
            "dtypes: datetime64[ns, UTC](1), int64(1), object(2), string(2)\n",
            "memory usage: 468.9+ KB\n"
          ]
        }
      ]
    },
    {
      "cell_type": "code",
      "source": [
        "# DEBUG\n",
        "\n",
        "# df is the DataFrame, and column_list is a list of columns as strings (e.g [\"col1\",\"col2\",\"col3\"])\n",
        "# dependencies: pandas\n",
        "\n",
        "def coerce_df_columns_to_string(df, column_list):\n",
        "    df[column_list] = df[column_list].apply(pd.to_string, errors='coerce')\n",
        "\n",
        "# coerce_df_columns_to_string(data_df, ['tweet','username'])\n",
        "# data_df.info()"
      ],
      "metadata": {
        "id": "Tx37CZ1p5pjD"
      },
      "execution_count": 109,
      "outputs": []
    },
    {
      "cell_type": "code",
      "execution_count": 110,
      "metadata": {
        "id": "p2fh-XC0Z5rF",
        "colab": {
          "base_uri": "https://localhost:8080/"
        },
        "outputId": "1847c428-fc51-4626-fd05-a9e1205703ed"
      },
      "outputs": [
        {
          "output_type": "stream",
          "name": "stdout",
          "text": [
            "Tweet Dataset Retrieved:\n",
            "\n",
            " Raw Tweet Count: 10000\n",
            "\n",
            "\n",
            "      First Date: 2022-11-10 17:31:37+00:00 (vs start_target_date: 20221110)\n",
            "       Last Date: 2022-12-15 19:25:24+00:00 (vs end_target_date: 20221215)\n",
            "\n",
            "\n"
          ]
        }
      ],
      "source": [
        "# Calculate Data Range\n",
        "print(f'Tweet Dataset Retrieved:\\n')\n",
        "\n",
        "# start_retrieve_date = data_df.datetime.min().strftime('%Y-%m-%d-%H:%M:%S')\n",
        "# end_retrieve_date = data_df.datetime.max().strftime('%Y-%m-%d-%H:%M:%S')\n",
        "start_retrieve_date = data_df.datetime.min() # .strftime('%Y%m%d_%H%M%S')\n",
        "end_retrieve_date = data_df.datetime.max() # .strftime('%Y%m%d_%H%M%S')\n",
        "\n",
        "print(f' Raw Tweet Count: {data_df.shape[0]}')\n",
        "print('\\n')\n",
        "print(f'      First Date: {start_retrieve_date} (vs start_target_date: {start_date})')\n",
        "print(f'       Last Date: {end_retrieve_date} (vs end_target_date: {end_date})')\n",
        "# print('\\n')\n",
        "# print(f'   ReTweet Count: {data_df.retweeted_id.count().sum()}')\n",
        "# print(f'    Quoted Count: {data_df.quoted_id.count().sum()}')\n",
        "# print('\\n')\n",
        "# print(f'     Reply %: {100*data_df.reply_ct.count().sum()/data_df.shape[0]:.2f}%')\n",
        "# print(f'   ReTweet %: {100*data_df.retweet_ct.count().sum()/data_df.shape[0]:.2f}%')\n",
        "# print(f'      Like %: {100*data_df.like_ct.count().sum()/data_df.shape[0]:.2f}%')\n",
        "# print(f'     Quote %: {100*data_df.quote_ct.count().sum()/data_df.shape[0]:.2f}%')\n",
        "\n",
        "print('\\n')"
      ]
    },
    {
      "cell_type": "code",
      "execution_count": 111,
      "metadata": {
        "id": "WtWBPNLEZw12",
        "colab": {
          "base_uri": "https://localhost:8080/",
          "height": 687
        },
        "outputId": "fe87f6ba-6ba0-4b19-c865-d07d2ae448f6"
      },
      "outputs": [
        {
          "output_type": "display_data",
          "data": {
            "text/plain": [
              "<Figure size 1440x720 with 1 Axes>"
            ],
            "image/png": "[encoded data removed]"
          },
          "metadata": {
            "needs_background": "light"
          }
        }
      ],
      "source": [
        "# Histogram of Tweet Counts over retrieved datetime range\n",
        "\n",
        "# CUSTOMIZE\n",
        "bin_ct = 100\n",
        "\n",
        "_ = fig, ax = plt.subplots()\n",
        "_ = data_df[\"datetime\"].astype(np.int64).plot.hist(bins=bin_ct, ax=ax)\n",
        "_ = labels = ax.get_xticks().tolist()\n",
        "_ = labels = pd.to_datetime(labels)\n",
        "_ = ax.set_xticklabels(labels, rotation=90)\n",
        "_ = plt.grid()\n",
        "_ = plt.show();"
      ]
    },
    {
      "cell_type": "markdown",
      "metadata": {
        "id": "9DEmb5ofA2nZ"
      },
      "source": [
        "# **Clean Tweets** - Pick ONE Option\n",
        "\n",
        "Strategy:\n",
        "1. Convert Unicode emojis to standard english words\n",
        "2. Convert Emojicons (text/punctuation) to standard english words \n",
        "3. Convert Slang to standard english\n",
        "\n",
        "Goals:\n",
        "1. plain text of text_noemoji for Transformer models\n",
        "2. simplified text of text_clean for simplier models (e.g. lexicon, stat ML)"
      ]
    },
    {
      "cell_type": "markdown",
      "source": [
        "## OPTION (a): Clean Tweets"
      ],
      "metadata": {
        "id": "KoUuRIwYzy52"
      }
    },
    {
      "cell_type": "code",
      "execution_count": 113,
      "metadata": {
        "id": "SmHPnCt3e_iJ",
        "colab": {
          "base_uri": "https://localhost:8080/",
          "height": 571
        },
        "outputId": "05e9e513-8c85-454f-8a96-3d00bd608eba"
      },
      "outputs": [
        {
          "output_type": "execute_result",
          "data": {
            "text/plain": [
              "                   datetime                   id  \\\n",
              "0 2022-11-10 17:31:37+00:00  1590759092447891457   \n",
              "1 2022-11-10 17:33:50+00:00  1590759652522065920   \n",
              "2 2022-11-10 17:34:04+00:00  1590759711267500033   \n",
              "3 2022-11-10 17:34:15+00:00  1590759756880232449   \n",
              "4 2022-11-10 17:35:06+00:00  1590759969951207424   \n",
              "\n",
              "                                               tweet         username  \\\n",
              "0  @elonmusk Well Elon— I am new to twitter becau...    sarbaughtina1   \n",
              "1  I would think because Musk’s acquisition of Tw...     slicoricetea   \n",
              "2          @ShiLLin_ViLLian No twitter acquisition 😂      xerocooleth   \n",
              "3  Joe Biden says there are “lots of ways” Elon M...  Sherman4Liberty   \n",
              "4  On #NationalSecurity: Elon Musk and Twitter's ...       CMA_Social   \n",
              "\n",
              "                                            text_raw  text_raw_type  \n",
              "0  @elonmusk Well Elon— I am new to twitter becau...  <class 'str'>  \n",
              "1  I would think because Musk’s acquisition of Tw...  <class 'str'>  \n",
              "2          @ShiLLin_ViLLian No twitter acquisition 😂  <class 'str'>  \n",
              "3  Joe Biden says there are “lots of ways” Elon M...  <class 'str'>  \n",
              "4  On #NationalSecurity: Elon Musk and Twitter's ...  <class 'str'>  "
            ],
            "text/html": [
              "\n",
              "  <div id=\"df-b7d9fe0e-a3ad-4169-a9a0-c0543bd1fa5f\">\n",
              "    <div class=\"colab-df-container\">\n",
              "      <div>\n",
              "<style scoped>\n",
              "    .dataframe tbody tr th:only-of-type {\n",
              "        vertical-align: middle;\n",
              "    }\n",
              "\n",
              "    .dataframe tbody tr th {\n",
              "        vertical-align: top;\n",
              "    }\n",
              "\n",
              "    .dataframe thead th {\n",
              "        text-align: right;\n",
              "    }\n",
              "</style>\n",
              "<table border=\"1\" class=\"dataframe\">\n",
              "  <thead>\n",
              "    <tr style=\"text-align: right;\">\n",
              "      <th></th>\n",
              "      <th>datetime</th>\n",
              "      <th>id</th>\n",
              "      <th>tweet</th>\n",
              "      <th>username</th>\n",
              "      <th>text_raw</th>\n",
              "      <th>text_raw_type</th>\n",
              "    </tr>\n",
              "  </thead>\n",
              "  <tbody>\n",
              "    <tr>\n",
              "      <th>0</th>\n",
              "      <td>2022-11-10 17:31:37+00:00</td>\n",
              "      <td>1590759092447891457</td>\n",
              "      <td>@elonmusk Well Elon— I am new to twitter becau...</td>\n",
              "      <td>sarbaughtina1</td>\n",
              "      <td>@elonmusk Well Elon— I am new to twitter becau...</td>\n",
              "      <td>&lt;class 'str'&gt;</td>\n",
              "    </tr>\n",
              "    <tr>\n",
              "      <th>1</th>\n",
              "      <td>2022-11-10 17:33:50+00:00</td>\n",
              "      <td>1590759652522065920</td>\n",
              "      <td>I would think because Musk’s acquisition of Tw...</td>\n",
              "      <td>slicoricetea</td>\n",
              "      <td>I would think because Musk’s acquisition of Tw...</td>\n",
              "      <td>&lt;class 'str'&gt;</td>\n",
              "    </tr>\n",
              "    <tr>\n",
              "      <th>2</th>\n",
              "      <td>2022-11-10 17:34:04+00:00</td>\n",
              "      <td>1590759711267500033</td>\n",
              "      <td>@ShiLLin_ViLLian No twitter acquisition 😂</td>\n",
              "      <td>xerocooleth</td>\n",
              "      <td>@ShiLLin_ViLLian No twitter acquisition 😂</td>\n",
              "      <td>&lt;class 'str'&gt;</td>\n",
              "    </tr>\n",
              "    <tr>\n",
              "      <th>3</th>\n",
              "      <td>2022-11-10 17:34:15+00:00</td>\n",
              "      <td>1590759756880232449</td>\n",
              "      <td>Joe Biden says there are “lots of ways” Elon M...</td>\n",
              "      <td>Sherman4Liberty</td>\n",
              "      <td>Joe Biden says there are “lots of ways” Elon M...</td>\n",
              "      <td>&lt;class 'str'&gt;</td>\n",
              "    </tr>\n",
              "    <tr>\n",
              "      <th>4</th>\n",
              "      <td>2022-11-10 17:35:06+00:00</td>\n",
              "      <td>1590759969951207424</td>\n",
              "      <td>On #NationalSecurity: Elon Musk and Twitter's ...</td>\n",
              "      <td>CMA_Social</td>\n",
              "      <td>On #NationalSecurity: Elon Musk and Twitter's ...</td>\n",
              "      <td>&lt;class 'str'&gt;</td>\n",
              "    </tr>\n",
              "  </tbody>\n",
              "</table>\n",
              "</div>\n",
              "      <button class=\"colab-df-convert\" onclick=\"convertToInteractive('df-b7d9fe0e-a3ad-4169-a9a0-c0543bd1fa5f')\"\n",
              "              title=\"Convert this dataframe to an interactive table.\"\n",
              "              style=\"display:none;\">\n",
              "        \n",
              "  <svg xmlns=\"http://www.w3.org/2000/svg\" height=\"24px\"viewBox=\"0 0 24 24\"\n",
              "       width=\"24px\">\n",
              "    <path d=\"M0 0h24v24H0V0z\" fill=\"none\"/>\n",
              "    <path d=\"M18.56 5.44l.94 2.06.94-2.06 2.06-.94-2.06-.94-.94-2.06-.94 2.06-2.06.94zm-11 1L8.5 8.5l.94-2.06 2.06-.94-2.06-.94L8.5 2.5l-.94 2.06-2.06.94zm10 10l.94 2.06.94-2.06 2.06-.94-2.06-.94-.94-2.06-.94 2.06-2.06.94z\"/><path d=\"M17.41 7.96l-1.37-1.37c-.4-.4-.92-.59-1.43-.59-.52 0-1.04.2-1.43.59L10.3 9.45l-7.72 7.72c-.78.78-.78 2.05 0 2.83L4 21.41c.39.39.9.59 1.41.59.51 0 1.02-.2 1.41-.59l7.78-7.78 2.81-2.81c.8-.78.8-2.07 0-2.86zM5.41 20L4 18.59l7.72-7.72 1.47 1.35L5.41 20z\"/>\n",
              "  </svg>\n",
              "      </button>\n",
              "      \n",
              "  <style>\n",
              "    .colab-df-container {\n",
              "      display:flex;\n",
              "      flex-wrap:wrap;\n",
              "      gap: 12px;\n",
              "    }\n",
              "\n",
              "    .colab-df-convert {\n",
              "      background-color: #E8F0FE;\n",
              "      border: none;\n",
              "      border-radius: 50%;\n",
              "      cursor: pointer;\n",
              "      display: none;\n",
              "      fill: #1967D2;\n",
              "      height: 32px;\n",
              "      padding: 0 0 0 0;\n",
              "      width: 32px;\n",
              "    }\n",
              "\n",
              "    .colab-df-convert:hover {\n",
              "      background-color: #E2EBFA;\n",
              "      box-shadow: 0px 1px 2px rgba(60, 64, 67, 0.3), 0px 1px 3px 1px rgba(60, 64, 67, 0.15);\n",
              "      fill: #174EA6;\n",
              "    }\n",
              "\n",
              "    [theme=dark] .colab-df-convert {\n",
              "      background-color: #3B4455;\n",
              "      fill: #D2E3FC;\n",
              "    }\n",
              "\n",
              "    [theme=dark] .colab-df-convert:hover {\n",
              "      background-color: #434B5C;\n",
              "      box-shadow: 0px 1px 3px 1px rgba(0, 0, 0, 0.15);\n",
              "      filter: drop-shadow(0px 1px 2px rgba(0, 0, 0, 0.3));\n",
              "      fill: #FFFFFF;\n",
              "    }\n",
              "  </style>\n",
              "\n",
              "      <script>\n",
              "        const buttonEl =\n",
              "          document.querySelector('#df-b7d9fe0e-a3ad-4169-a9a0-c0543bd1fa5f button.colab-df-convert');\n",
              "        buttonEl.style.display =\n",
              "          google.colab.kernel.accessAllowed ? 'block' : 'none';\n",
              "\n",
              "        async function convertToInteractive(key) {\n",
              "          const element = document.querySelector('#df-b7d9fe0e-a3ad-4169-a9a0-c0543bd1fa5f');\n",
              "          const dataTable =\n",
              "            await google.colab.kernel.invokeFunction('convertToInteractive',\n",
              "                                                     [key], {});\n",
              "          if (!dataTable) return;\n",
              "\n",
              "          const docLinkHtml = 'Like what you see? Visit the ' +\n",
              "            '<a target=\"_blank\" href=https://colab.research.google.com/notebooks/data_table.ipynb>data table notebook</a>'\n",
              "            + ' to learn more about interactive tables.';\n",
              "          element.innerHTML = '';\n",
              "          dataTable['output_type'] = 'display_data';\n",
              "          await google.colab.output.renderOutput(dataTable, element);\n",
              "          const docLink = document.createElement('div');\n",
              "          docLink.innerHTML = docLinkHtml;\n",
              "          element.appendChild(docLink);\n",
              "        }\n",
              "      </script>\n",
              "    </div>\n",
              "  </div>\n",
              "  "
            ]
          },
          "metadata": {},
          "execution_count": 113
        },
        {
          "output_type": "stream",
          "name": "stdout",
          "text": [
            "<class 'pandas.core.frame.DataFrame'>\n",
            "RangeIndex: 10000 entries, 0 to 9999\n",
            "Data columns (total 6 columns):\n",
            " #   Column         Non-Null Count  Dtype              \n",
            "---  ------         --------------  -----              \n",
            " 0   datetime       10000 non-null  datetime64[ns, UTC]\n",
            " 1   id             10000 non-null  int64              \n",
            " 2   tweet          10000 non-null  object             \n",
            " 3   username       10000 non-null  string             \n",
            " 4   text_raw       10000 non-null  string             \n",
            " 5   text_raw_type  10000 non-null  object             \n",
            "dtypes: datetime64[ns, UTC](1), int64(1), object(2), string(2)\n",
            "memory usage: 468.9+ KB\n"
          ]
        }
      ],
      "source": [
        "data_df.head()\n",
        "data_df.info()"
      ]
    },
    {
      "cell_type": "code",
      "execution_count": 114,
      "metadata": {
        "id": "7IWi40fRuQNv"
      },
      "outputs": [],
      "source": [
        "tweet_test_ls = [\n",
        "    \"?RT @justinbiebcr: The bigger the better....if you know what I mean ;)\tnegative\",\n",
        "    \"Your busy schedule might not leave you a lot of room today for... More for Scorpio http://twittascope.com/twittascope/?sign=8\",\n",
        "    \"In ny wif @DJWALLAH and the Heavy Hitter crew... shout to @freddyphh for looking real gay in the camera...lol...\",\n",
        "    \"I finished my fourth can of Coke WTF.\",\n",
        "    \"I don't give a shit about Valentines, i'm pissed that i have no access to the new Uffie album!!\",\n",
        "    \"I got my pops whip right now and this nigga aint got NOOO heat. Smh\",\n",
        "    \"RT @SunshynAndPain My tummy hurts =[ {hope you feel better} :) ;)\",\n",
        "    \"I feel good, I knew that I would now ✋🏽😜🤚🏽\"\n",
        "]"
      ]
    },
    {
      "cell_type": "code",
      "execution_count": 115,
      "metadata": {
        "id": "TRTdmakW8tO_",
        "colab": {
          "base_uri": "https://localhost:8080/",
          "height": 36
        },
        "outputId": "79b214d8-444e-4945-dde6-564f80fa9bd6"
      },
      "outputs": [
        {
          "output_type": "execute_result",
          "data": {
            "text/plain": [
              "'This is a very dirty DIRTY StrInG!!'"
            ],
            "application/vnd.google.colaboratory.intrinsic+json": {
              "type": "string"
            }
          },
          "metadata": {},
          "execution_count": 115
        },
        {
          "output_type": "execute_result",
          "data": {
            "text/plain": [
              "'up!'"
            ],
            "application/vnd.google.colaboratory.intrinsic+json": {
              "type": "string"
            }
          },
          "metadata": {},
          "execution_count": 115
        },
        {
          "output_type": "execute_result",
          "data": {
            "text/plain": [
              "'\"Watch out!\" he said.'"
            ],
            "application/vnd.google.colaboratory.intrinsic+json": {
              "type": "string"
            }
          },
          "metadata": {},
          "execution_count": 115
        }
      ],
      "source": [
        "def clean_basic_str(dirty_str):\n",
        "  '''\n",
        "  STEP 1: Basic tweet text preprocessing\n",
        "  '''\n",
        "\n",
        "  contraction_expanded_str = contractions.fix(dirty_str)\n",
        "\n",
        "  clean_str = clean(contraction_expanded_str,\n",
        "      fix_unicode=True,               # fix various unicode errors\n",
        "      to_ascii=True,                  # transliterate to closest ASCII representation\n",
        "      lower=False,                     # lowercase text\n",
        "      no_line_breaks=True,           # fully strip line breaks as opposed to only normalizing them\n",
        "      no_urls=True,                  # replace all URLs with a special token\n",
        "      no_emails=True,                # replace all email addresses with a special token\n",
        "      no_phone_numbers=True,         # replace all phone numbers with a special token\n",
        "      no_numbers=False,               # replace all numbers with a special token\n",
        "      no_digits=False,                # replace all digits with a special token\n",
        "      no_currency_symbols=False,      # replace all currency symbols with a special token\n",
        "      no_punct=False,                 # remove punctuations\n",
        "      # replace_with_punct=\"\",          # instead of removing punctuations you may replace them\n",
        "      # replace_with_url=\"<URL>\",\n",
        "      # replace_with_email=\"<EMAIL>\",\n",
        "      # replace_with_phone_number=\"<PHONE>\",\n",
        "      # replace_with_number=\"<NUMBER>\",\n",
        "      # replace_with_digit=\"0\",\n",
        "      # replace_with_currency_symbol=\"<CUR>\",\n",
        "      lang=\"en\"                       # set to 'de' for German special handling\n",
        "  )\n",
        "\n",
        "  # Replace all new lines/returns with single whitespace\n",
        "  clean_str = ' '.join(clean_str.split())\n",
        "  # clean_str = clean_str.replace('\\n\\r', ' ')\n",
        "  # clean_str = clean_str.replace('\\n', ' ')\n",
        "  # clean_str = clean_str.replace('\\r', ' ')\n",
        "  # clean_str = ' '.join(clean_str.split())\n",
        "\n",
        "  # Strip unpaired leading/trailing quotes\n",
        "  if (clean_str.count('\"') % 2 == 1):\n",
        "    clean_str = clean_str.strip('\"')\n",
        "  if (clean_str.count(\"'\") % 2 == 1):\n",
        "    clean_str = clean_str.strip(\"'\")\n",
        "\n",
        "  return clean_str \n",
        "\n",
        "# Test\n",
        "\n",
        "clean_basic_str(\"This \\n\\n\\n is a very dirty DIRTY StrInG!!\")\n",
        "clean_basic_str('\"up!')\n",
        "clean_basic_str('\"Watch out!\" he said.')"
      ]
    },
    {
      "cell_type": "code",
      "execution_count": 116,
      "metadata": {
        "id": "sZ6uXXsGzmv3",
        "colab": {
          "base_uri": "https://localhost:8080/",
          "height": 36
        },
        "outputId": "5dde47d7-c545-457f-c124-6072d59cbfed"
      },
      "outputs": [
        {
          "output_type": "execute_result",
          "data": {
            "text/plain": [
              "'I feel good , I knew that I would now raised hand medium skin tone winking face with tongue raised back of hand medium skin tone'"
            ],
            "application/vnd.google.colaboratory.intrinsic+json": {
              "type": "string"
            }
          },
          "metadata": {},
          "execution_count": 116
        }
      ],
      "source": [
        "def translate_emoji(raw_str):\n",
        "  '''\n",
        "  STEP 2: Convert emoji/emoticons to plain english words\n",
        "  '''\n",
        "\n",
        "  # Translate Unicode icon emoji to english words\n",
        "  emoji2txt_str = emoji.demojize(raw_str) # , delimiters='') # .replace('_',' '))\n",
        "\n",
        "  # Translate text/punctuation emojicons [e.g. ;) :smirk:] to english words\n",
        "  emoji2txt_str = emoticon_fix.emoticon_fix(emoji2txt_str)\n",
        "\n",
        "  # Perform basic text preprocessing\n",
        "  emoji2txt_str = clean_basic_str(emoji2txt_str)  # Execute STEP 1: basic preprocessing\n",
        "  emoji2txt_str = emoji2txt_str.replace('_', ' ')\n",
        "  emoji2txt_str = emoji2txt_str.replace(':',' ')\n",
        "  emoji2txt_str = \" \".join(emoji2txt_str.split())\n",
        "  \n",
        "  return emoji2txt_str\n",
        "\n",
        "# Test\n",
        "\n",
        "translate_emoji(\"I feel good, I knew that I would now ✋🏽😜🤚🏽\")"
      ]
    },
    {
      "cell_type": "code",
      "execution_count": 117,
      "metadata": {
        "id": "VNv_sEUGN4ly",
        "colab": {
          "base_uri": "https://localhost:8080/",
          "height": 36
        },
        "outputId": "46dce3ac-cbfa-4a3c-bb01-e74674112de8"
      },
      "outputs": [
        {
          "output_type": "execute_result",
          "data": {
            "text/plain": [
              "'Hi : o Smile Smirk'"
            ],
            "application/vnd.google.colaboratory.intrinsic+json": {
              "type": "string"
            }
          },
          "metadata": {},
          "execution_count": 117
        }
      ],
      "source": [
        "# Test\n",
        "\n",
        "emoticon_fix.emoticon_fix('Hi :o :) ;)').replace('_',' ')"
      ]
    },
    {
      "cell_type": "code",
      "execution_count": 118,
      "metadata": {
        "id": "pgp7lBZ5uOaZ",
        "colab": {
          "base_uri": "https://localhost:8080/"
        },
        "outputId": "81dee391-3769-4903-a015-ad6ca6b2d217"
      },
      "outputs": [
        {
          "output_type": "stream",
          "name": "stdout",
          "text": [
            "ORIGINAL: ?RT @justinbiebcr: The bigger the better....if you know what I mean ;)\tnegative\n",
            "   CLEAN: ?RT @justinbiebcr: The bigger the better....if you know what I mean ;) negative\n",
            "\n",
            "\n",
            "ORIGINAL: Your busy schedule might not leave you a lot of room today for... More for Scorpio http://twittascope.com/twittascope/?sign=8\n",
            "   CLEAN: Your busy schedule might not leave you a lot of room today for... More for Scorpio <URL>\n",
            "\n",
            "\n",
            "ORIGINAL: In ny wif @DJWALLAH and the Heavy Hitter crew... shout to @freddyphh for looking real gay in the camera...lol...\n",
            "   CLEAN: In ny wif @DJWALLAH and the Heavy Hitter crew... shout to @freddyphh for looking real gay in the camera...lol...\n",
            "\n",
            "\n",
            "ORIGINAL: I finished my fourth can of Coke WTF.\n",
            "   CLEAN: I finished my fourth can of Coke WTF.\n",
            "\n",
            "\n",
            "ORIGINAL: I don't give a shit about Valentines, i'm pissed that i have no access to the new Uffie album!!\n",
            "   CLEAN: I do not give a shit about Valentines, i am pissed that i have no access to the new Uffie album!!\n",
            "\n",
            "\n",
            "ORIGINAL: I got my pops whip right now and this nigga aint got NOOO heat. Smh\n",
            "   CLEAN: I got my pops whip right now and this nigga are not got NOOO heat. Smh\n",
            "\n",
            "\n",
            "ORIGINAL: RT @SunshynAndPain My tummy hurts =[ {hope you feel better} :) ;)\n",
            "   CLEAN: RT @SunshynAndPain My tummy hurts =[ {hope you feel better} :) ;)\n",
            "\n",
            "\n",
            "ORIGINAL: I feel good, I knew that I would now ✋🏽😜🤚🏽\n",
            "   CLEAN: I feel good, I knew that I would now ✋🏽😜🤚🏽\n",
            "\n",
            "\n"
          ]
        }
      ],
      "source": [
        "# Test clean_basic_str()\n",
        "\n",
        "clean_basic_ls = []\n",
        "\n",
        "for i,atweet in enumerate(tweet_test_ls):\n",
        "  clean_tweet = clean_basic_str(atweet)\n",
        "  print(f\"ORIGINAL: {atweet}\\n   CLEAN: {clean_tweet}\\n\\n\")\n",
        "  # print(f\"    CODE: {chardet.detect(atweet)}\")\n",
        "  clean_basic_ls.append(clean_tweet)"
      ]
    },
    {
      "cell_type": "code",
      "execution_count": 119,
      "metadata": {
        "id": "bPx6YFq8Fuid",
        "colab": {
          "base_uri": "https://localhost:8080/"
        },
        "outputId": "3f494a1c-0cdb-4878-a8db-e65ec3f5c0eb"
      },
      "outputs": [
        {
          "output_type": "stream",
          "name": "stderr",
          "text": [
            "[nltk_data] Downloading package punkt to /root/nltk_data...\n",
            "[nltk_data]   Package punkt is already up-to-date!\n"
          ]
        },
        {
          "output_type": "execute_result",
          "data": {
            "text/plain": [
              "True"
            ]
          },
          "metadata": {},
          "execution_count": 119
        }
      ],
      "source": [
        "# Required for STEP 3 (techniques.py): NLTK for tokenization\n",
        "\n",
        "import nltk\n",
        "nltk.download('punkt')"
      ]
    },
    {
      "cell_type": "code",
      "execution_count": 120,
      "metadata": {
        "id": "MTEqRXUmate1",
        "colab": {
          "base_uri": "https://localhost:8080/"
        },
        "outputId": "749bdb8b-a931-4e5c-f8f7-54de4576906f"
      },
      "outputs": [
        {
          "output_type": "stream",
          "name": "stdout",
          "text": [
            "do display word\n"
          ]
        }
      ],
      "source": [
        "# Required for STEP 3: spaCy for lemmatization\n",
        "\n",
        "import spacy\n",
        "\n",
        "nlp = spacy.load('en_core_web_sm')\n",
        "\n",
        "# Test\n",
        "\n",
        "doc = nlp('did displaying words')\n",
        "print(\" \".join([token.lemma_ for token in doc]))"
      ]
    },
    {
      "cell_type": "code",
      "execution_count": 121,
      "metadata": {
        "id": "0zC1HVjbnuGa"
      },
      "outputs": [],
      "source": [
        "# Step 3: Advanced Tweet Preprocessing on text_intermed with techniques.py\n",
        "# https://github.com/Deffro/text-preprocessing-techniques/blob/master/preprocess.py\n",
        "# TODO: rip this out entirely and replace inline\n",
        "\n",
        "def clean_adv_str(text_str):\n",
        "  '''\n",
        "  STEP 3: Advanced Tweet text preprocessing\n",
        "  '''\n",
        "  \n",
        "  text_str = text_str.strip()\n",
        "\n",
        "  # Convert encoding to printable ASCII\n",
        "  # text_str = text_str.encode(\"ascii\", \"ignore\")  \n",
        "\n",
        "  # Remove URLs\n",
        "  text_str = re.sub('((www\\.[^\\s]+)|(https?://[^\\s]+))',' ',text_str)\n",
        "  text_str = re.sub(r'#([^\\s]+)', r'\\1', text_str)\n",
        "\n",
        "  # Remove @User\n",
        "  text_str = re.sub('@[^\\s]+',' ',text_str)\n",
        "\n",
        "  # Remove # infront of hash tag words\n",
        "  text_str = re.sub(r'#([^\\s]+)', r'\\1', text_str)\n",
        "\n",
        "  # totalSlangs = 0\n",
        "  # totalSlangsFound = []\n",
        "  temp_slangs, temp_slangsFound = countSlang(text_str)\n",
        "  # totalSlangs += temp_slangs # total slangs for all sentences\n",
        "  # for word in temp_slangsFound:\n",
        "  #     totalSlangsFound.append(word) # all the slangs found in all sentences\n",
        " \n",
        "  text_str = replaceSlang(text_str) # Technique 2: replaces slang words and abbreviations with their equivalents\n",
        "\n",
        "\n",
        "  text_str = replaceContraction(text_str) # Technique 3: replaces contractions to their equivalents\n",
        "\n",
        "\n",
        "  # Remove Numbers\n",
        "  text_str = removeNumbers(text_str) # Technique 4: remove integers from text\n",
        "\n",
        "  # Remove Punctuation\n",
        "  # text_str = removePunctuation(text_str) \n",
        "  # text_str = text_str.decode('ascii')\n",
        "\n",
        "  doc = nlp(text_str)\n",
        "  # Convert tokens to lemmas and filter out stopwords\n",
        "  text_str = (\" \".join([token.lemma_ for token in doc if not token.is_stop]))\n",
        "  # Convert to lowercase\n",
        "  text_str = text_str.lower()\n",
        "  # Filter out punctuation\n",
        "  text_str = text_str.translate(str.maketrans('', '', string.punctuation))\n",
        "  # Collapse multiple whitespaces\n",
        "  text_str = \" \".join(text_str.split())\n",
        "\n",
        "  return text_str"
      ]
    },
    {
      "cell_type": "code",
      "execution_count": 122,
      "metadata": {
        "id": "uDltshEK0k40",
        "colab": {
          "base_uri": "https://localhost:8080/"
        },
        "outputId": "376a2974-dd92-43dd-be02-cc70a54f507b"
      },
      "outputs": [
        {
          "output_type": "stream",
          "name": "stdout",
          "text": [
            "<class 'pandas.core.frame.DataFrame'>\n",
            "RangeIndex: 10000 entries, 0 to 9999\n",
            "Data columns (total 8 columns):\n",
            " #   Column         Non-Null Count  Dtype              \n",
            "---  ------         --------------  -----              \n",
            " 0   datetime       10000 non-null  datetime64[ns, UTC]\n",
            " 1   id             10000 non-null  int64              \n",
            " 2   tweet          10000 non-null  object             \n",
            " 3   username       10000 non-null  string             \n",
            " 4   text_raw       10000 non-null  object             \n",
            " 5   text_raw_type  10000 non-null  object             \n",
            " 6   text_noemoji   10000 non-null  object             \n",
            " 7   text_clean     10000 non-null  object             \n",
            "dtypes: datetime64[ns, UTC](1), int64(1), object(5), string(1)\n",
            "memory usage: 625.1+ KB\n",
            "CPU times: user 2min 35s, sys: 597 ms, total: 2min 35s\n",
            "Wall time: 2min 36s\n"
          ]
        }
      ],
      "source": [
        "%%time\n",
        "\n",
        "# NOTE:    42s on Sun 20221204 @ 15:44PM EST on Colab Pro T4 on 5k Tweets\n",
        "#        2m10s on Tue 20221204 @ 03:15AM EST on Colab Pro T4 on 10k Tweets\n",
        "#        6m30s on Fri 20221208 @ 04:28AM EST on Colab Pro T4 on 30k Tweets\n",
        "#        5m03s on Sun 20221211 @ 14:15PM EST on Colab Pro T4 on 30k Tweets\n",
        "#        6m14s on Sun 20221211 @ 14:15PM EST on Colab Pro T4 on 30k Tweets\n",
        "#        6m30s on Mon 20221214 @ 00:14AM EST on Colab Pro CPU on 30k Tweets\n",
        "\n",
        "\n",
        "# Create data_df to hold text sentences and corresponding sentiment values\n",
        "\n",
        "# Step 1-2: Convert unicode emojis and text/punctuation of emojicons to plain english words for all models (save in text_noemoji)\n",
        "\n",
        "# data_df = pd.DataFrame({'text_raw': novel_sentences_ls})\n",
        "\n",
        "# STEP 1: Basic Twitter text preprocessing\n",
        "# currently embedded within translate_emoji() due to emoji2txt additions ':' and '_' removal\n",
        "data_df['text_raw'] = data_df['tweet'] # .apply(lambda x: str(x))\n",
        "\n",
        "# STEP 2: Translate Unicode icon emoji and text/punctuation emoticons to english words\n",
        "data_df['text_noemoji'] = data_df['text_raw'].apply(lambda x: translate_emoji(str(x))) \n",
        "# This 'text_noemoji' version of tweet is fed into advanced SOTA Transformer models that can exploit richer context\n",
        "\n",
        "# STEP 3: Advanced Twitter text preprocessing\n",
        "data_df['text_clean'] = data_df['text_noemoji'].apply(lambda x: clean_adv_str(x)) \n",
        "# This 'text_clean' version of tweet is fed into simplier sentiment models that depend more on normalized feature engineering (e.g. lexicons, stat ML)\n",
        "\n",
        "data_df.iloc[50:70]\n",
        "data_df.info()"
      ]
    },
    {
      "cell_type": "code",
      "source": [
        "data_df.isna().sum()"
      ],
      "metadata": {
        "id": "A5qDtQjuxNA-",
        "colab": {
          "base_uri": "https://localhost:8080/"
        },
        "outputId": "464686c0-854f-4ba4-a7be-fa200d879754"
      },
      "execution_count": 123,
      "outputs": [
        {
          "output_type": "execute_result",
          "data": {
            "text/plain": [
              "datetime         0\n",
              "id               0\n",
              "tweet            0\n",
              "username         0\n",
              "text_raw         0\n",
              "text_raw_type    0\n",
              "text_noemoji     0\n",
              "text_clean       0\n",
              "dtype: int64"
            ]
          },
          "metadata": {},
          "execution_count": 123
        }
      ]
    },
    {
      "cell_type": "code",
      "execution_count": 124,
      "metadata": {
        "id": "ud3X4FeMGcie",
        "colab": {
          "base_uri": "https://localhost:8080/",
          "height": 694
        },
        "outputId": "94be1db3-0bb6-489d-c216-bb16ab158a26"
      },
      "outputs": [
        {
          "output_type": "execute_result",
          "data": {
            "text/plain": [
              "                   datetime                   id  \\\n",
              "0 2022-11-10 17:31:37+00:00  1590759092447891457   \n",
              "1 2022-11-10 17:33:50+00:00  1590759652522065920   \n",
              "2 2022-11-10 17:34:04+00:00  1590759711267500033   \n",
              "3 2022-11-10 17:34:15+00:00  1590759756880232449   \n",
              "4 2022-11-10 17:35:06+00:00  1590759969951207424   \n",
              "\n",
              "                                               tweet         username  \\\n",
              "0  @elonmusk Well Elon— I am new to twitter becau...    sarbaughtina1   \n",
              "1  I would think because Musk’s acquisition of Tw...     slicoricetea   \n",
              "2          @ShiLLin_ViLLian No twitter acquisition 😂      xerocooleth   \n",
              "3  Joe Biden says there are “lots of ways” Elon M...  Sherman4Liberty   \n",
              "4  On #NationalSecurity: Elon Musk and Twitter's ...       CMA_Social   \n",
              "\n",
              "                                            text_raw  text_raw_type  \\\n",
              "0  @elonmusk Well Elon— I am new to twitter becau...  <class 'str'>   \n",
              "1  I would think because Musk’s acquisition of Tw...  <class 'str'>   \n",
              "2          @ShiLLin_ViLLian No twitter acquisition 😂  <class 'str'>   \n",
              "3  Joe Biden says there are “lots of ways” Elon M...  <class 'str'>   \n",
              "4  On #NationalSecurity: Elon Musk and Twitter's ...  <class 'str'>   \n",
              "\n",
              "                                        text_noemoji  \\\n",
              "0  @elonmusk Well Elon -- I am new to twitter bec...   \n",
              "1  I would think because Musk ' s acquisition of ...   \n",
              "2  @ShiLLin ViLLian No twitter acquisition face w...   \n",
              "3  Joe Biden says there are \" lots of ways \" Elon...   \n",
              "4  On #NationalSecurity Elon Musk and Twitter's S...   \n",
              "\n",
              "                                          text_clean  \n",
              "0        elon new twitter pay appreciate acquisition  \n",
              "1  think musk s acquisition twitter zero good int...  \n",
              "2          villian twitter acquisition face tear joy  \n",
              "3  joe biden say lot way elon musk investigate tw...  \n",
              "4  nationalsecurity elon musk twitter saudi situa...  "
            ],
            "text/html": [
              "\n",
              "  <div id=\"df-985a8ecb-54b1-471e-b75b-7685d079752a\">\n",
              "    <div class=\"colab-df-container\">\n",
              "      <div>\n",
              "<style scoped>\n",
              "    .dataframe tbody tr th:only-of-type {\n",
              "        vertical-align: middle;\n",
              "    }\n",
              "\n",
              "    .dataframe tbody tr th {\n",
              "        vertical-align: top;\n",
              "    }\n",
              "\n",
              "    .dataframe thead th {\n",
              "        text-align: right;\n",
              "    }\n",
              "</style>\n",
              "<table border=\"1\" class=\"dataframe\">\n",
              "  <thead>\n",
              "    <tr style=\"text-align: right;\">\n",
              "      <th></th>\n",
              "      <th>datetime</th>\n",
              "      <th>id</th>\n",
              "      <th>tweet</th>\n",
              "      <th>username</th>\n",
              "      <th>text_raw</th>\n",
              "      <th>text_raw_type</th>\n",
              "      <th>text_noemoji</th>\n",
              "      <th>text_clean</th>\n",
              "    </tr>\n",
              "  </thead>\n",
              "  <tbody>\n",
              "    <tr>\n",
              "      <th>0</th>\n",
              "      <td>2022-11-10 17:31:37+00:00</td>\n",
              "      <td>1590759092447891457</td>\n",
              "      <td>@elonmusk Well Elon— I am new to twitter becau...</td>\n",
              "      <td>sarbaughtina1</td>\n",
              "      <td>@elonmusk Well Elon— I am new to twitter becau...</td>\n",
              "      <td>&lt;class 'str'&gt;</td>\n",
              "      <td>@elonmusk Well Elon -- I am new to twitter bec...</td>\n",
              "      <td>elon new twitter pay appreciate acquisition</td>\n",
              "    </tr>\n",
              "    <tr>\n",
              "      <th>1</th>\n",
              "      <td>2022-11-10 17:33:50+00:00</td>\n",
              "      <td>1590759652522065920</td>\n",
              "      <td>I would think because Musk’s acquisition of Tw...</td>\n",
              "      <td>slicoricetea</td>\n",
              "      <td>I would think because Musk’s acquisition of Tw...</td>\n",
              "      <td>&lt;class 'str'&gt;</td>\n",
              "      <td>I would think because Musk ' s acquisition of ...</td>\n",
              "      <td>think musk s acquisition twitter zero good int...</td>\n",
              "    </tr>\n",
              "    <tr>\n",
              "      <th>2</th>\n",
              "      <td>2022-11-10 17:34:04+00:00</td>\n",
              "      <td>1590759711267500033</td>\n",
              "      <td>@ShiLLin_ViLLian No twitter acquisition 😂</td>\n",
              "      <td>xerocooleth</td>\n",
              "      <td>@ShiLLin_ViLLian No twitter acquisition 😂</td>\n",
              "      <td>&lt;class 'str'&gt;</td>\n",
              "      <td>@ShiLLin ViLLian No twitter acquisition face w...</td>\n",
              "      <td>villian twitter acquisition face tear joy</td>\n",
              "    </tr>\n",
              "    <tr>\n",
              "      <th>3</th>\n",
              "      <td>2022-11-10 17:34:15+00:00</td>\n",
              "      <td>1590759756880232449</td>\n",
              "      <td>Joe Biden says there are “lots of ways” Elon M...</td>\n",
              "      <td>Sherman4Liberty</td>\n",
              "      <td>Joe Biden says there are “lots of ways” Elon M...</td>\n",
              "      <td>&lt;class 'str'&gt;</td>\n",
              "      <td>Joe Biden says there are \" lots of ways \" Elon...</td>\n",
              "      <td>joe biden say lot way elon musk investigate tw...</td>\n",
              "    </tr>\n",
              "    <tr>\n",
              "      <th>4</th>\n",
              "      <td>2022-11-10 17:35:06+00:00</td>\n",
              "      <td>1590759969951207424</td>\n",
              "      <td>On #NationalSecurity: Elon Musk and Twitter's ...</td>\n",
              "      <td>CMA_Social</td>\n",
              "      <td>On #NationalSecurity: Elon Musk and Twitter's ...</td>\n",
              "      <td>&lt;class 'str'&gt;</td>\n",
              "      <td>On #NationalSecurity Elon Musk and Twitter's S...</td>\n",
              "      <td>nationalsecurity elon musk twitter saudi situa...</td>\n",
              "    </tr>\n",
              "  </tbody>\n",
              "</table>\n",
              "</div>\n",
              "      <button class=\"colab-df-convert\" onclick=\"convertToInteractive('df-985a8ecb-54b1-471e-b75b-7685d079752a')\"\n",
              "              title=\"Convert this dataframe to an interactive table.\"\n",
              "              style=\"display:none;\">\n",
              "        \n",
              "  <svg xmlns=\"http://www.w3.org/2000/svg\" height=\"24px\"viewBox=\"0 0 24 24\"\n",
              "       width=\"24px\">\n",
              "    <path d=\"M0 0h24v24H0V0z\" fill=\"none\"/>\n",
              "    <path d=\"M18.56 5.44l.94 2.06.94-2.06 2.06-.94-2.06-.94-.94-2.06-.94 2.06-2.06.94zm-11 1L8.5 8.5l.94-2.06 2.06-.94-2.06-.94L8.5 2.5l-.94 2.06-2.06.94zm10 10l.94 2.06.94-2.06 2.06-.94-2.06-.94-.94-2.06-.94 2.06-2.06.94z\"/><path d=\"M17.41 7.96l-1.37-1.37c-.4-.4-.92-.59-1.43-.59-.52 0-1.04.2-1.43.59L10.3 9.45l-7.72 7.72c-.78.78-.78 2.05 0 2.83L4 21.41c.39.39.9.59 1.41.59.51 0 1.02-.2 1.41-.59l7.78-7.78 2.81-2.81c.8-.78.8-2.07 0-2.86zM5.41 20L4 18.59l7.72-7.72 1.47 1.35L5.41 20z\"/>\n",
              "  </svg>\n",
              "      </button>\n",
              "      \n",
              "  <style>\n",
              "    .colab-df-container {\n",
              "      display:flex;\n",
              "      flex-wrap:wrap;\n",
              "      gap: 12px;\n",
              "    }\n",
              "\n",
              "    .colab-df-convert {\n",
              "      background-color: #E8F0FE;\n",
              "      border: none;\n",
              "      border-radius: 50%;\n",
              "      cursor: pointer;\n",
              "      display: none;\n",
              "      fill: #1967D2;\n",
              "      height: 32px;\n",
              "      padding: 0 0 0 0;\n",
              "      width: 32px;\n",
              "    }\n",
              "\n",
              "    .colab-df-convert:hover {\n",
              "      background-color: #E2EBFA;\n",
              "      box-shadow: 0px 1px 2px rgba(60, 64, 67, 0.3), 0px 1px 3px 1px rgba(60, 64, 67, 0.15);\n",
              "      fill: #174EA6;\n",
              "    }\n",
              "\n",
              "    [theme=dark] .colab-df-convert {\n",
              "      background-color: #3B4455;\n",
              "      fill: #D2E3FC;\n",
              "    }\n",
              "\n",
              "    [theme=dark] .colab-df-convert:hover {\n",
              "      background-color: #434B5C;\n",
              "      box-shadow: 0px 1px 3px 1px rgba(0, 0, 0, 0.15);\n",
              "      filter: drop-shadow(0px 1px 2px rgba(0, 0, 0, 0.3));\n",
              "      fill: #FFFFFF;\n",
              "    }\n",
              "  </style>\n",
              "\n",
              "      <script>\n",
              "        const buttonEl =\n",
              "          document.querySelector('#df-985a8ecb-54b1-471e-b75b-7685d079752a button.colab-df-convert');\n",
              "        buttonEl.style.display =\n",
              "          google.colab.kernel.accessAllowed ? 'block' : 'none';\n",
              "\n",
              "        async function convertToInteractive(key) {\n",
              "          const element = document.querySelector('#df-985a8ecb-54b1-471e-b75b-7685d079752a');\n",
              "          const dataTable =\n",
              "            await google.colab.kernel.invokeFunction('convertToInteractive',\n",
              "                                                     [key], {});\n",
              "          if (!dataTable) return;\n",
              "\n",
              "          const docLinkHtml = 'Like what you see? Visit the ' +\n",
              "            '<a target=\"_blank\" href=https://colab.research.google.com/notebooks/data_table.ipynb>data table notebook</a>'\n",
              "            + ' to learn more about interactive tables.';\n",
              "          element.innerHTML = '';\n",
              "          dataTable['output_type'] = 'display_data';\n",
              "          await google.colab.output.renderOutput(dataTable, element);\n",
              "          const docLink = document.createElement('div');\n",
              "          docLink.innerHTML = docLinkHtml;\n",
              "          element.appendChild(docLink);\n",
              "        }\n",
              "      </script>\n",
              "    </div>\n",
              "  </div>\n",
              "  "
            ]
          },
          "metadata": {},
          "execution_count": 124
        },
        {
          "output_type": "stream",
          "name": "stdout",
          "text": [
            "<class 'pandas.core.frame.DataFrame'>\n",
            "RangeIndex: 10000 entries, 0 to 9999\n",
            "Data columns (total 8 columns):\n",
            " #   Column         Non-Null Count  Dtype              \n",
            "---  ------         --------------  -----              \n",
            " 0   datetime       10000 non-null  datetime64[ns, UTC]\n",
            " 1   id             10000 non-null  int64              \n",
            " 2   tweet          10000 non-null  object             \n",
            " 3   username       10000 non-null  string             \n",
            " 4   text_raw       10000 non-null  object             \n",
            " 5   text_raw_type  10000 non-null  object             \n",
            " 6   text_noemoji   10000 non-null  object             \n",
            " 7   text_clean     10000 non-null  object             \n",
            "dtypes: datetime64[ns, UTC](1), int64(1), object(5), string(1)\n",
            "memory usage: 625.1+ KB\n"
          ]
        }
      ],
      "source": [
        "data_df.dropna(inplace=True)\n",
        "data_df.head()\n",
        "data_df.info()"
      ]
    },
    {
      "cell_type": "code",
      "source": [
        "type(start_retrieve_date)\n",
        "start_retrieve_date.year\n",
        "start_retrieve_date.month\n",
        "start_retrieve_date.day\n",
        "type(start_retrieve_date.strftime('%Y%m%d'))"
      ],
      "metadata": {
        "id": "9JqlWqOPx65T",
        "colab": {
          "base_uri": "https://localhost:8080/"
        },
        "outputId": "313eca62-dbb1-4848-d6db-9babe3b7061f"
      },
      "execution_count": 125,
      "outputs": [
        {
          "output_type": "execute_result",
          "data": {
            "text/plain": [
              "pandas._libs.tslibs.timestamps.Timestamp"
            ]
          },
          "metadata": {},
          "execution_count": 125
        },
        {
          "output_type": "execute_result",
          "data": {
            "text/plain": [
              "2022"
            ]
          },
          "metadata": {},
          "execution_count": 125
        },
        {
          "output_type": "execute_result",
          "data": {
            "text/plain": [
              "11"
            ]
          },
          "metadata": {},
          "execution_count": 125
        },
        {
          "output_type": "execute_result",
          "data": {
            "text/plain": [
              "10"
            ]
          },
          "metadata": {},
          "execution_count": 125
        },
        {
          "output_type": "execute_result",
          "data": {
            "text/plain": [
              "str"
            ]
          },
          "metadata": {},
          "execution_count": 125
        }
      ]
    },
    {
      "cell_type": "code",
      "execution_count": 126,
      "metadata": {
        "id": "m3XPKP70gGQU",
        "colab": {
          "base_uri": "https://localhost:8080/",
          "height": 35
        },
        "outputId": "a96409c1-8cfb-4404-d27b-4c939a4b1ebe"
      },
      "outputs": [
        {
          "output_type": "stream",
          "name": "stdout",
          "text": [
            "Saving to file: tweets_clean_twitteracquisition_20221110_173137_20221215_192524.csv\n"
          ]
        },
        {
          "output_type": "display_data",
          "data": {
            "text/plain": [
              "<IPython.core.display.Javascript object>"
            ],
            "application/javascript": [
              "\n",
              "    async function download(id, filename, size) {\n",
              "      if (!google.colab.kernel.accessAllowed) {\n",
              "        return;\n",
              "      }\n",
              "      const div = document.createElement('div');\n",
              "      const label = document.createElement('label');\n",
              "      label.textContent = `Downloading \"${filename}\": `;\n",
              "      div.appendChild(label);\n",
              "      const progress = document.createElement('progress');\n",
              "      progress.max = size;\n",
              "      div.appendChild(progress);\n",
              "      document.body.appendChild(div);\n",
              "\n",
              "      const buffers = [];\n",
              "      let downloaded = 0;\n",
              "\n",
              "      const channel = await google.colab.kernel.comms.open(id);\n",
              "      // Send a message to notify the kernel that we're ready.\n",
              "      channel.send({})\n",
              "\n",
              "      for await (const message of channel.messages) {\n",
              "        // Send a message to notify the kernel that we're ready.\n",
              "        channel.send({})\n",
              "        if (message.buffers) {\n",
              "          for (const buffer of message.buffers) {\n",
              "            buffers.push(buffer);\n",
              "            downloaded += buffer.byteLength;\n",
              "            progress.value = downloaded;\n",
              "          }\n",
              "        }\n",
              "      }\n",
              "      const blob = new Blob(buffers, {type: 'application/binary'});\n",
              "      const a = document.createElement('a');\n",
              "      a.href = window.URL.createObjectURL(blob);\n",
              "      a.download = filename;\n",
              "      div.appendChild(a);\n",
              "      a.click();\n",
              "      div.remove();\n",
              "    }\n",
              "  "
            ]
          },
          "metadata": {}
        },
        {
          "output_type": "display_data",
          "data": {
            "text/plain": [
              "<IPython.core.display.Javascript object>"
            ],
            "application/javascript": [
              "download(\"download_699b0acb-1f07-4a52-b684-5dd98426a18b\", \"tweets_clean_twitteracquisition_20221110_173137_20221215_192524.csv\", 8185267)"
            ]
          },
          "metadata": {}
        }
      ],
      "source": [
        "# Save \n",
        "\n",
        "filename_clean_tweets = f\"tweets_clean_{slugify(search_term, separator='')}_{start_retrieve_date.strftime('%Y%m%d')}_{start_time}_{end_retrieve_date.strftime('%Y%m%d')}_{end_time}.csv\"\n",
        "print(f'Saving to file: {filename_clean_tweets}')\n",
        "\n",
        "data_df.to_csv(filename_clean_tweets, index=False)\n",
        "\n",
        "files.download(filename_clean_tweets)"
      ]
    },
    {
      "cell_type": "markdown",
      "source": [
        "## OPTION (b): Upload Clean Tweets"
      ],
      "metadata": {
        "id": "LDpVezT9z6jz"
      }
    },
    {
      "cell_type": "code",
      "execution_count": 44,
      "metadata": {
        "id": "wXljFKt30Cdn",
        "colab": {
          "base_uri": "https://localhost:8080/",
          "height": 487
        },
        "outputId": "43c00557-9a3e-4913-fe6b-d51ef7c8eea1"
      },
      "outputs": [
        {
          "output_type": "display_data",
          "data": {
            "text/plain": [
              "<IPython.core.display.HTML object>"
            ],
            "text/html": [
              "\n",
              "     <input type=\"file\" id=\"files-2906ea08-8902-40aa-b06c-fa4126de78c2\" name=\"files[]\" multiple disabled\n",
              "        style=\"border:none\" />\n",
              "     <output id=\"result-2906ea08-8902-40aa-b06c-fa4126de78c2\">\n",
              "      Upload widget is only available when the cell has been executed in the\n",
              "      current browser session. Please rerun this cell to enable.\n",
              "      </output>\n",
              "      <script>// Copyright 2017 Google LLC\n",
              "//\n",
              "// Licensed under the Apache License, Version 2.0 (the \"License\");\n",
              "// you may not use this file except in compliance with the License.\n",
              "// You may obtain a copy of the License at\n",
              "//\n",
              "//      http://www.apache.org/licenses/LICENSE-2.0\n",
              "//\n",
              "// Unless required by applicable law or agreed to in writing, software\n",
              "// distributed under the License is distributed on an \"AS IS\" BASIS,\n",
              "// WITHOUT WARRANTIES OR CONDITIONS OF ANY KIND, either express or implied.\n",
              "// See the License for the specific language governing permissions and\n",
              "// limitations under the License.\n",
              "\n",
              "/**\n",
              " * @fileoverview Helpers for google.colab Python module.\n",
              " */\n",
              "(function(scope) {\n",
              "function span(text, styleAttributes = {}) {\n",
              "  const element = document.createElement('span');\n",
              "  element.textContent = text;\n",
              "  for (const key of Object.keys(styleAttributes)) {\n",
              "    element.style[key] = styleAttributes[key];\n",
              "  }\n",
              "  return element;\n",
              "}\n",
              "\n",
              "// Max number of bytes which will be uploaded at a time.\n",
              "const MAX_PAYLOAD_SIZE = 100 * 1024;\n",
              "\n",
              "function _uploadFiles(inputId, outputId) {\n",
              "  const steps = uploadFilesStep(inputId, outputId);\n",
              "  const outputElement = document.getElementById(outputId);\n",
              "  // Cache steps on the outputElement to make it available for the next call\n",
              "  // to uploadFilesContinue from Python.\n",
              "  outputElement.steps = steps;\n",
              "\n",
              "  return _uploadFilesContinue(outputId);\n",
              "}\n",
              "\n",
              "// This is roughly an async generator (not supported in the browser yet),\n",
              "// where there are multiple asynchronous steps and the Python side is going\n",
              "// to poll for completion of each step.\n",
              "// This uses a Promise to block the python side on completion of each step,\n",
              "// then passes the result of the previous step as the input to the next step.\n",
              "function _uploadFilesContinue(outputId) {\n",
              "  const outputElement = document.getElementById(outputId);\n",
              "  const steps = outputElement.steps;\n",
              "\n",
              "  const next = steps.next(outputElement.lastPromiseValue);\n",
              "  return Promise.resolve(next.value.promise).then((value) => {\n",
              "    // Cache the last promise value to make it available to the next\n",
              "    // step of the generator.\n",
              "    outputElement.lastPromiseValue = value;\n",
              "    return next.value.response;\n",
              "  });\n",
              "}\n",
              "\n",
              "/**\n",
              " * Generator function which is called between each async step of the upload\n",
              " * process.\n",
              " * @param {string} inputId Element ID of the input file picker element.\n",
              " * @param {string} outputId Element ID of the output display.\n",
              " * @return {!Iterable<!Object>} Iterable of next steps.\n",
              " */\n",
              "function* uploadFilesStep(inputId, outputId) {\n",
              "  const inputElement = document.getElementById(inputId);\n",
              "  inputElement.disabled = false;\n",
              "\n",
              "  const outputElement = document.getElementById(outputId);\n",
              "  outputElement.innerHTML = '';\n",
              "\n",
              "  const pickedPromise = new Promise((resolve) => {\n",
              "    inputElement.addEventListener('change', (e) => {\n",
              "      resolve(e.target.files);\n",
              "    });\n",
              "  });\n",
              "\n",
              "  const cancel = document.createElement('button');\n",
              "  inputElement.parentElement.appendChild(cancel);\n",
              "  cancel.textContent = 'Cancel upload';\n",
              "  const cancelPromise = new Promise((resolve) => {\n",
              "    cancel.onclick = () => {\n",
              "      resolve(null);\n",
              "    };\n",
              "  });\n",
              "\n",
              "  // Wait for the user to pick the files.\n",
              "  const files = yield {\n",
              "    promise: Promise.race([pickedPromise, cancelPromise]),\n",
              "    response: {\n",
              "      action: 'starting',\n",
              "    }\n",
              "  };\n",
              "\n",
              "  cancel.remove();\n",
              "\n",
              "  // Disable the input element since further picks are not allowed.\n",
              "  inputElement.disabled = true;\n",
              "\n",
              "  if (!files) {\n",
              "    return {\n",
              "      response: {\n",
              "        action: 'complete',\n",
              "      }\n",
              "    };\n",
              "  }\n",
              "\n",
              "  for (const file of files) {\n",
              "    const li = document.createElement('li');\n",
              "    li.append(span(file.name, {fontWeight: 'bold'}));\n",
              "    li.append(span(\n",
              "        `(${file.type || 'n/a'}) - ${file.size} bytes, ` +\n",
              "        `last modified: ${\n",
              "            file.lastModifiedDate ? file.lastModifiedDate.toLocaleDateString() :\n",
              "                                    'n/a'} - `));\n",
              "    const percent = span('0% done');\n",
              "    li.appendChild(percent);\n",
              "\n",
              "    outputElement.appendChild(li);\n",
              "\n",
              "    const fileDataPromise = new Promise((resolve) => {\n",
              "      const reader = new FileReader();\n",
              "      reader.onload = (e) => {\n",
              "        resolve(e.target.result);\n",
              "      };\n",
              "      reader.readAsArrayBuffer(file);\n",
              "    });\n",
              "    // Wait for the data to be ready.\n",
              "    let fileData = yield {\n",
              "      promise: fileDataPromise,\n",
              "      response: {\n",
              "        action: 'continue',\n",
              "      }\n",
              "    };\n",
              "\n",
              "    // Use a chunked sending to avoid message size limits. See b/62115660.\n",
              "    let position = 0;\n",
              "    do {\n",
              "      const length = Math.min(fileData.byteLength - position, MAX_PAYLOAD_SIZE);\n",
              "      const chunk = new Uint8Array(fileData, position, length);\n",
              "      position += length;\n",
              "\n",
              "      const base64 = btoa(String.fromCharCode.apply(null, chunk));\n",
              "      yield {\n",
              "        response: {\n",
              "          action: 'append',\n",
              "          file: file.name,\n",
              "          data: base64,\n",
              "        },\n",
              "      };\n",
              "\n",
              "      let percentDone = fileData.byteLength === 0 ?\n",
              "          100 :\n",
              "          Math.round((position / fileData.byteLength) * 100);\n",
              "      percent.textContent = `${percentDone}% done`;\n",
              "\n",
              "    } while (position < fileData.byteLength);\n",
              "  }\n",
              "\n",
              "  // All done.\n",
              "  yield {\n",
              "    response: {\n",
              "      action: 'complete',\n",
              "    }\n",
              "  };\n",
              "}\n",
              "\n",
              "scope.google = scope.google || {};\n",
              "scope.google.colab = scope.google.colab || {};\n",
              "scope.google.colab._files = {\n",
              "  _uploadFiles,\n",
              "  _uploadFilesContinue,\n",
              "};\n",
              "})(self);\n",
              "</script> "
            ]
          },
          "metadata": {}
        },
        {
          "output_type": "stream",
          "name": "stdout",
          "text": [
            "Saving tweets_raw_twitteracquisition_20221110_173137_20221215_192524.csv to tweets_raw_twitteracquisition_20221110_173137_20221215_192524 (1).csv\n",
            "Tweet raw datafile should have been created with this notebook with the filename format:\n",
            "   tweets_raw_<search_term>_<start_date>-<end_date>.csv\n",
            "   e.g. 'tweets_raw_elonmusk_2022-10-01_2022-12-04.csv'\n",
            "\n",
            "\n",
            "User uploaded file \"tweets_raw_twitteracquisition_20221110_173137_20221215_192524.csv\" with length 2827459 bytes\n",
            "\n",
            "\n",
            "Search Term: twitteracquisition\n",
            "  start_date: 20221110\n",
            "  end_date: 20221215\n",
            "\n",
            "\n",
            "tweet_str: tweets\n",
            "text_state_str: raw\n",
            "search_str: twitteracquisition\n",
            "start_date: 20221110\n",
            "start_time: 173137\n",
            "end_date: 20221215\n",
            "end_time: 192524\n",
            "CPU times: user 922 ms, sys: 93.2 ms, total: 1.01 s\n",
            "Wall time: 58 s\n"
          ]
        }
      ],
      "source": [
        "%%time\n",
        "\n",
        "# NOTE: 1m07s\n",
        "\n",
        "# Upload Plain Text File\n",
        "uploaded = files.upload()\n",
        "datafile_name = ''\n",
        "\n",
        "# NOTE: Allows for multiple file uploads, will only process the last\n",
        "#       Left in for future feature addition (processing multiple files at once)\n",
        "\n",
        "print(f\"Tweet raw datafile should have been created with this notebook with the filename format:\")\n",
        "print(f\"   tweets_raw_<search_term>_<start_date>-<end_date>.csv\")\n",
        "print(f\"   e.g. 'tweets_raw_elonmusk_2022-10-01_2022-12-04.csv'\\n\\n\")\n",
        "\n",
        "for fn in uploaded.keys():\n",
        "  print('User uploaded file \"{name}\" with length {length} bytes'.format(\n",
        "      name=fn, length=len(uploaded[fn])))\n",
        "  datafile_name = fn\n",
        "\n",
        "# Parse raw tweet datafile filename to extract key search parameters\n",
        "try:\n",
        "  word1, word2, file_search_term, file_start_date, file_start_time, file_end_date, file_end_time = datafile_name.split('_')\n",
        "  if (word1 =='tweets') & (word2 == 'raw'):\n",
        "    search_term = file_search_term\n",
        "    start_date = file_start_date\n",
        "    end_date = file_end_date.split('.')[0]  # trim '.csv' suffix\n",
        "    print(f'\\n\\nSearch Term: {search_term}\\n  start_date: {start_date}\\n  end_date: {end_date}\\n\\n')\n",
        "  else:\n",
        "    print(f'ILLEGAL FILENAME: {datafile_name}\\n  Tweets datafile name must begin with prefix [tweets_raw_]')\n",
        "except:\n",
        "  print(f'ILLEGAL FILENAME: {datafile_name}\\n  cannot parse Tweets datafile name')\n",
        "\n",
        "\n",
        "# Parse out search dates based upon filename\n",
        "\n",
        "tweet_str, text_state_str, search_str, start_date, start_time, end_date, end_time = datafile_name.split('_')\n",
        "end_time = ''.join(end_time.split('.')[:-1])\n",
        "\n",
        "print(f'tweet_str: {tweet_str}')\n",
        "print(f'text_state_str: {text_state_str}')\n",
        "print(f'search_str: {search_str}')\n",
        "print(f'start_date: {start_date}')\n",
        "print(f'start_time: {start_time}')\n",
        "print(f'end_date: {end_date}')\n",
        "print(f'end_time: {end_time}')"
      ]
    },
    {
      "cell_type": "code",
      "execution_count": 45,
      "metadata": {
        "id": "EnIS2lUg0Cdp",
        "colab": {
          "base_uri": "https://localhost:8080/"
        },
        "outputId": "a8ddefe2-8b70-43e6-9390-08a5ef842749"
      },
      "outputs": [
        {
          "output_type": "stream",
          "name": "stdout",
          "text": [
            "datetime,id,tweet,username,reply_ct,retweet_ct,like_ct,quote_ct,retweeted_id,quoted_id\n",
            "2022-11-10 17:31:37+00:00,1590759092447891457,@elonmusk Well Elon— I am new to twitter because of you. I even paid my $8– because I appreciate your acquisition,sarbaughtina1,0,0,0,0,,\n",
            "2022-11-10 17:33:50+00:00,1590759652522065920,\"I would think because Musk’s acquisition of Twitter had ZERO good intent, making the purchase could be construed as tool to willfully squelch the FREE SPEECH of millions of regular citizens &amp; activists. \n",
            "But such would have to be proven in a court of law.\",slicoricetea,1,0,0,0,,\n",
            "2022-11-10 17:34:04+00:00,1590759711267500033,@ShiLLin_ViLLian No twitter acquisition 😂,xerocooleth,0,0,0,0,,\n"
          ]
        }
      ],
      "source": [
        "!head -n 5 $datafile_name"
      ]
    },
    {
      "cell_type": "code",
      "source": [
        "# DEBUG\n",
        "\n",
        "\"\"\"\n",
        "# Read raw tweet datafile into DataFrame 'data'\n",
        "try:\n",
        "  data = pd.read_csv(datafile_name, encoding='utf-8', encoding_errors='ignore') # , on_bad_lines='skip', error_bad_lines=False)\n",
        "  print(f\"SUCCESS: Tweets datafile read into DataFrame 'data'\")\n",
        "except:\n",
        "  print(f'ERROR: Tweets datafile cannot be read by pd.read_csv')\n",
        "\"\"\";"
      ],
      "metadata": {
        "id": "Hvz0HN8l0Cdq"
      },
      "execution_count": 46,
      "outputs": []
    },
    {
      "cell_type": "code",
      "source": [
        "# DEBUG\n",
        "\n",
        "# Reading and Write File to Filter out Illegal utf-8 characters\n",
        "# https://stackoverflow.com/questions/12468179/unicodedecodeerror-utf8-codec-cant-decode-byte-0x9c\n",
        "\"\"\"\n",
        "import codecs\n",
        "\n",
        "with codecs.open(datafile_name, 'r', encoding='utf-8', errors='ignore') as fp:\n",
        "  datafile_str = fp.read()\n",
        "\n",
        "print(datafile_str[:1000])\n",
        "\n",
        "# os.copy back up with timestamp\n",
        "import shutil\n",
        "\n",
        "datetime_str = datetime.datetime.now().strftime(\"%Y%m%d_%H%M%S\")\n",
        "\n",
        "datafile_root = ' '.join(datafile_name.split('.')[:-1])\n",
        "datafile_backup = f\"{datafile_root}_backup_{datetime_str}.csv\"\n",
        "\n",
        "shutil.copy2(datafile_name, datafile_backup) # complete target filename given\n",
        "\n",
        "# overwrite clean/filtered data to original filename\n",
        "with open(datafile_name, \"w\", encoding='utf-8') as fp:\n",
        "  fp.write(datafile_str)\n",
        "\n",
        "os.listdir()\n",
        "\"\"\";"
      ],
      "metadata": {
        "id": "fyFbVmYo0Cdr"
      },
      "execution_count": 47,
      "outputs": []
    },
    {
      "cell_type": "code",
      "source": [
        "# DEBUG\n",
        "\n",
        "# Another approach to overcome pd.read_csv() read errors\n",
        "\n",
        "\"\"\"\n",
        "import io   \n",
        "\n",
        "TESTDATA=col1;col2;col3\n",
        "1;4.4;99\n",
        "2;4.5;200\n",
        "3;4.7;65\n",
        "4;3.2;140\n",
        "\n",
        "\n",
        "df = pd.read_csv(io.StringIO(TESTDATA), sep=\";\")\n",
        "# df = pd.read_csv(io.StringIO(datafile_str), sep=\",\")\n",
        "print(df)\n",
        "\"\"\";"
      ],
      "metadata": {
        "id": "38no6B8u0Cdt"
      },
      "execution_count": 48,
      "outputs": []
    },
    {
      "cell_type": "code",
      "execution_count": 49,
      "metadata": {
        "id": "OtifHYuh0Cdu",
        "colab": {
          "base_uri": "https://localhost:8080/",
          "height": 661
        },
        "outputId": "ca9b4751-d232-4da6-ad8e-ae031571f2cf"
      },
      "outputs": [
        {
          "output_type": "execute_result",
          "data": {
            "text/plain": [
              "                    datetime                   id  \\\n",
              "0  2022-11-10 17:31:37+00:00  1590759092447891457   \n",
              "1  2022-11-10 17:33:50+00:00  1590759652522065920   \n",
              "2  2022-11-10 17:34:04+00:00  1590759711267500033   \n",
              "3  2022-11-10 17:34:15+00:00  1590759756880232449   \n",
              "4  2022-11-10 17:35:06+00:00  1590759969951207424   \n",
              "\n",
              "                                               tweet         username  \\\n",
              "0  @elonmusk Well Elon— I am new to twitter becau...    sarbaughtina1   \n",
              "1  I would think because Musk’s acquisition of Tw...     slicoricetea   \n",
              "2          @ShiLLin_ViLLian No twitter acquisition 😂      xerocooleth   \n",
              "3  Joe Biden says there are “lots of ways” Elon M...  Sherman4Liberty   \n",
              "4  On #NationalSecurity: Elon Musk and Twitter's ...       CMA_Social   \n",
              "\n",
              "   reply_ct  retweet_ct  like_ct  quote_ct  retweeted_id quoted_id  \n",
              "0         0           0        0         0           NaN       NaN  \n",
              "1         1           0        0         0           NaN       NaN  \n",
              "2         0           0        0         0           NaN       NaN  \n",
              "3         0           0        0         0           NaN       NaN  \n",
              "4         0           0        0         0           NaN       NaN  "
            ],
            "text/html": [
              "\n",
              "  <div id=\"df-ca9e0057-713e-4b35-b170-6588561fb8a1\">\n",
              "    <div class=\"colab-df-container\">\n",
              "      <div>\n",
              "<style scoped>\n",
              "    .dataframe tbody tr th:only-of-type {\n",
              "        vertical-align: middle;\n",
              "    }\n",
              "\n",
              "    .dataframe tbody tr th {\n",
              "        vertical-align: top;\n",
              "    }\n",
              "\n",
              "    .dataframe thead th {\n",
              "        text-align: right;\n",
              "    }\n",
              "</style>\n",
              "<table border=\"1\" class=\"dataframe\">\n",
              "  <thead>\n",
              "    <tr style=\"text-align: right;\">\n",
              "      <th></th>\n",
              "      <th>datetime</th>\n",
              "      <th>id</th>\n",
              "      <th>tweet</th>\n",
              "      <th>username</th>\n",
              "      <th>reply_ct</th>\n",
              "      <th>retweet_ct</th>\n",
              "      <th>like_ct</th>\n",
              "      <th>quote_ct</th>\n",
              "      <th>retweeted_id</th>\n",
              "      <th>quoted_id</th>\n",
              "    </tr>\n",
              "  </thead>\n",
              "  <tbody>\n",
              "    <tr>\n",
              "      <th>0</th>\n",
              "      <td>2022-11-10 17:31:37+00:00</td>\n",
              "      <td>1590759092447891457</td>\n",
              "      <td>@elonmusk Well Elon— I am new to twitter becau...</td>\n",
              "      <td>sarbaughtina1</td>\n",
              "      <td>0</td>\n",
              "      <td>0</td>\n",
              "      <td>0</td>\n",
              "      <td>0</td>\n",
              "      <td>NaN</td>\n",
              "      <td>NaN</td>\n",
              "    </tr>\n",
              "    <tr>\n",
              "      <th>1</th>\n",
              "      <td>2022-11-10 17:33:50+00:00</td>\n",
              "      <td>1590759652522065920</td>\n",
              "      <td>I would think because Musk’s acquisition of Tw...</td>\n",
              "      <td>slicoricetea</td>\n",
              "      <td>1</td>\n",
              "      <td>0</td>\n",
              "      <td>0</td>\n",
              "      <td>0</td>\n",
              "      <td>NaN</td>\n",
              "      <td>NaN</td>\n",
              "    </tr>\n",
              "    <tr>\n",
              "      <th>2</th>\n",
              "      <td>2022-11-10 17:34:04+00:00</td>\n",
              "      <td>1590759711267500033</td>\n",
              "      <td>@ShiLLin_ViLLian No twitter acquisition 😂</td>\n",
              "      <td>xerocooleth</td>\n",
              "      <td>0</td>\n",
              "      <td>0</td>\n",
              "      <td>0</td>\n",
              "      <td>0</td>\n",
              "      <td>NaN</td>\n",
              "      <td>NaN</td>\n",
              "    </tr>\n",
              "    <tr>\n",
              "      <th>3</th>\n",
              "      <td>2022-11-10 17:34:15+00:00</td>\n",
              "      <td>1590759756880232449</td>\n",
              "      <td>Joe Biden says there are “lots of ways” Elon M...</td>\n",
              "      <td>Sherman4Liberty</td>\n",
              "      <td>0</td>\n",
              "      <td>0</td>\n",
              "      <td>0</td>\n",
              "      <td>0</td>\n",
              "      <td>NaN</td>\n",
              "      <td>NaN</td>\n",
              "    </tr>\n",
              "    <tr>\n",
              "      <th>4</th>\n",
              "      <td>2022-11-10 17:35:06+00:00</td>\n",
              "      <td>1590759969951207424</td>\n",
              "      <td>On #NationalSecurity: Elon Musk and Twitter's ...</td>\n",
              "      <td>CMA_Social</td>\n",
              "      <td>0</td>\n",
              "      <td>0</td>\n",
              "      <td>0</td>\n",
              "      <td>0</td>\n",
              "      <td>NaN</td>\n",
              "      <td>NaN</td>\n",
              "    </tr>\n",
              "  </tbody>\n",
              "</table>\n",
              "</div>\n",
              "      <button class=\"colab-df-convert\" onclick=\"convertToInteractive('df-ca9e0057-713e-4b35-b170-6588561fb8a1')\"\n",
              "              title=\"Convert this dataframe to an interactive table.\"\n",
              "              style=\"display:none;\">\n",
              "        \n",
              "  <svg xmlns=\"http://www.w3.org/2000/svg\" height=\"24px\"viewBox=\"0 0 24 24\"\n",
              "       width=\"24px\">\n",
              "    <path d=\"M0 0h24v24H0V0z\" fill=\"none\"/>\n",
              "    <path d=\"M18.56 5.44l.94 2.06.94-2.06 2.06-.94-2.06-.94-.94-2.06-.94 2.06-2.06.94zm-11 1L8.5 8.5l.94-2.06 2.06-.94-2.06-.94L8.5 2.5l-.94 2.06-2.06.94zm10 10l.94 2.06.94-2.06 2.06-.94-2.06-.94-.94-2.06-.94 2.06-2.06.94z\"/><path d=\"M17.41 7.96l-1.37-1.37c-.4-.4-.92-.59-1.43-.59-.52 0-1.04.2-1.43.59L10.3 9.45l-7.72 7.72c-.78.78-.78 2.05 0 2.83L4 21.41c.39.39.9.59 1.41.59.51 0 1.02-.2 1.41-.59l7.78-7.78 2.81-2.81c.8-.78.8-2.07 0-2.86zM5.41 20L4 18.59l7.72-7.72 1.47 1.35L5.41 20z\"/>\n",
              "  </svg>\n",
              "      </button>\n",
              "      \n",
              "  <style>\n",
              "    .colab-df-container {\n",
              "      display:flex;\n",
              "      flex-wrap:wrap;\n",
              "      gap: 12px;\n",
              "    }\n",
              "\n",
              "    .colab-df-convert {\n",
              "      background-color: #E8F0FE;\n",
              "      border: none;\n",
              "      border-radius: 50%;\n",
              "      cursor: pointer;\n",
              "      display: none;\n",
              "      fill: #1967D2;\n",
              "      height: 32px;\n",
              "      padding: 0 0 0 0;\n",
              "      width: 32px;\n",
              "    }\n",
              "\n",
              "    .colab-df-convert:hover {\n",
              "      background-color: #E2EBFA;\n",
              "      box-shadow: 0px 1px 2px rgba(60, 64, 67, 0.3), 0px 1px 3px 1px rgba(60, 64, 67, 0.15);\n",
              "      fill: #174EA6;\n",
              "    }\n",
              "\n",
              "    [theme=dark] .colab-df-convert {\n",
              "      background-color: #3B4455;\n",
              "      fill: #D2E3FC;\n",
              "    }\n",
              "\n",
              "    [theme=dark] .colab-df-convert:hover {\n",
              "      background-color: #434B5C;\n",
              "      box-shadow: 0px 1px 3px 1px rgba(0, 0, 0, 0.15);\n",
              "      filter: drop-shadow(0px 1px 2px rgba(0, 0, 0, 0.3));\n",
              "      fill: #FFFFFF;\n",
              "    }\n",
              "  </style>\n",
              "\n",
              "      <script>\n",
              "        const buttonEl =\n",
              "          document.querySelector('#df-ca9e0057-713e-4b35-b170-6588561fb8a1 button.colab-df-convert');\n",
              "        buttonEl.style.display =\n",
              "          google.colab.kernel.accessAllowed ? 'block' : 'none';\n",
              "\n",
              "        async function convertToInteractive(key) {\n",
              "          const element = document.querySelector('#df-ca9e0057-713e-4b35-b170-6588561fb8a1');\n",
              "          const dataTable =\n",
              "            await google.colab.kernel.invokeFunction('convertToInteractive',\n",
              "                                                     [key], {});\n",
              "          if (!dataTable) return;\n",
              "\n",
              "          const docLinkHtml = 'Like what you see? Visit the ' +\n",
              "            '<a target=\"_blank\" href=https://colab.research.google.com/notebooks/data_table.ipynb>data table notebook</a>'\n",
              "            + ' to learn more about interactive tables.';\n",
              "          element.innerHTML = '';\n",
              "          dataTable['output_type'] = 'display_data';\n",
              "          await google.colab.output.renderOutput(dataTable, element);\n",
              "          const docLink = document.createElement('div');\n",
              "          docLink.innerHTML = docLinkHtml;\n",
              "          element.appendChild(docLink);\n",
              "        }\n",
              "      </script>\n",
              "    </div>\n",
              "  </div>\n",
              "  "
            ]
          },
          "metadata": {},
          "execution_count": 49
        },
        {
          "output_type": "stream",
          "name": "stdout",
          "text": [
            "<class 'pandas.core.frame.DataFrame'>\n",
            "RangeIndex: 10000 entries, 0 to 9999\n",
            "Data columns (total 10 columns):\n",
            " #   Column        Non-Null Count  Dtype  \n",
            "---  ------        --------------  -----  \n",
            " 0   datetime      10000 non-null  object \n",
            " 1   id            10000 non-null  int64  \n",
            " 2   tweet         10000 non-null  object \n",
            " 3   username      10000 non-null  object \n",
            " 4   reply_ct      10000 non-null  int64  \n",
            " 5   retweet_ct    10000 non-null  int64  \n",
            " 6   like_ct       10000 non-null  int64  \n",
            " 7   quote_ct      10000 non-null  int64  \n",
            " 8   retweeted_id  0 non-null      float64\n",
            " 9   quoted_id     705 non-null    object \n",
            "dtypes: float64(1), int64(5), object(4)\n",
            "memory usage: 781.4+ KB\n",
            "SUCCESS: Tweets datafile [tweets_raw_twitteracquisition_20221110_173137_20221215_192524.csv] read into DataFrame 'data_df'\n"
          ]
        }
      ],
      "source": [
        "# Read raw tweet datafile into DataFrame 'data'\n",
        "\n",
        "# NOTE: Tweets have many encoding and other parsing errors so\n",
        "#       just do basic read and then try to set dtype\n",
        "\n",
        "try:\n",
        "  headers = ['datetime','id','tweet','username','reply_ct','retweet_ct','like_ct','quote_ct','retweeted_id','quoted_id']\n",
        "  dtypes_dt = {'datetime': str,\n",
        "            'id': int,\n",
        "            'tweet': str,\n",
        "            'username':str,\n",
        "            'reply_ct':int,\n",
        "            'retweet_ct':int,\n",
        "            'like_ct':int,\n",
        "            'quote_ct':int,\n",
        "            'retweeted_id':str,\n",
        "            'quoted_id':str}\n",
        "  parse_dates = ['datetime']\n",
        "  data_df = pd.read_csv(datafile_name, index_col=None) # , dtype=dtypes_dt) # , skiprows=[0]) # , names=headers) # , dtype=dtypes) # , parse_dates=parse_dates, index_col=None, on_bad_lines='ignore') # encoding='utf-8', on_bad_lines='ignore')\n",
        "  # data_df = pd.read_csv(datafile_name)\n",
        "  data_df.head()\n",
        "  data_df.info()\n",
        "  print(f\"SUCCESS: Tweets datafile [{datafile_name}] read into DataFrame 'data_df'\")\n",
        "except:\n",
        "  print(f'ERROR: Tweets datafile [{datafile_name}] cannot be read by pd.read_csv')"
      ]
    },
    {
      "cell_type": "code",
      "source": [
        "# Drop unused columns\n",
        "\n",
        "if 'reply_ct' in data_df.columns:\n",
        "  data_df.drop(columns=['reply_ct'], inplace=True)\n",
        "\n",
        "if 'retweet_ct' in data_df.columns:\n",
        "  data_df.drop(columns=['retweet_ct'], inplace=True)\n",
        "\n",
        "if 'like_ct' in data_df.columns:\n",
        "  data_df.drop(columns=['like_ct'], inplace=True)\n",
        "\n",
        "if 'quote_ct' in data_df.columns:\n",
        "  data_df.drop(columns=['quote_ct'], inplace=True)\n",
        "\n",
        "if 'retweeted_id' in data_df.columns:\n",
        "  data_df.drop(columns=['retweeted_id'], inplace=True)\n",
        "\n",
        "if 'quoted_id' in data_df.columns:\n",
        "  data_df.drop(columns=['quoted_id'], inplace=True)\n",
        "\n",
        "data_df.info()"
      ],
      "metadata": {
        "id": "dfJ9U26p0Cdv",
        "colab": {
          "base_uri": "https://localhost:8080/"
        },
        "outputId": "95606b4b-9982-4ae9-c493-1431865b0a8c"
      },
      "execution_count": 50,
      "outputs": [
        {
          "output_type": "stream",
          "name": "stdout",
          "text": [
            "<class 'pandas.core.frame.DataFrame'>\n",
            "RangeIndex: 10000 entries, 0 to 9999\n",
            "Data columns (total 4 columns):\n",
            " #   Column    Non-Null Count  Dtype \n",
            "---  ------    --------------  ----- \n",
            " 0   datetime  10000 non-null  object\n",
            " 1   id        10000 non-null  int64 \n",
            " 2   tweet     10000 non-null  object\n",
            " 3   username  10000 non-null  object\n",
            "dtypes: int64(1), object(3)\n",
            "memory usage: 312.6+ KB\n"
          ]
        }
      ]
    },
    {
      "cell_type": "code",
      "source": [
        "# DEBUG\n",
        "\n",
        "# data_df.iloc[8740:8750].datetime"
      ],
      "metadata": {
        "id": "_1qGBums0Cdv"
      },
      "execution_count": 51,
      "outputs": []
    },
    {
      "cell_type": "code",
      "source": [
        "# Clean and drop illegal datetime values\n",
        "\n",
        "data_df['datetime'] = pd.to_datetime(data_df['datetime'], errors='coerce')\n",
        "data_df = data_df.dropna(subset=['datetime'])\n",
        "data_df.info()\n"
      ],
      "metadata": {
        "id": "YGh-NZrt0Cdw",
        "colab": {
          "base_uri": "https://localhost:8080/"
        },
        "outputId": "bb347ca1-9404-404d-ede3-1ac267cbbe0f"
      },
      "execution_count": 52,
      "outputs": [
        {
          "output_type": "stream",
          "name": "stdout",
          "text": [
            "<class 'pandas.core.frame.DataFrame'>\n",
            "RangeIndex: 10000 entries, 0 to 9999\n",
            "Data columns (total 4 columns):\n",
            " #   Column    Non-Null Count  Dtype              \n",
            "---  ------    --------------  -----              \n",
            " 0   datetime  10000 non-null  datetime64[ns, UTC]\n",
            " 1   id        10000 non-null  int64              \n",
            " 2   tweet     10000 non-null  object             \n",
            " 3   username  10000 non-null  object             \n",
            "dtypes: datetime64[ns, UTC](1), int64(1), object(2)\n",
            "memory usage: 312.6+ KB\n"
          ]
        }
      ]
    },
    {
      "cell_type": "code",
      "source": [
        "# Drop any row that have at any NaN\n",
        "\n",
        "data_df.dropna(inplace=True)\n",
        "data_df.info()"
      ],
      "metadata": {
        "id": "xndLo5kH0Cdx",
        "colab": {
          "base_uri": "https://localhost:8080/"
        },
        "outputId": "075c4925-0588-45ee-8ca6-17f641d60f7a"
      },
      "execution_count": 53,
      "outputs": [
        {
          "output_type": "stream",
          "name": "stdout",
          "text": [
            "<class 'pandas.core.frame.DataFrame'>\n",
            "RangeIndex: 10000 entries, 0 to 9999\n",
            "Data columns (total 4 columns):\n",
            " #   Column    Non-Null Count  Dtype              \n",
            "---  ------    --------------  -----              \n",
            " 0   datetime  10000 non-null  datetime64[ns, UTC]\n",
            " 1   id        10000 non-null  int64              \n",
            " 2   tweet     10000 non-null  object             \n",
            " 3   username  10000 non-null  object             \n",
            "dtypes: datetime64[ns, UTC](1), int64(1), object(2)\n",
            "memory usage: 312.6+ KB\n"
          ]
        }
      ]
    },
    {
      "cell_type": "code",
      "source": [
        "data_df.convert_dtypes()\n",
        "data_df.info()"
      ],
      "metadata": {
        "id": "_8ZWA2lY0Cdz",
        "colab": {
          "base_uri": "https://localhost:8080/",
          "height": 621
        },
        "outputId": "4eb07860-f8ab-4162-d06f-2cdd745a85d3"
      },
      "execution_count": 54,
      "outputs": [
        {
          "output_type": "execute_result",
          "data": {
            "text/plain": [
              "                      datetime                   id  \\\n",
              "0    2022-11-10 17:31:37+00:00  1590759092447891457   \n",
              "1    2022-11-10 17:33:50+00:00  1590759652522065920   \n",
              "2    2022-11-10 17:34:04+00:00  1590759711267500033   \n",
              "3    2022-11-10 17:34:15+00:00  1590759756880232449   \n",
              "4    2022-11-10 17:35:06+00:00  1590759969951207424   \n",
              "...                        ...                  ...   \n",
              "9995 2022-12-15 19:12:29+00:00  1603468054716944399   \n",
              "9996 2022-12-15 19:12:38+00:00  1603468089517084675   \n",
              "9997 2022-12-15 19:13:28+00:00  1603468302420172800   \n",
              "9998 2022-12-15 19:21:49+00:00  1603470403627757568   \n",
              "9999 2022-12-15 19:25:24+00:00  1603471304107384832   \n",
              "\n",
              "                                                  tweet         username  \n",
              "0     @elonmusk Well Elon— I am new to twitter becau...    sarbaughtina1  \n",
              "1     I would think because Musk’s acquisition of Tw...     slicoricetea  \n",
              "2             @ShiLLin_ViLLian No twitter acquisition 😂      xerocooleth  \n",
              "3     Joe Biden says there are “lots of ways” Elon M...  Sherman4Liberty  \n",
              "4     On #NationalSecurity: Elon Musk and Twitter's ...       CMA_Social  \n",
              "...                                                 ...              ...  \n",
              "9995  @DoakFinancial @CAVandy We know why in this ca...      FermisSocks  \n",
              "9996  @elonmusk @Teslaconomics Your 'exposure' profi...   JohannaKristn7  \n",
              "9997  Andy Vermaut shares:Twitter Must Inform Laid-O...      AndyVermaut  \n",
              "9998  @joel_keranen @_jameshatfield_ @WholeMarsBlog ...        alwarming  \n",
              "9999  At his peak, he owned about a quarter of the c...     wallisweaver  \n",
              "\n",
              "[10000 rows x 4 columns]"
            ],
            "text/html": [
              "\n",
              "  <div id=\"df-a4ebb833-20da-4a2d-a7c1-6dd9e9002d4d\">\n",
              "    <div class=\"colab-df-container\">\n",
              "      <div>\n",
              "<style scoped>\n",
              "    .dataframe tbody tr th:only-of-type {\n",
              "        vertical-align: middle;\n",
              "    }\n",
              "\n",
              "    .dataframe tbody tr th {\n",
              "        vertical-align: top;\n",
              "    }\n",
              "\n",
              "    .dataframe thead th {\n",
              "        text-align: right;\n",
              "    }\n",
              "</style>\n",
              "<table border=\"1\" class=\"dataframe\">\n",
              "  <thead>\n",
              "    <tr style=\"text-align: right;\">\n",
              "      <th></th>\n",
              "      <th>datetime</th>\n",
              "      <th>id</th>\n",
              "      <th>tweet</th>\n",
              "      <th>username</th>\n",
              "    </tr>\n",
              "  </thead>\n",
              "  <tbody>\n",
              "    <tr>\n",
              "      <th>0</th>\n",
              "      <td>2022-11-10 17:31:37+00:00</td>\n",
              "      <td>1590759092447891457</td>\n",
              "      <td>@elonmusk Well Elon— I am new to twitter becau...</td>\n",
              "      <td>sarbaughtina1</td>\n",
              "    </tr>\n",
              "    <tr>\n",
              "      <th>1</th>\n",
              "      <td>2022-11-10 17:33:50+00:00</td>\n",
              "      <td>1590759652522065920</td>\n",
              "      <td>I would think because Musk’s acquisition of Tw...</td>\n",
              "      <td>slicoricetea</td>\n",
              "    </tr>\n",
              "    <tr>\n",
              "      <th>2</th>\n",
              "      <td>2022-11-10 17:34:04+00:00</td>\n",
              "      <td>1590759711267500033</td>\n",
              "      <td>@ShiLLin_ViLLian No twitter acquisition 😂</td>\n",
              "      <td>xerocooleth</td>\n",
              "    </tr>\n",
              "    <tr>\n",
              "      <th>3</th>\n",
              "      <td>2022-11-10 17:34:15+00:00</td>\n",
              "      <td>1590759756880232449</td>\n",
              "      <td>Joe Biden says there are “lots of ways” Elon M...</td>\n",
              "      <td>Sherman4Liberty</td>\n",
              "    </tr>\n",
              "    <tr>\n",
              "      <th>4</th>\n",
              "      <td>2022-11-10 17:35:06+00:00</td>\n",
              "      <td>1590759969951207424</td>\n",
              "      <td>On #NationalSecurity: Elon Musk and Twitter's ...</td>\n",
              "      <td>CMA_Social</td>\n",
              "    </tr>\n",
              "    <tr>\n",
              "      <th>...</th>\n",
              "      <td>...</td>\n",
              "      <td>...</td>\n",
              "      <td>...</td>\n",
              "      <td>...</td>\n",
              "    </tr>\n",
              "    <tr>\n",
              "      <th>9995</th>\n",
              "      <td>2022-12-15 19:12:29+00:00</td>\n",
              "      <td>1603468054716944399</td>\n",
              "      <td>@DoakFinancial @CAVandy We know why in this ca...</td>\n",
              "      <td>FermisSocks</td>\n",
              "    </tr>\n",
              "    <tr>\n",
              "      <th>9996</th>\n",
              "      <td>2022-12-15 19:12:38+00:00</td>\n",
              "      <td>1603468089517084675</td>\n",
              "      <td>@elonmusk @Teslaconomics Your 'exposure' profi...</td>\n",
              "      <td>JohannaKristn7</td>\n",
              "    </tr>\n",
              "    <tr>\n",
              "      <th>9997</th>\n",
              "      <td>2022-12-15 19:13:28+00:00</td>\n",
              "      <td>1603468302420172800</td>\n",
              "      <td>Andy Vermaut shares:Twitter Must Inform Laid-O...</td>\n",
              "      <td>AndyVermaut</td>\n",
              "    </tr>\n",
              "    <tr>\n",
              "      <th>9998</th>\n",
              "      <td>2022-12-15 19:21:49+00:00</td>\n",
              "      <td>1603470403627757568</td>\n",
              "      <td>@joel_keranen @_jameshatfield_ @WholeMarsBlog ...</td>\n",
              "      <td>alwarming</td>\n",
              "    </tr>\n",
              "    <tr>\n",
              "      <th>9999</th>\n",
              "      <td>2022-12-15 19:25:24+00:00</td>\n",
              "      <td>1603471304107384832</td>\n",
              "      <td>At his peak, he owned about a quarter of the c...</td>\n",
              "      <td>wallisweaver</td>\n",
              "    </tr>\n",
              "  </tbody>\n",
              "</table>\n",
              "<p>10000 rows × 4 columns</p>\n",
              "</div>\n",
              "      <button class=\"colab-df-convert\" onclick=\"convertToInteractive('df-a4ebb833-20da-4a2d-a7c1-6dd9e9002d4d')\"\n",
              "              title=\"Convert this dataframe to an interactive table.\"\n",
              "              style=\"display:none;\">\n",
              "        \n",
              "  <svg xmlns=\"http://www.w3.org/2000/svg\" height=\"24px\"viewBox=\"0 0 24 24\"\n",
              "       width=\"24px\">\n",
              "    <path d=\"M0 0h24v24H0V0z\" fill=\"none\"/>\n",
              "    <path d=\"M18.56 5.44l.94 2.06.94-2.06 2.06-.94-2.06-.94-.94-2.06-.94 2.06-2.06.94zm-11 1L8.5 8.5l.94-2.06 2.06-.94-2.06-.94L8.5 2.5l-.94 2.06-2.06.94zm10 10l.94 2.06.94-2.06 2.06-.94-2.06-.94-.94-2.06-.94 2.06-2.06.94z\"/><path d=\"M17.41 7.96l-1.37-1.37c-.4-.4-.92-.59-1.43-.59-.52 0-1.04.2-1.43.59L10.3 9.45l-7.72 7.72c-.78.78-.78 2.05 0 2.83L4 21.41c.39.39.9.59 1.41.59.51 0 1.02-.2 1.41-.59l7.78-7.78 2.81-2.81c.8-.78.8-2.07 0-2.86zM5.41 20L4 18.59l7.72-7.72 1.47 1.35L5.41 20z\"/>\n",
              "  </svg>\n",
              "      </button>\n",
              "      \n",
              "  <style>\n",
              "    .colab-df-container {\n",
              "      display:flex;\n",
              "      flex-wrap:wrap;\n",
              "      gap: 12px;\n",
              "    }\n",
              "\n",
              "    .colab-df-convert {\n",
              "      background-color: #E8F0FE;\n",
              "      border: none;\n",
              "      border-radius: 50%;\n",
              "      cursor: pointer;\n",
              "      display: none;\n",
              "      fill: #1967D2;\n",
              "      height: 32px;\n",
              "      padding: 0 0 0 0;\n",
              "      width: 32px;\n",
              "    }\n",
              "\n",
              "    .colab-df-convert:hover {\n",
              "      background-color: #E2EBFA;\n",
              "      box-shadow: 0px 1px 2px rgba(60, 64, 67, 0.3), 0px 1px 3px 1px rgba(60, 64, 67, 0.15);\n",
              "      fill: #174EA6;\n",
              "    }\n",
              "\n",
              "    [theme=dark] .colab-df-convert {\n",
              "      background-color: #3B4455;\n",
              "      fill: #D2E3FC;\n",
              "    }\n",
              "\n",
              "    [theme=dark] .colab-df-convert:hover {\n",
              "      background-color: #434B5C;\n",
              "      box-shadow: 0px 1px 3px 1px rgba(0, 0, 0, 0.15);\n",
              "      filter: drop-shadow(0px 1px 2px rgba(0, 0, 0, 0.3));\n",
              "      fill: #FFFFFF;\n",
              "    }\n",
              "  </style>\n",
              "\n",
              "      <script>\n",
              "        const buttonEl =\n",
              "          document.querySelector('#df-a4ebb833-20da-4a2d-a7c1-6dd9e9002d4d button.colab-df-convert');\n",
              "        buttonEl.style.display =\n",
              "          google.colab.kernel.accessAllowed ? 'block' : 'none';\n",
              "\n",
              "        async function convertToInteractive(key) {\n",
              "          const element = document.querySelector('#df-a4ebb833-20da-4a2d-a7c1-6dd9e9002d4d');\n",
              "          const dataTable =\n",
              "            await google.colab.kernel.invokeFunction('convertToInteractive',\n",
              "                                                     [key], {});\n",
              "          if (!dataTable) return;\n",
              "\n",
              "          const docLinkHtml = 'Like what you see? Visit the ' +\n",
              "            '<a target=\"_blank\" href=https://colab.research.google.com/notebooks/data_table.ipynb>data table notebook</a>'\n",
              "            + ' to learn more about interactive tables.';\n",
              "          element.innerHTML = '';\n",
              "          dataTable['output_type'] = 'display_data';\n",
              "          await google.colab.output.renderOutput(dataTable, element);\n",
              "          const docLink = document.createElement('div');\n",
              "          docLink.innerHTML = docLinkHtml;\n",
              "          element.appendChild(docLink);\n",
              "        }\n",
              "      </script>\n",
              "    </div>\n",
              "  </div>\n",
              "  "
            ]
          },
          "metadata": {},
          "execution_count": 54
        },
        {
          "output_type": "stream",
          "name": "stdout",
          "text": [
            "<class 'pandas.core.frame.DataFrame'>\n",
            "RangeIndex: 10000 entries, 0 to 9999\n",
            "Data columns (total 4 columns):\n",
            " #   Column    Non-Null Count  Dtype              \n",
            "---  ------    --------------  -----              \n",
            " 0   datetime  10000 non-null  datetime64[ns, UTC]\n",
            " 1   id        10000 non-null  int64              \n",
            " 2   tweet     10000 non-null  object             \n",
            " 3   username  10000 non-null  object             \n",
            "dtypes: datetime64[ns, UTC](1), int64(1), object(2)\n",
            "memory usage: 312.6+ KB\n"
          ]
        }
      ]
    },
    {
      "cell_type": "code",
      "source": [
        "# Try to convert Tweet text to string (raise error if incompatible encoding)\n",
        "\n",
        "# data_df['text_raw'] = data_df['text_raw'].apply(lambda x: str(x)) # \n",
        "data_df['text_raw'] = data_df['tweet']\n",
        "#vdata_df[['text_raw','username','text_noemoji','text_clean']] = data_df[['text_raw','username','text_noemoji','text_clean']].astype('string', errors='raise') # , errors='coerce')\n",
        "data_df[['text_raw','username']] = data_df[['text_raw','username']].astype('string', errors='raise') # , errors='coerce')\n",
        "# data_df = data_df.dropna(subset=['text_raw'])\n",
        "data_df.info()"
      ],
      "metadata": {
        "id": "hHmHD4Qy0Cdz",
        "colab": {
          "base_uri": "https://localhost:8080/"
        },
        "outputId": "a10a5807-c6a8-49fc-b2a5-5a80f4bdf453"
      },
      "execution_count": 95,
      "outputs": [
        {
          "output_type": "stream",
          "name": "stdout",
          "text": [
            "<class 'pandas.core.frame.DataFrame'>\n",
            "RangeIndex: 10000 entries, 0 to 9999\n",
            "Data columns (total 5 columns):\n",
            " #   Column    Non-Null Count  Dtype              \n",
            "---  ------    --------------  -----              \n",
            " 0   datetime  10000 non-null  datetime64[ns, UTC]\n",
            " 1   id        10000 non-null  int64              \n",
            " 2   tweet     10000 non-null  object             \n",
            " 3   username  10000 non-null  string             \n",
            " 4   text_raw  10000 non-null  string             \n",
            "dtypes: datetime64[ns, UTC](1), int64(1), object(1), string(2)\n",
            "memory usage: 390.8+ KB\n"
          ]
        }
      ]
    },
    {
      "cell_type": "code",
      "source": [
        "\"\"\"\n",
        "data_df = data_df.astype({\"id\": \"int\",\n",
        "                          \"tweet\": \"str\",\n",
        "                          \"username\": \"str\",\n",
        "                          \"text_raw\": \"str\",\n",
        "                          \"text_noemoji\": \"str\",\n",
        "                          \"text_clean\": \"str\",\n",
        "                          \"vader\": \"float\",\n",
        "                          \"textblob\": \"float\",\n",
        "                          \"distilbert\": \"float\",\n",
        "                          \"roberta_twitter_noemoji\": \"float\"})\n",
        "\n",
        "data_df.info()\n",
        "\"\"\";"
      ],
      "metadata": {
        "id": "3ezzSoU90Cd0"
      },
      "execution_count": 62,
      "outputs": []
    },
    {
      "cell_type": "code",
      "source": [
        "# DEBUG\n",
        "\n",
        "# df is the DataFrame, and column_list is a list of columns as strings (e.g [\"col1\",\"col2\",\"col3\"])\n",
        "# dependencies: pandas\n",
        "\n",
        "def coerce_df_columns_to_string(df, column_list):\n",
        "    df[column_list] = df[column_list].apply(pd.to_string, errors='coerce')\n",
        "\n",
        "# coerce_df_columns_to_string(data_df, ['tweet','username'])\n",
        "# data_df.info()"
      ],
      "metadata": {
        "id": "J6kZInkS0Cd1"
      },
      "execution_count": 63,
      "outputs": []
    },
    {
      "cell_type": "code",
      "execution_count": 64,
      "metadata": {
        "id": "HOObTJMe0Cd1",
        "colab": {
          "base_uri": "https://localhost:8080/"
        },
        "outputId": "2471ea60-7241-4b3b-8321-08a3c9c2eddc"
      },
      "outputs": [
        {
          "output_type": "stream",
          "name": "stdout",
          "text": [
            "Tweet Dataset Retrieved:\n",
            "\n",
            " Raw Tweet Count: 10000\n",
            "\n",
            "\n",
            "      First Date: 2022-11-10 17:31:37+00:00 (vs start_target_date: 20221110)\n",
            "       Last Date: 2022-12-15 19:25:24+00:00 (vs end_target_date: 20221215)\n",
            "\n",
            "\n"
          ]
        }
      ],
      "source": [
        "# Calculate Data Range\n",
        "print(f'Tweet Dataset Retrieved:\\n')\n",
        "\n",
        "# start_retrieve_date = data_df.datetime.min().strftime('%Y-%m-%d-%H:%M:%S')\n",
        "# end_retrieve_date = data_df.datetime.max().strftime('%Y-%m-%d-%H:%M:%S')\n",
        "start_retrieve_date = data_df.datetime.min() # .strftime('%Y%m%d_%H%M%S')\n",
        "end_retrieve_date = data_df.datetime.max() # .strftime('%Y%m%d_%H%M%S')\n",
        "\n",
        "print(f' Raw Tweet Count: {data_df.shape[0]}')\n",
        "print('\\n')\n",
        "print(f'      First Date: {start_retrieve_date} (vs start_target_date: {start_date})')\n",
        "print(f'       Last Date: {end_retrieve_date} (vs end_target_date: {end_date})')\n",
        "# print('\\n')\n",
        "# print(f'   ReTweet Count: {data_df.retweeted_id.count().sum()}')\n",
        "# print(f'    Quoted Count: {data_df.quoted_id.count().sum()}')\n",
        "# print('\\n')\n",
        "# print(f'     Reply %: {100*data_df.reply_ct.count().sum()/data_df.shape[0]:.2f}%')\n",
        "# print(f'   ReTweet %: {100*data_df.retweet_ct.count().sum()/data_df.shape[0]:.2f}%')\n",
        "# print(f'      Like %: {100*data_df.like_ct.count().sum()/data_df.shape[0]:.2f}%')\n",
        "# print(f'     Quote %: {100*data_df.quote_ct.count().sum()/data_df.shape[0]:.2f}%')\n",
        "\n",
        "print('\\n')"
      ]
    },
    {
      "cell_type": "code",
      "execution_count": 65,
      "metadata": {
        "id": "IQW3K1Pn0Cd2",
        "colab": {
          "base_uri": "https://localhost:8080/",
          "height": 687
        },
        "outputId": "0e2ba611-00a9-4cf7-c1ca-ddccd171d9af"
      },
      "outputs": [
        {
          "output_type": "display_data",
          "data": {
            "text/plain": [
              "<Figure size 1440x720 with 1 Axes>"
            ],
            "image/png": "[encoded data removed]"
          },
          "metadata": {
            "needs_background": "light"
          }
        }
      ],
      "source": [
        "# Histogram of Tweet Counts over retrieved datetime range\n",
        "\n",
        "# CUSTOMIZE\n",
        "bin_ct = 100\n",
        "\n",
        "_ = fig, ax = plt.subplots()\n",
        "_ = data_df[\"datetime\"].astype(np.int64).plot.hist(bins=bin_ct, ax=ax)\n",
        "_ = labels = ax.get_xticks().tolist()\n",
        "_ = labels = pd.to_datetime(labels)\n",
        "_ = ax.set_xticklabels(labels, rotation=90)\n",
        "_ = plt.grid()\n",
        "_ = plt.show();"
      ]
    },
    {
      "cell_type": "markdown",
      "metadata": {
        "id": "RxpHO-qgnHAA"
      },
      "source": [
        "# **Trim Time Series**\n",
        "\n",
        "If you have multiple Sentiment Time Series from multiple queries they will probably have different starting datetimes. \n",
        "\n",
        "I you want to compare these ragged time series directly, you'll have to trim the longer time series to have the same length as the shortest.\n",
        "\n",
        "Do this outside this notebook in a simple text editor by \n",
        "1. Downloading the tweets_clean*.csv file\n",
        "2. Editing/triming the file locally\n",
        "3. Uploading the those tweets_clean_*.csv files that needed trimming"
      ]
    },
    {
      "cell_type": "markdown",
      "metadata": {
        "id": "hBwtuQFiDtxW"
      },
      "source": [
        "# **Sentiment Analysis**"
      ]
    },
    {
      "cell_type": "markdown",
      "source": [
        "## OPTION (a): Compute Sentiment Values"
      ],
      "metadata": {
        "id": "b0YJ6V1kFNDM"
      }
    },
    {
      "cell_type": "markdown",
      "metadata": {
        "id": "mujSX6yGnMzV"
      },
      "source": [
        "### VADER"
      ]
    },
    {
      "cell_type": "code",
      "execution_count": 66,
      "metadata": {
        "id": "JT_rpH80BDq2",
        "colab": {
          "base_uri": "https://localhost:8080/"
        },
        "outputId": "e7d2f5f2-1b02-4c42-8d01-6e9c059a72cb"
      },
      "outputs": [
        {
          "output_type": "stream",
          "name": "stdout",
          "text": [
            "Looking in indexes: https://pypi.org/simple, https://us-python.pkg.dev/colab-wheels/public/simple/\n",
            "Collecting vaderSentiment\n",
            "  Downloading vaderSentiment-3.3.2-py2.py3-none-any.whl (125 kB)\n",
            "\u001b[K     |████████████████████████████████| 125 kB 5.2 MB/s \n",
            "\u001b[?25hRequirement already satisfied: requests in /usr/local/lib/python3.8/dist-packages (from vaderSentiment) (2.23.0)\n",
            "Requirement already satisfied: chardet<4,>=3.0.2 in /usr/local/lib/python3.8/dist-packages (from requests->vaderSentiment) (3.0.4)\n",
            "Requirement already satisfied: certifi>=2017.4.17 in /usr/local/lib/python3.8/dist-packages (from requests->vaderSentiment) (2022.9.24)\n",
            "Requirement already satisfied: urllib3!=1.25.0,!=1.25.1,<1.26,>=1.21.1 in /usr/local/lib/python3.8/dist-packages (from requests->vaderSentiment) (1.24.3)\n",
            "Requirement already satisfied: idna<3,>=2.5 in /usr/local/lib/python3.8/dist-packages (from requests->vaderSentiment) (2.10)\n",
            "Installing collected packages: vaderSentiment\n",
            "Successfully installed vaderSentiment-3.3.2\n"
          ]
        }
      ],
      "source": [
        "!pip install vaderSentiment"
      ]
    },
    {
      "cell_type": "code",
      "execution_count": 67,
      "metadata": {
        "id": "MBh2N-WkEGWR",
        "colab": {
          "base_uri": "https://localhost:8080/"
        },
        "outputId": "f67fc06f-85a6-4d36-dab6-8181ff9e119f"
      },
      "outputs": [
        {
          "output_type": "execute_result",
          "data": {
            "text/plain": [
              "0.6369"
            ]
          },
          "metadata": {},
          "execution_count": 67
        }
      ],
      "source": [
        "from vaderSentiment.vaderSentiment import SentimentIntensityAnalyzer\n",
        "\n",
        "vader_sa = SentimentIntensityAnalyzer()\n",
        "\n",
        "# Test\n",
        "\n",
        "vader_sa.polarity_scores('I love lint')['compound']"
      ]
    },
    {
      "cell_type": "code",
      "execution_count": 74,
      "metadata": {
        "id": "ZDDsGnsuEBMO",
        "colab": {
          "base_uri": "https://localhost:8080/",
          "height": 518
        },
        "outputId": "6e4c0749-1e42-4790-a50f-bf979b464c92"
      },
      "outputs": [
        {
          "output_type": "error",
          "ename": "KeyError",
          "evalue": "ignored",
          "traceback": [
            "\u001b[0;31m---------------------------------------------------------------------------\u001b[0m",
            "\u001b[0;31mKeyError\u001b[0m                                  Traceback (most recent call last)",
            "\u001b[0;32m/usr/local/lib/python3.8/dist-packages/pandas/core/indexes/base.py\u001b[0m in \u001b[0;36mget_loc\u001b[0;34m(self, key, method, tolerance)\u001b[0m\n\u001b[1;32m   3802\u001b[0m             \u001b[0;32mtry\u001b[0m\u001b[0;34m:\u001b[0m\u001b[0;34m\u001b[0m\u001b[0;34m\u001b[0m\u001b[0m\n\u001b[0;32m-> 3803\u001b[0;31m                 \u001b[0;32mreturn\u001b[0m \u001b[0mself\u001b[0m\u001b[0;34m.\u001b[0m\u001b[0m_engine\u001b[0m\u001b[0;34m.\u001b[0m\u001b[0mget_loc\u001b[0m\u001b[0;34m(\u001b[0m\u001b[0mcasted_key\u001b[0m\u001b[0;34m)\u001b[0m\u001b[0;34m\u001b[0m\u001b[0;34m\u001b[0m\u001b[0m\n\u001b[0m\u001b[1;32m   3804\u001b[0m             \u001b[0;32mexcept\u001b[0m \u001b[0mKeyError\u001b[0m \u001b[0;32mas\u001b[0m \u001b[0merr\u001b[0m\u001b[0;34m:\u001b[0m\u001b[0;34m\u001b[0m\u001b[0;34m\u001b[0m\u001b[0m\n",
            "\u001b[0;32m/usr/local/lib/python3.8/dist-packages/pandas/_libs/index.pyx\u001b[0m in \u001b[0;36mpandas._libs.index.IndexEngine.get_loc\u001b[0;34m()\u001b[0m\n",
            "\u001b[0;32m/usr/local/lib/python3.8/dist-packages/pandas/_libs/index.pyx\u001b[0m in \u001b[0;36mpandas._libs.index.IndexEngine.get_loc\u001b[0;34m()\u001b[0m\n",
            "\u001b[0;32mpandas/_libs/hashtable_class_helper.pxi\u001b[0m in \u001b[0;36mpandas._libs.hashtable.PyObjectHashTable.get_item\u001b[0;34m()\u001b[0m\n",
            "\u001b[0;32mpandas/_libs/hashtable_class_helper.pxi\u001b[0m in \u001b[0;36mpandas._libs.hashtable.PyObjectHashTable.get_item\u001b[0;34m()\u001b[0m\n",
            "\u001b[0;31mKeyError\u001b[0m: 'text_clean'",
            "\nThe above exception was the direct cause of the following exception:\n",
            "\u001b[0;31mKeyError\u001b[0m                                  Traceback (most recent call last)",
            "\u001b[0;32m<ipython-input-74-70f14405568e>\u001b[0m in \u001b[0;36m<module>\u001b[0;34m\u001b[0m\n\u001b[0;32m----> 1\u001b[0;31m \u001b[0mdata_df\u001b[0m\u001b[0;34m[\u001b[0m\u001b[0;34m'vader'\u001b[0m\u001b[0;34m]\u001b[0m \u001b[0;34m=\u001b[0m \u001b[0mdata_df\u001b[0m\u001b[0;34m[\u001b[0m\u001b[0;34m'text_clean'\u001b[0m\u001b[0;34m]\u001b[0m\u001b[0;34m.\u001b[0m\u001b[0mapply\u001b[0m\u001b[0;34m(\u001b[0m\u001b[0;32mlambda\u001b[0m \u001b[0mx\u001b[0m \u001b[0;34m:\u001b[0m \u001b[0mvader_sa\u001b[0m\u001b[0;34m.\u001b[0m\u001b[0mpolarity_scores\u001b[0m\u001b[0;34m(\u001b[0m\u001b[0mx\u001b[0m\u001b[0;34m)\u001b[0m\u001b[0;34m[\u001b[0m\u001b[0;34m'compound'\u001b[0m\u001b[0;34m]\u001b[0m\u001b[0;34m)\u001b[0m\u001b[0;34m\u001b[0m\u001b[0;34m\u001b[0m\u001b[0m\n\u001b[0m\u001b[1;32m      2\u001b[0m \u001b[0mdata_df\u001b[0m\u001b[0;34m.\u001b[0m\u001b[0mhead\u001b[0m\u001b[0;34m(\u001b[0m\u001b[0;36m5\u001b[0m\u001b[0;34m)\u001b[0m\u001b[0;34m\u001b[0m\u001b[0;34m\u001b[0m\u001b[0m\n",
            "\u001b[0;32m/usr/local/lib/python3.8/dist-packages/pandas/core/frame.py\u001b[0m in \u001b[0;36m__getitem__\u001b[0;34m(self, key)\u001b[0m\n\u001b[1;32m   3803\u001b[0m             \u001b[0;32mif\u001b[0m \u001b[0mself\u001b[0m\u001b[0;34m.\u001b[0m\u001b[0mcolumns\u001b[0m\u001b[0;34m.\u001b[0m\u001b[0mnlevels\u001b[0m \u001b[0;34m>\u001b[0m \u001b[0;36m1\u001b[0m\u001b[0;34m:\u001b[0m\u001b[0;34m\u001b[0m\u001b[0;34m\u001b[0m\u001b[0m\n\u001b[1;32m   3804\u001b[0m                 \u001b[0;32mreturn\u001b[0m \u001b[0mself\u001b[0m\u001b[0;34m.\u001b[0m\u001b[0m_getitem_multilevel\u001b[0m\u001b[0;34m(\u001b[0m\u001b[0mkey\u001b[0m\u001b[0;34m)\u001b[0m\u001b[0;34m\u001b[0m\u001b[0;34m\u001b[0m\u001b[0m\n\u001b[0;32m-> 3805\u001b[0;31m             \u001b[0mindexer\u001b[0m \u001b[0;34m=\u001b[0m \u001b[0mself\u001b[0m\u001b[0;34m.\u001b[0m\u001b[0mcolumns\u001b[0m\u001b[0;34m.\u001b[0m\u001b[0mget_loc\u001b[0m\u001b[0;34m(\u001b[0m\u001b[0mkey\u001b[0m\u001b[0;34m)\u001b[0m\u001b[0;34m\u001b[0m\u001b[0;34m\u001b[0m\u001b[0m\n\u001b[0m\u001b[1;32m   3806\u001b[0m             \u001b[0;32mif\u001b[0m \u001b[0mis_integer\u001b[0m\u001b[0;34m(\u001b[0m\u001b[0mindexer\u001b[0m\u001b[0;34m)\u001b[0m\u001b[0;34m:\u001b[0m\u001b[0;34m\u001b[0m\u001b[0;34m\u001b[0m\u001b[0m\n\u001b[1;32m   3807\u001b[0m                 \u001b[0mindexer\u001b[0m \u001b[0;34m=\u001b[0m \u001b[0;34m[\u001b[0m\u001b[0mindexer\u001b[0m\u001b[0;34m]\u001b[0m\u001b[0;34m\u001b[0m\u001b[0;34m\u001b[0m\u001b[0m\n",
            "\u001b[0;32m/usr/local/lib/python3.8/dist-packages/pandas/core/indexes/base.py\u001b[0m in \u001b[0;36mget_loc\u001b[0;34m(self, key, method, tolerance)\u001b[0m\n\u001b[1;32m   3803\u001b[0m                 \u001b[0;32mreturn\u001b[0m \u001b[0mself\u001b[0m\u001b[0;34m.\u001b[0m\u001b[0m_engine\u001b[0m\u001b[0;34m.\u001b[0m\u001b[0mget_loc\u001b[0m\u001b[0;34m(\u001b[0m\u001b[0mcasted_key\u001b[0m\u001b[0;34m)\u001b[0m\u001b[0;34m\u001b[0m\u001b[0;34m\u001b[0m\u001b[0m\n\u001b[1;32m   3804\u001b[0m             \u001b[0;32mexcept\u001b[0m \u001b[0mKeyError\u001b[0m \u001b[0;32mas\u001b[0m \u001b[0merr\u001b[0m\u001b[0;34m:\u001b[0m\u001b[0;34m\u001b[0m\u001b[0;34m\u001b[0m\u001b[0m\n\u001b[0;32m-> 3805\u001b[0;31m                 \u001b[0;32mraise\u001b[0m \u001b[0mKeyError\u001b[0m\u001b[0;34m(\u001b[0m\u001b[0mkey\u001b[0m\u001b[0;34m)\u001b[0m \u001b[0;32mfrom\u001b[0m \u001b[0merr\u001b[0m\u001b[0;34m\u001b[0m\u001b[0;34m\u001b[0m\u001b[0m\n\u001b[0m\u001b[1;32m   3806\u001b[0m             \u001b[0;32mexcept\u001b[0m \u001b[0mTypeError\u001b[0m\u001b[0;34m:\u001b[0m\u001b[0;34m\u001b[0m\u001b[0;34m\u001b[0m\u001b[0m\n\u001b[1;32m   3807\u001b[0m                 \u001b[0;31m# If we have a listlike key, _check_indexing_error will raise\u001b[0m\u001b[0;34m\u001b[0m\u001b[0;34m\u001b[0m\u001b[0;34m\u001b[0m\u001b[0m\n",
            "\u001b[0;31mKeyError\u001b[0m: 'text_clean'"
          ]
        }
      ],
      "source": [
        "data_df['vader'] = data_df['text_clean'].apply(lambda x : vader_sa.polarity_scores(x)['compound'])\n",
        "data_df.head(5)"
      ]
    },
    {
      "cell_type": "markdown",
      "metadata": {
        "id": "B_DEOrrfnQKT"
      },
      "source": [
        "### TextBlob"
      ]
    },
    {
      "cell_type": "code",
      "execution_count": 71,
      "metadata": {
        "id": "4tMg_wp7nQAW"
      },
      "outputs": [],
      "source": [
        "from textblob import TextBlob"
      ]
    },
    {
      "cell_type": "code",
      "execution_count": 72,
      "metadata": {
        "id": "b8PStLF-nkug",
        "colab": {
          "base_uri": "https://localhost:8080/"
        },
        "outputId": "8e784c9c-8172-4391-c394-ce6f3023dd37"
      },
      "outputs": [
        {
          "output_type": "stream",
          "name": "stdout",
          "text": [
            "0.39166666666666666\n"
          ]
        }
      ],
      "source": [
        "testimonial = TextBlob(\"Textblob is amazingly simple to use. What great fun!\")\n",
        "\n",
        "# Test\n",
        "print(testimonial.sentiment.polarity)"
      ]
    },
    {
      "cell_type": "code",
      "execution_count": 127,
      "metadata": {
        "id": "3b5YxuccnYTm",
        "colab": {
          "base_uri": "https://localhost:8080/",
          "height": 441
        },
        "outputId": "8f63a4e2-be92-4d15-e86d-33af1f69cc61"
      },
      "outputs": [
        {
          "output_type": "execute_result",
          "data": {
            "text/plain": [
              "                   datetime                   id  \\\n",
              "0 2022-11-10 17:31:37+00:00  1590759092447891457   \n",
              "1 2022-11-10 17:33:50+00:00  1590759652522065920   \n",
              "2 2022-11-10 17:34:04+00:00  1590759711267500033   \n",
              "3 2022-11-10 17:34:15+00:00  1590759756880232449   \n",
              "4 2022-11-10 17:35:06+00:00  1590759969951207424   \n",
              "\n",
              "                                               tweet         username  \\\n",
              "0  @elonmusk Well Elon— I am new to twitter becau...    sarbaughtina1   \n",
              "1  I would think because Musk’s acquisition of Tw...     slicoricetea   \n",
              "2          @ShiLLin_ViLLian No twitter acquisition 😂      xerocooleth   \n",
              "3  Joe Biden says there are “lots of ways” Elon M...  Sherman4Liberty   \n",
              "4  On #NationalSecurity: Elon Musk and Twitter's ...       CMA_Social   \n",
              "\n",
              "                                            text_raw  text_raw_type  \\\n",
              "0  @elonmusk Well Elon— I am new to twitter becau...  <class 'str'>   \n",
              "1  I would think because Musk’s acquisition of Tw...  <class 'str'>   \n",
              "2          @ShiLLin_ViLLian No twitter acquisition 😂  <class 'str'>   \n",
              "3  Joe Biden says there are “lots of ways” Elon M...  <class 'str'>   \n",
              "4  On #NationalSecurity: Elon Musk and Twitter's ...  <class 'str'>   \n",
              "\n",
              "                                        text_noemoji  \\\n",
              "0  @elonmusk Well Elon -- I am new to twitter bec...   \n",
              "1  I would think because Musk ' s acquisition of ...   \n",
              "2  @ShiLLin ViLLian No twitter acquisition face w...   \n",
              "3  Joe Biden says there are \" lots of ways \" Elon...   \n",
              "4  On #NationalSecurity Elon Musk and Twitter's S...   \n",
              "\n",
              "                                          text_clean  textblob  \n",
              "0        elon new twitter pay appreciate acquisition  0.136364  \n",
              "1  think musk s acquisition twitter zero good int...  0.366667  \n",
              "2          villian twitter acquisition face tear joy  0.800000  \n",
              "3  joe biden say lot way elon musk investigate tw...  0.000000  \n",
              "4  nationalsecurity elon musk twitter saudi situa... -0.062500  "
            ],
            "text/html": [
              "\n",
              "  <div id=\"df-99402d7d-b92e-412f-a117-422eace63bcd\">\n",
              "    <div class=\"colab-df-container\">\n",
              "      <div>\n",
              "<style scoped>\n",
              "    .dataframe tbody tr th:only-of-type {\n",
              "        vertical-align: middle;\n",
              "    }\n",
              "\n",
              "    .dataframe tbody tr th {\n",
              "        vertical-align: top;\n",
              "    }\n",
              "\n",
              "    .dataframe thead th {\n",
              "        text-align: right;\n",
              "    }\n",
              "</style>\n",
              "<table border=\"1\" class=\"dataframe\">\n",
              "  <thead>\n",
              "    <tr style=\"text-align: right;\">\n",
              "      <th></th>\n",
              "      <th>datetime</th>\n",
              "      <th>id</th>\n",
              "      <th>tweet</th>\n",
              "      <th>username</th>\n",
              "      <th>text_raw</th>\n",
              "      <th>text_raw_type</th>\n",
              "      <th>text_noemoji</th>\n",
              "      <th>text_clean</th>\n",
              "      <th>textblob</th>\n",
              "    </tr>\n",
              "  </thead>\n",
              "  <tbody>\n",
              "    <tr>\n",
              "      <th>0</th>\n",
              "      <td>2022-11-10 17:31:37+00:00</td>\n",
              "      <td>1590759092447891457</td>\n",
              "      <td>@elonmusk Well Elon— I am new to twitter becau...</td>\n",
              "      <td>sarbaughtina1</td>\n",
              "      <td>@elonmusk Well Elon— I am new to twitter becau...</td>\n",
              "      <td>&lt;class 'str'&gt;</td>\n",
              "      <td>@elonmusk Well Elon -- I am new to twitter bec...</td>\n",
              "      <td>elon new twitter pay appreciate acquisition</td>\n",
              "      <td>0.136364</td>\n",
              "    </tr>\n",
              "    <tr>\n",
              "      <th>1</th>\n",
              "      <td>2022-11-10 17:33:50+00:00</td>\n",
              "      <td>1590759652522065920</td>\n",
              "      <td>I would think because Musk’s acquisition of Tw...</td>\n",
              "      <td>slicoricetea</td>\n",
              "      <td>I would think because Musk’s acquisition of Tw...</td>\n",
              "      <td>&lt;class 'str'&gt;</td>\n",
              "      <td>I would think because Musk ' s acquisition of ...</td>\n",
              "      <td>think musk s acquisition twitter zero good int...</td>\n",
              "      <td>0.366667</td>\n",
              "    </tr>\n",
              "    <tr>\n",
              "      <th>2</th>\n",
              "      <td>2022-11-10 17:34:04+00:00</td>\n",
              "      <td>1590759711267500033</td>\n",
              "      <td>@ShiLLin_ViLLian No twitter acquisition 😂</td>\n",
              "      <td>xerocooleth</td>\n",
              "      <td>@ShiLLin_ViLLian No twitter acquisition 😂</td>\n",
              "      <td>&lt;class 'str'&gt;</td>\n",
              "      <td>@ShiLLin ViLLian No twitter acquisition face w...</td>\n",
              "      <td>villian twitter acquisition face tear joy</td>\n",
              "      <td>0.800000</td>\n",
              "    </tr>\n",
              "    <tr>\n",
              "      <th>3</th>\n",
              "      <td>2022-11-10 17:34:15+00:00</td>\n",
              "      <td>1590759756880232449</td>\n",
              "      <td>Joe Biden says there are “lots of ways” Elon M...</td>\n",
              "      <td>Sherman4Liberty</td>\n",
              "      <td>Joe Biden says there are “lots of ways” Elon M...</td>\n",
              "      <td>&lt;class 'str'&gt;</td>\n",
              "      <td>Joe Biden says there are \" lots of ways \" Elon...</td>\n",
              "      <td>joe biden say lot way elon musk investigate tw...</td>\n",
              "      <td>0.000000</td>\n",
              "    </tr>\n",
              "    <tr>\n",
              "      <th>4</th>\n",
              "      <td>2022-11-10 17:35:06+00:00</td>\n",
              "      <td>1590759969951207424</td>\n",
              "      <td>On #NationalSecurity: Elon Musk and Twitter's ...</td>\n",
              "      <td>CMA_Social</td>\n",
              "      <td>On #NationalSecurity: Elon Musk and Twitter's ...</td>\n",
              "      <td>&lt;class 'str'&gt;</td>\n",
              "      <td>On #NationalSecurity Elon Musk and Twitter's S...</td>\n",
              "      <td>nationalsecurity elon musk twitter saudi situa...</td>\n",
              "      <td>-0.062500</td>\n",
              "    </tr>\n",
              "  </tbody>\n",
              "</table>\n",
              "</div>\n",
              "      <button class=\"colab-df-convert\" onclick=\"convertToInteractive('df-99402d7d-b92e-412f-a117-422eace63bcd')\"\n",
              "              title=\"Convert this dataframe to an interactive table.\"\n",
              "              style=\"display:none;\">\n",
              "        \n",
              "  <svg xmlns=\"http://www.w3.org/2000/svg\" height=\"24px\"viewBox=\"0 0 24 24\"\n",
              "       width=\"24px\">\n",
              "    <path d=\"M0 0h24v24H0V0z\" fill=\"none\"/>\n",
              "    <path d=\"M18.56 5.44l.94 2.06.94-2.06 2.06-.94-2.06-.94-.94-2.06-.94 2.06-2.06.94zm-11 1L8.5 8.5l.94-2.06 2.06-.94-2.06-.94L8.5 2.5l-.94 2.06-2.06.94zm10 10l.94 2.06.94-2.06 2.06-.94-2.06-.94-.94-2.06-.94 2.06-2.06.94z\"/><path d=\"M17.41 7.96l-1.37-1.37c-.4-.4-.92-.59-1.43-.59-.52 0-1.04.2-1.43.59L10.3 9.45l-7.72 7.72c-.78.78-.78 2.05 0 2.83L4 21.41c.39.39.9.59 1.41.59.51 0 1.02-.2 1.41-.59l7.78-7.78 2.81-2.81c.8-.78.8-2.07 0-2.86zM5.41 20L4 18.59l7.72-7.72 1.47 1.35L5.41 20z\"/>\n",
              "  </svg>\n",
              "      </button>\n",
              "      \n",
              "  <style>\n",
              "    .colab-df-container {\n",
              "      display:flex;\n",
              "      flex-wrap:wrap;\n",
              "      gap: 12px;\n",
              "    }\n",
              "\n",
              "    .colab-df-convert {\n",
              "      background-color: #E8F0FE;\n",
              "      border: none;\n",
              "      border-radius: 50%;\n",
              "      cursor: pointer;\n",
              "      display: none;\n",
              "      fill: #1967D2;\n",
              "      height: 32px;\n",
              "      padding: 0 0 0 0;\n",
              "      width: 32px;\n",
              "    }\n",
              "\n",
              "    .colab-df-convert:hover {\n",
              "      background-color: #E2EBFA;\n",
              "      box-shadow: 0px 1px 2px rgba(60, 64, 67, 0.3), 0px 1px 3px 1px rgba(60, 64, 67, 0.15);\n",
              "      fill: #174EA6;\n",
              "    }\n",
              "\n",
              "    [theme=dark] .colab-df-convert {\n",
              "      background-color: #3B4455;\n",
              "      fill: #D2E3FC;\n",
              "    }\n",
              "\n",
              "    [theme=dark] .colab-df-convert:hover {\n",
              "      background-color: #434B5C;\n",
              "      box-shadow: 0px 1px 3px 1px rgba(0, 0, 0, 0.15);\n",
              "      filter: drop-shadow(0px 1px 2px rgba(0, 0, 0, 0.3));\n",
              "      fill: #FFFFFF;\n",
              "    }\n",
              "  </style>\n",
              "\n",
              "      <script>\n",
              "        const buttonEl =\n",
              "          document.querySelector('#df-99402d7d-b92e-412f-a117-422eace63bcd button.colab-df-convert');\n",
              "        buttonEl.style.display =\n",
              "          google.colab.kernel.accessAllowed ? 'block' : 'none';\n",
              "\n",
              "        async function convertToInteractive(key) {\n",
              "          const element = document.querySelector('#df-99402d7d-b92e-412f-a117-422eace63bcd');\n",
              "          const dataTable =\n",
              "            await google.colab.kernel.invokeFunction('convertToInteractive',\n",
              "                                                     [key], {});\n",
              "          if (!dataTable) return;\n",
              "\n",
              "          const docLinkHtml = 'Like what you see? Visit the ' +\n",
              "            '<a target=\"_blank\" href=https://colab.research.google.com/notebooks/data_table.ipynb>data table notebook</a>'\n",
              "            + ' to learn more about interactive tables.';\n",
              "          element.innerHTML = '';\n",
              "          dataTable['output_type'] = 'display_data';\n",
              "          await google.colab.output.renderOutput(dataTable, element);\n",
              "          const docLink = document.createElement('div');\n",
              "          docLink.innerHTML = docLinkHtml;\n",
              "          element.appendChild(docLink);\n",
              "        }\n",
              "      </script>\n",
              "    </div>\n",
              "  </div>\n",
              "  "
            ]
          },
          "metadata": {},
          "execution_count": 127
        }
      ],
      "source": [
        "data_df['textblob'] = data_df['text_clean'].apply(lambda x : TextBlob(x).sentiment.polarity)\n",
        "data_df.head()"
      ]
    },
    {
      "cell_type": "markdown",
      "metadata": {
        "id": "6PJ1Cv3QgjuS"
      },
      "source": [
        "### DistilBERT"
      ]
    },
    {
      "cell_type": "code",
      "execution_count": 131,
      "metadata": {
        "id": "ZH8zP_tlgmJv"
      },
      "outputs": [],
      "source": [
        "# from transformers import AutoTokenizer, AutoModelForSequenceClassification, Trainer"
      ]
    },
    {
      "cell_type": "code",
      "execution_count": 132,
      "metadata": {
        "id": "7Oc2KgoygjU6",
        "colab": {
          "base_uri": "https://localhost:8080/"
        },
        "outputId": "d7f6f0c7-3057-4129-efe7-37cd98a2cdcc"
      },
      "outputs": [
        {
          "output_type": "stream",
          "name": "stderr",
          "text": [
            "loading configuration file config.json from cache at /root/.cache/huggingface/hub/models--distilbert-base-uncased-finetuned-sst-2-english/snapshots/bfdd146ea2b6807255b73527f1327ca12b6ed5c4/config.json\n",
            "Model config DistilBertConfig {\n",
            "  \"_name_or_path\": \"distilbert-base-uncased-finetuned-sst-2-english\",\n",
            "  \"activation\": \"gelu\",\n",
            "  \"architectures\": [\n",
            "    \"DistilBertForSequenceClassification\"\n",
            "  ],\n",
            "  \"attention_dropout\": 0.1,\n",
            "  \"dim\": 768,\n",
            "  \"dropout\": 0.1,\n",
            "  \"finetuning_task\": \"sst-2\",\n",
            "  \"hidden_dim\": 3072,\n",
            "  \"id2label\": {\n",
            "    \"0\": \"NEGATIVE\",\n",
            "    \"1\": \"POSITIVE\"\n",
            "  },\n",
            "  \"initializer_range\": 0.02,\n",
            "  \"label2id\": {\n",
            "    \"NEGATIVE\": 0,\n",
            "    \"POSITIVE\": 1\n",
            "  },\n",
            "  \"max_position_embeddings\": 512,\n",
            "  \"model_type\": \"distilbert\",\n",
            "  \"n_heads\": 12,\n",
            "  \"n_layers\": 6,\n",
            "  \"output_past\": true,\n",
            "  \"pad_token_id\": 0,\n",
            "  \"qa_dropout\": 0.1,\n",
            "  \"seq_classif_dropout\": 0.2,\n",
            "  \"sinusoidal_pos_embds\": false,\n",
            "  \"tie_weights_\": true,\n",
            "  \"transformers_version\": \"4.25.1\",\n",
            "  \"vocab_size\": 30522\n",
            "}\n",
            "\n",
            "loading file vocab.txt from cache at /root/.cache/huggingface/hub/models--distilbert-base-uncased-finetuned-sst-2-english/snapshots/bfdd146ea2b6807255b73527f1327ca12b6ed5c4/vocab.txt\n",
            "loading file tokenizer.json from cache at None\n",
            "loading file added_tokens.json from cache at None\n",
            "loading file special_tokens_map.json from cache at None\n",
            "loading file tokenizer_config.json from cache at /root/.cache/huggingface/hub/models--distilbert-base-uncased-finetuned-sst-2-english/snapshots/bfdd146ea2b6807255b73527f1327ca12b6ed5c4/tokenizer_config.json\n",
            "loading configuration file config.json from cache at /root/.cache/huggingface/hub/models--distilbert-base-uncased-finetuned-sst-2-english/snapshots/bfdd146ea2b6807255b73527f1327ca12b6ed5c4/config.json\n",
            "Model config DistilBertConfig {\n",
            "  \"_name_or_path\": \"distilbert-base-uncased-finetuned-sst-2-english\",\n",
            "  \"activation\": \"gelu\",\n",
            "  \"architectures\": [\n",
            "    \"DistilBertForSequenceClassification\"\n",
            "  ],\n",
            "  \"attention_dropout\": 0.1,\n",
            "  \"dim\": 768,\n",
            "  \"dropout\": 0.1,\n",
            "  \"finetuning_task\": \"sst-2\",\n",
            "  \"hidden_dim\": 3072,\n",
            "  \"id2label\": {\n",
            "    \"0\": \"NEGATIVE\",\n",
            "    \"1\": \"POSITIVE\"\n",
            "  },\n",
            "  \"initializer_range\": 0.02,\n",
            "  \"label2id\": {\n",
            "    \"NEGATIVE\": 0,\n",
            "    \"POSITIVE\": 1\n",
            "  },\n",
            "  \"max_position_embeddings\": 512,\n",
            "  \"model_type\": \"distilbert\",\n",
            "  \"n_heads\": 12,\n",
            "  \"n_layers\": 6,\n",
            "  \"output_past\": true,\n",
            "  \"pad_token_id\": 0,\n",
            "  \"qa_dropout\": 0.1,\n",
            "  \"seq_classif_dropout\": 0.2,\n",
            "  \"sinusoidal_pos_embds\": false,\n",
            "  \"tie_weights_\": true,\n",
            "  \"transformers_version\": \"4.25.1\",\n",
            "  \"vocab_size\": 30522\n",
            "}\n",
            "\n",
            "loading configuration file config.json from cache at /root/.cache/huggingface/hub/models--distilbert-base-uncased-finetuned-sst-2-english/snapshots/bfdd146ea2b6807255b73527f1327ca12b6ed5c4/config.json\n",
            "Model config DistilBertConfig {\n",
            "  \"_name_or_path\": \"distilbert-base-uncased-finetuned-sst-2-english\",\n",
            "  \"activation\": \"gelu\",\n",
            "  \"architectures\": [\n",
            "    \"DistilBertForSequenceClassification\"\n",
            "  ],\n",
            "  \"attention_dropout\": 0.1,\n",
            "  \"dim\": 768,\n",
            "  \"dropout\": 0.1,\n",
            "  \"finetuning_task\": \"sst-2\",\n",
            "  \"hidden_dim\": 3072,\n",
            "  \"id2label\": {\n",
            "    \"0\": \"NEGATIVE\",\n",
            "    \"1\": \"POSITIVE\"\n",
            "  },\n",
            "  \"initializer_range\": 0.02,\n",
            "  \"label2id\": {\n",
            "    \"NEGATIVE\": 0,\n",
            "    \"POSITIVE\": 1\n",
            "  },\n",
            "  \"max_position_embeddings\": 512,\n",
            "  \"model_type\": \"distilbert\",\n",
            "  \"n_heads\": 12,\n",
            "  \"n_layers\": 6,\n",
            "  \"output_past\": true,\n",
            "  \"pad_token_id\": 0,\n",
            "  \"qa_dropout\": 0.1,\n",
            "  \"seq_classif_dropout\": 0.2,\n",
            "  \"sinusoidal_pos_embds\": false,\n",
            "  \"tie_weights_\": true,\n",
            "  \"transformers_version\": \"4.25.1\",\n",
            "  \"vocab_size\": 30522\n",
            "}\n",
            "\n",
            "loading configuration file config.json from cache at /root/.cache/huggingface/hub/models--distilbert-base-uncased-finetuned-sst-2-english/snapshots/bfdd146ea2b6807255b73527f1327ca12b6ed5c4/config.json\n",
            "Model config DistilBertConfig {\n",
            "  \"_name_or_path\": \"distilbert-base-uncased-finetuned-sst-2-english\",\n",
            "  \"activation\": \"gelu\",\n",
            "  \"architectures\": [\n",
            "    \"DistilBertForSequenceClassification\"\n",
            "  ],\n",
            "  \"attention_dropout\": 0.1,\n",
            "  \"dim\": 768,\n",
            "  \"dropout\": 0.1,\n",
            "  \"finetuning_task\": \"sst-2\",\n",
            "  \"hidden_dim\": 3072,\n",
            "  \"id2label\": {\n",
            "    \"0\": \"NEGATIVE\",\n",
            "    \"1\": \"POSITIVE\"\n",
            "  },\n",
            "  \"initializer_range\": 0.02,\n",
            "  \"label2id\": {\n",
            "    \"NEGATIVE\": 0,\n",
            "    \"POSITIVE\": 1\n",
            "  },\n",
            "  \"max_position_embeddings\": 512,\n",
            "  \"model_type\": \"distilbert\",\n",
            "  \"n_heads\": 12,\n",
            "  \"n_layers\": 6,\n",
            "  \"output_past\": true,\n",
            "  \"pad_token_id\": 0,\n",
            "  \"qa_dropout\": 0.1,\n",
            "  \"seq_classif_dropout\": 0.2,\n",
            "  \"sinusoidal_pos_embds\": false,\n",
            "  \"tie_weights_\": true,\n",
            "  \"transformers_version\": \"4.25.1\",\n",
            "  \"vocab_size\": 30522\n",
            "}\n",
            "\n",
            "loading weights file pytorch_model.bin from cache at /root/.cache/huggingface/hub/models--distilbert-base-uncased-finetuned-sst-2-english/snapshots/bfdd146ea2b6807255b73527f1327ca12b6ed5c4/pytorch_model.bin\n",
            "All model checkpoint weights were used when initializing DistilBertForSequenceClassification.\n",
            "\n",
            "All the weights of DistilBertForSequenceClassification were initialized from the model checkpoint at distilbert-base-uncased-finetuned-sst-2-english.\n",
            "If your task is similar to the task the model of the checkpoint was trained on, you can already use DistilBertForSequenceClassification for predictions without further training.\n",
            "No `TrainingArguments` passed, using `output_dir=tmp_trainer`.\n",
            "PyTorch: setting up devices\n",
            "The default value for the training argument `--report_to` will change in v5 (from all installed integrations to none). In v5, you will need to use `--report_to all` to get the same behavior as now. You should start updating your code and make this info disappear :-).\n"
          ]
        }
      ],
      "source": [
        "# Load tokenizer and model, create trainer\n",
        "\n",
        "model_name = \"distilbert-base-uncased-finetuned-sst-2-english\"\n",
        "tokenizer = AutoTokenizer.from_pretrained(model_name)\n",
        "model = AutoModelForSequenceClassification.from_pretrained(model_name)\n",
        "trainer = Trainer(model=model)"
      ]
    },
    {
      "cell_type": "code",
      "execution_count": 134,
      "metadata": {
        "id": "fDeh52wahP21"
      },
      "outputs": [],
      "source": [
        "# Create class for data preparation\n",
        "\n",
        "class SimpleDataset:\n",
        "    def __init__(self, tokenized_texts):\n",
        "        self.tokenized_texts = tokenized_texts\n",
        "    \n",
        "    def __len__(self):\n",
        "        return len(self.tokenized_texts[\"input_ids\"])\n",
        "    \n",
        "    def __getitem__(self, idx):\n",
        "        return {k: v[idx] for k, v in self.tokenized_texts.items()}"
      ]
    },
    {
      "cell_type": "code",
      "execution_count": 135,
      "metadata": {
        "id": "aiBSLYMfglsF",
        "colab": {
          "base_uri": "https://localhost:8080/"
        },
        "outputId": "8e02ce2d-d6fb-4cc4-fefc-be233b823177"
      },
      "outputs": [
        {
          "output_type": "stream",
          "name": "stdout",
          "text": [
            "CPU times: user 5 µs, sys: 0 ns, total: 5 µs\n",
            "Wall time: 8.34 µs\n"
          ]
        }
      ],
      "source": [
        "%%time\n",
        "\n",
        "# Test: text_sentiment_dt['cdickins_achristmascarol']['text_clean']\n",
        "\n",
        "# NOTE:  1m38s 14:00EST on 01 Nov 2022 Colab Pro (The Great Gatsby)\n",
        "#        1m39s 17:05EST on 01 Nov 2022 Colab Pro (The Great Gatsby)\n",
        "\n",
        "# Compute sentiment time series\n",
        "\n",
        "def get_distilbert_sentiment(text_clean_ls, sample_size=10):\n",
        "  # text_clean_ls = text_sentiment_dt['cdickins_achristmascarol']['text_clean'].to_list()\n",
        "  # text_clean_ls = text_sentiment_dt['cdickins_achristmascarol']['text_clean'].to_list()\n",
        "\n",
        "  # Tokenize texts and create prediction data set\n",
        "  tokenized_texts = tokenizer(text_clean_ls,truncation=True,padding=True)\n",
        "  pred_dataset = SimpleDataset(tokenized_texts)\n",
        "\n",
        "  # Run predictions\n",
        "  predictions = trainer.predict(pred_dataset)\n",
        "\n",
        "  # Transform predictions to labels\n",
        "  sentiment_ls = predictions.predictions.argmax(-1)\n",
        "  label_ls = pd.Series(sentiment_ls).map(model.config.id2label)\n",
        "  score_ls = (np.exp(predictions[0])/np.exp(predictions[0]).sum(-1,keepdims=True)).max(1)\n",
        "\n",
        "  # Create DataFrame with texts, predictions, labels, and scores\n",
        "  # line_no_ls = list(range(len(sentiment_ls)))\n",
        "  # distilbert_df = pd.DataFrame(list(zip(line_no_ls, text_clean_ls,sentiment_ls,label_ls,score_ls)), columns=['line_no','line','sentiment','label','score'])\n",
        "  # distilbert_df.head()\n",
        "\n",
        "  # Adjust for POS/NEG sign\n",
        "  label_score_ls = list(zip(label_ls,score_ls))\n",
        "  sentiment_signed_ls = [ascore if alabel.lower().strip()=='positive' else (-1.0*ascore) for alabel, ascore in label_score_ls] \n",
        "\n",
        "  # print(f'label_ls:\\n  {label_ls[:sample_size]}')\n",
        "  # print(f'score_ls:\\n {score_ls[:sample_size]}')\n",
        "\n",
        "  return sentiment_signed_ls, label_ls"
      ]
    },
    {
      "cell_type": "code",
      "execution_count": 136,
      "metadata": {
        "id": "YdDJWtaehFyu",
        "colab": {
          "base_uri": "https://localhost:8080/",
          "height": 215
        },
        "outputId": "0fc02972-873d-49fd-c046-bc72ae9687cc"
      },
      "outputs": [
        {
          "output_type": "stream",
          "name": "stderr",
          "text": [
            "***** Running Prediction *****\n",
            "  Num examples = 4\n",
            "  Batch size = 8\n"
          ]
        },
        {
          "output_type": "display_data",
          "data": {
            "text/plain": [
              "<IPython.core.display.HTML object>"
            ],
            "text/html": []
          },
          "metadata": {}
        },
        {
          "output_type": "stream",
          "name": "stdout",
          "text": [
            "sentiment_signed_ls:\n",
            "  [0.9998562, -0.9997524619102478, 0.9998695, 0.95023453]\n",
            "label_ls:\n",
            "  0    POSITIVE\n",
            "1    NEGATIVE\n",
            "2    POSITIVE\n",
            "3    POSITIVE\n",
            "dtype: object\n"
          ]
        }
      ],
      "source": [
        "# Test\n",
        "\n",
        "line_ls = ['I like that','That is annoying','This is great!','Wouldn´t recommend it.']\n",
        "sentiment_signed_ls, label_ls = get_distilbert_sentiment(line_ls)\n",
        "\n",
        "print(f'sentiment_signed_ls:\\n  {sentiment_signed_ls}')\n",
        "print(f'label_ls:\\n  {label_ls}')"
      ]
    },
    {
      "cell_type": "code",
      "execution_count": 137,
      "metadata": {
        "id": "kWmSsxPuhFs6",
        "colab": {
          "base_uri": "https://localhost:8080/",
          "height": 413
        },
        "outputId": "20f24f0d-62bf-4b72-f74e-146a5add9f60"
      },
      "outputs": [
        {
          "output_type": "stream",
          "name": "stderr",
          "text": [
            "***** Running Prediction *****\n",
            "  Num examples = 10000\n",
            "  Batch size = 8\n"
          ]
        },
        {
          "output_type": "display_data",
          "data": {
            "text/plain": [
              "<IPython.core.display.HTML object>"
            ],
            "text/html": []
          },
          "metadata": {}
        },
        {
          "output_type": "stream",
          "name": "stdout",
          "text": [
            "<class 'pandas.core.frame.DataFrame'>\n",
            "RangeIndex: 10000 entries, 0 to 9999\n",
            "Data columns (total 10 columns):\n",
            " #   Column         Non-Null Count  Dtype              \n",
            "---  ------         --------------  -----              \n",
            " 0   datetime       10000 non-null  datetime64[ns, UTC]\n",
            " 1   id             10000 non-null  int64              \n",
            " 2   tweet          10000 non-null  object             \n",
            " 3   username       10000 non-null  string             \n",
            " 4   text_raw       10000 non-null  object             \n",
            " 5   text_raw_type  10000 non-null  object             \n",
            " 6   text_noemoji   10000 non-null  object             \n",
            " 7   text_clean     10000 non-null  object             \n",
            " 8   textblob       10000 non-null  float64            \n",
            " 9   distilbert     10000 non-null  float64            \n",
            "dtypes: datetime64[ns, UTC](1), float64(2), int64(1), object(5), string(1)\n",
            "memory usage: 781.4+ KB\n",
            "CPU times: user 38min 19s, sys: 30.8 s, total: 38min 50s\n",
            "Wall time: 38min 45s\n"
          ]
        }
      ],
      "source": [
        "%%time\n",
        "\n",
        "# NOTE:    13s on Sun 20221204 @ 17:00AM EST Colab Pro T4 on 5k Tweets\n",
        "#          48s on Tue 20221206 @ 03:20AM EST Colab Pro T4 on 10k Tweets\n",
        "#        1m00s on Sun 20221211 @ 14:17PM EST Colab Pro T4 on 30k Tweets\n",
        "#        4m04s on Sun 20221211 @ 17:42PM EST Colab Pro T4 on 30k Tweets\n",
        "\n",
        "text_clean_ls = data_df['text_clean'].to_list()\n",
        "sentiment_ls, label_ls = get_distilbert_sentiment(text_clean_ls)\n",
        "\n",
        "data_df['distilbert'] = sentiment_ls\n",
        "data_df.head()\n",
        "data_df.info()"
      ]
    },
    {
      "cell_type": "code",
      "execution_count": 138,
      "metadata": {
        "id": "K0ydJq7_fMmO",
        "colab": {
          "base_uri": "https://localhost:8080/",
          "height": 513
        },
        "outputId": "046cbbe5-fe72-4721-fdfb-2f13a5e2b907"
      },
      "outputs": [
        {
          "output_type": "execute_result",
          "data": {
            "text/plain": [
              "                   datetime                   id  \\\n",
              "0 2022-11-10 17:31:37+00:00  1590759092447891457   \n",
              "1 2022-11-10 17:33:50+00:00  1590759652522065920   \n",
              "2 2022-11-10 17:34:04+00:00  1590759711267500033   \n",
              "3 2022-11-10 17:34:15+00:00  1590759756880232449   \n",
              "4 2022-11-10 17:35:06+00:00  1590759969951207424   \n",
              "\n",
              "                                               tweet         username  \\\n",
              "0  @elonmusk Well Elon— I am new to twitter becau...    sarbaughtina1   \n",
              "1  I would think because Musk’s acquisition of Tw...     slicoricetea   \n",
              "2          @ShiLLin_ViLLian No twitter acquisition 😂      xerocooleth   \n",
              "3  Joe Biden says there are “lots of ways” Elon M...  Sherman4Liberty   \n",
              "4  On #NationalSecurity: Elon Musk and Twitter's ...       CMA_Social   \n",
              "\n",
              "                                            text_raw  text_raw_type  \\\n",
              "0  @elonmusk Well Elon— I am new to twitter becau...  <class 'str'>   \n",
              "1  I would think because Musk’s acquisition of Tw...  <class 'str'>   \n",
              "2          @ShiLLin_ViLLian No twitter acquisition 😂  <class 'str'>   \n",
              "3  Joe Biden says there are “lots of ways” Elon M...  <class 'str'>   \n",
              "4  On #NationalSecurity: Elon Musk and Twitter's ...  <class 'str'>   \n",
              "\n",
              "                                        text_noemoji  \\\n",
              "0  @elonmusk Well Elon -- I am new to twitter bec...   \n",
              "1  I would think because Musk ' s acquisition of ...   \n",
              "2  @ShiLLin ViLLian No twitter acquisition face w...   \n",
              "3  Joe Biden says there are \" lots of ways \" Elon...   \n",
              "4  On #NationalSecurity Elon Musk and Twitter's S...   \n",
              "\n",
              "                                          text_clean  textblob  distilbert  \n",
              "0        elon new twitter pay appreciate acquisition  0.136364    0.920076  \n",
              "1  think musk s acquisition twitter zero good int...  0.366667   -0.998925  \n",
              "2          villian twitter acquisition face tear joy  0.800000    0.990348  \n",
              "3  joe biden say lot way elon musk investigate tw...  0.000000   -0.973682  \n",
              "4  nationalsecurity elon musk twitter saudi situa... -0.062500   -0.988260  "
            ],
            "text/html": [
              "\n",
              "  <div id=\"df-0a87013a-0cf4-458a-b9a5-cc7cac7e0d83\">\n",
              "    <div class=\"colab-df-container\">\n",
              "      <div>\n",
              "<style scoped>\n",
              "    .dataframe tbody tr th:only-of-type {\n",
              "        vertical-align: middle;\n",
              "    }\n",
              "\n",
              "    .dataframe tbody tr th {\n",
              "        vertical-align: top;\n",
              "    }\n",
              "\n",
              "    .dataframe thead th {\n",
              "        text-align: right;\n",
              "    }\n",
              "</style>\n",
              "<table border=\"1\" class=\"dataframe\">\n",
              "  <thead>\n",
              "    <tr style=\"text-align: right;\">\n",
              "      <th></th>\n",
              "      <th>datetime</th>\n",
              "      <th>id</th>\n",
              "      <th>tweet</th>\n",
              "      <th>username</th>\n",
              "      <th>text_raw</th>\n",
              "      <th>text_raw_type</th>\n",
              "      <th>text_noemoji</th>\n",
              "      <th>text_clean</th>\n",
              "      <th>textblob</th>\n",
              "      <th>distilbert</th>\n",
              "    </tr>\n",
              "  </thead>\n",
              "  <tbody>\n",
              "    <tr>\n",
              "      <th>0</th>\n",
              "      <td>2022-11-10 17:31:37+00:00</td>\n",
              "      <td>1590759092447891457</td>\n",
              "      <td>@elonmusk Well Elon— I am new to twitter becau...</td>\n",
              "      <td>sarbaughtina1</td>\n",
              "      <td>@elonmusk Well Elon— I am new to twitter becau...</td>\n",
              "      <td>&lt;class 'str'&gt;</td>\n",
              "      <td>@elonmusk Well Elon -- I am new to twitter bec...</td>\n",
              "      <td>elon new twitter pay appreciate acquisition</td>\n",
              "      <td>0.136364</td>\n",
              "      <td>0.920076</td>\n",
              "    </tr>\n",
              "    <tr>\n",
              "      <th>1</th>\n",
              "      <td>2022-11-10 17:33:50+00:00</td>\n",
              "      <td>1590759652522065920</td>\n",
              "      <td>I would think because Musk’s acquisition of Tw...</td>\n",
              "      <td>slicoricetea</td>\n",
              "      <td>I would think because Musk’s acquisition of Tw...</td>\n",
              "      <td>&lt;class 'str'&gt;</td>\n",
              "      <td>I would think because Musk ' s acquisition of ...</td>\n",
              "      <td>think musk s acquisition twitter zero good int...</td>\n",
              "      <td>0.366667</td>\n",
              "      <td>-0.998925</td>\n",
              "    </tr>\n",
              "    <tr>\n",
              "      <th>2</th>\n",
              "      <td>2022-11-10 17:34:04+00:00</td>\n",
              "      <td>1590759711267500033</td>\n",
              "      <td>@ShiLLin_ViLLian No twitter acquisition 😂</td>\n",
              "      <td>xerocooleth</td>\n",
              "      <td>@ShiLLin_ViLLian No twitter acquisition 😂</td>\n",
              "      <td>&lt;class 'str'&gt;</td>\n",
              "      <td>@ShiLLin ViLLian No twitter acquisition face w...</td>\n",
              "      <td>villian twitter acquisition face tear joy</td>\n",
              "      <td>0.800000</td>\n",
              "      <td>0.990348</td>\n",
              "    </tr>\n",
              "    <tr>\n",
              "      <th>3</th>\n",
              "      <td>2022-11-10 17:34:15+00:00</td>\n",
              "      <td>1590759756880232449</td>\n",
              "      <td>Joe Biden says there are “lots of ways” Elon M...</td>\n",
              "      <td>Sherman4Liberty</td>\n",
              "      <td>Joe Biden says there are “lots of ways” Elon M...</td>\n",
              "      <td>&lt;class 'str'&gt;</td>\n",
              "      <td>Joe Biden says there are \" lots of ways \" Elon...</td>\n",
              "      <td>joe biden say lot way elon musk investigate tw...</td>\n",
              "      <td>0.000000</td>\n",
              "      <td>-0.973682</td>\n",
              "    </tr>\n",
              "    <tr>\n",
              "      <th>4</th>\n",
              "      <td>2022-11-10 17:35:06+00:00</td>\n",
              "      <td>1590759969951207424</td>\n",
              "      <td>On #NationalSecurity: Elon Musk and Twitter's ...</td>\n",
              "      <td>CMA_Social</td>\n",
              "      <td>On #NationalSecurity: Elon Musk and Twitter's ...</td>\n",
              "      <td>&lt;class 'str'&gt;</td>\n",
              "      <td>On #NationalSecurity Elon Musk and Twitter's S...</td>\n",
              "      <td>nationalsecurity elon musk twitter saudi situa...</td>\n",
              "      <td>-0.062500</td>\n",
              "      <td>-0.988260</td>\n",
              "    </tr>\n",
              "  </tbody>\n",
              "</table>\n",
              "</div>\n",
              "      <button class=\"colab-df-convert\" onclick=\"convertToInteractive('df-0a87013a-0cf4-458a-b9a5-cc7cac7e0d83')\"\n",
              "              title=\"Convert this dataframe to an interactive table.\"\n",
              "              style=\"display:none;\">\n",
              "        \n",
              "  <svg xmlns=\"http://www.w3.org/2000/svg\" height=\"24px\"viewBox=\"0 0 24 24\"\n",
              "       width=\"24px\">\n",
              "    <path d=\"M0 0h24v24H0V0z\" fill=\"none\"/>\n",
              "    <path d=\"M18.56 5.44l.94 2.06.94-2.06 2.06-.94-2.06-.94-.94-2.06-.94 2.06-2.06.94zm-11 1L8.5 8.5l.94-2.06 2.06-.94-2.06-.94L8.5 2.5l-.94 2.06-2.06.94zm10 10l.94 2.06.94-2.06 2.06-.94-2.06-.94-.94-2.06-.94 2.06-2.06.94z\"/><path d=\"M17.41 7.96l-1.37-1.37c-.4-.4-.92-.59-1.43-.59-.52 0-1.04.2-1.43.59L10.3 9.45l-7.72 7.72c-.78.78-.78 2.05 0 2.83L4 21.41c.39.39.9.59 1.41.59.51 0 1.02-.2 1.41-.59l7.78-7.78 2.81-2.81c.8-.78.8-2.07 0-2.86zM5.41 20L4 18.59l7.72-7.72 1.47 1.35L5.41 20z\"/>\n",
              "  </svg>\n",
              "      </button>\n",
              "      \n",
              "  <style>\n",
              "    .colab-df-container {\n",
              "      display:flex;\n",
              "      flex-wrap:wrap;\n",
              "      gap: 12px;\n",
              "    }\n",
              "\n",
              "    .colab-df-convert {\n",
              "      background-color: #E8F0FE;\n",
              "      border: none;\n",
              "      border-radius: 50%;\n",
              "      cursor: pointer;\n",
              "      display: none;\n",
              "      fill: #1967D2;\n",
              "      height: 32px;\n",
              "      padding: 0 0 0 0;\n",
              "      width: 32px;\n",
              "    }\n",
              "\n",
              "    .colab-df-convert:hover {\n",
              "      background-color: #E2EBFA;\n",
              "      box-shadow: 0px 1px 2px rgba(60, 64, 67, 0.3), 0px 1px 3px 1px rgba(60, 64, 67, 0.15);\n",
              "      fill: #174EA6;\n",
              "    }\n",
              "\n",
              "    [theme=dark] .colab-df-convert {\n",
              "      background-color: #3B4455;\n",
              "      fill: #D2E3FC;\n",
              "    }\n",
              "\n",
              "    [theme=dark] .colab-df-convert:hover {\n",
              "      background-color: #434B5C;\n",
              "      box-shadow: 0px 1px 3px 1px rgba(0, 0, 0, 0.15);\n",
              "      filter: drop-shadow(0px 1px 2px rgba(0, 0, 0, 0.3));\n",
              "      fill: #FFFFFF;\n",
              "    }\n",
              "  </style>\n",
              "\n",
              "      <script>\n",
              "        const buttonEl =\n",
              "          document.querySelector('#df-0a87013a-0cf4-458a-b9a5-cc7cac7e0d83 button.colab-df-convert');\n",
              "        buttonEl.style.display =\n",
              "          google.colab.kernel.accessAllowed ? 'block' : 'none';\n",
              "\n",
              "        async function convertToInteractive(key) {\n",
              "          const element = document.querySelector('#df-0a87013a-0cf4-458a-b9a5-cc7cac7e0d83');\n",
              "          const dataTable =\n",
              "            await google.colab.kernel.invokeFunction('convertToInteractive',\n",
              "                                                     [key], {});\n",
              "          if (!dataTable) return;\n",
              "\n",
              "          const docLinkHtml = 'Like what you see? Visit the ' +\n",
              "            '<a target=\"_blank\" href=https://colab.research.google.com/notebooks/data_table.ipynb>data table notebook</a>'\n",
              "            + ' to learn more about interactive tables.';\n",
              "          element.innerHTML = '';\n",
              "          dataTable['output_type'] = 'display_data';\n",
              "          await google.colab.output.renderOutput(dataTable, element);\n",
              "          const docLink = document.createElement('div');\n",
              "          docLink.innerHTML = docLinkHtml;\n",
              "          element.appendChild(docLink);\n",
              "        }\n",
              "      </script>\n",
              "    </div>\n",
              "  </div>\n",
              "  "
            ]
          },
          "metadata": {},
          "execution_count": 138
        }
      ],
      "source": [
        "data_df.head()"
      ]
    },
    {
      "cell_type": "code",
      "source": [
        "# Save \n",
        "\n",
        "filename_sentiment_tweets = f\"tweets_sentiment_{slugify(search_str, separator='')}_{start_retrieve_date.strftime('%Y%m%d')}_{start_time}_{end_retrieve_date.strftime('%Y%m%d')}_{end_time}.csv\"\n",
        "print(f'Saving to file: {filename_sentiment_tweets}')\n",
        "\n",
        "data_df.to_csv(filename_sentiment_tweets, index=False)\n",
        "\n",
        "files.download(filename_sentiment_tweets)"
      ],
      "metadata": {
        "id": "7oeth_YX15HU",
        "colab": {
          "base_uri": "https://localhost:8080/",
          "height": 35
        },
        "outputId": "c508b119-d352-4d33-a86c-3f940c1eeeff"
      },
      "execution_count": 139,
      "outputs": [
        {
          "output_type": "stream",
          "name": "stdout",
          "text": [
            "Saving to file: tweets_sentiment_twitteracquisition_20221110_173137_20221215_192524.csv\n"
          ]
        },
        {
          "output_type": "display_data",
          "data": {
            "text/plain": [
              "<IPython.core.display.Javascript object>"
            ],
            "application/javascript": [
              "\n",
              "    async function download(id, filename, size) {\n",
              "      if (!google.colab.kernel.accessAllowed) {\n",
              "        return;\n",
              "      }\n",
              "      const div = document.createElement('div');\n",
              "      const label = document.createElement('label');\n",
              "      label.textContent = `Downloading \"${filename}\": `;\n",
              "      div.appendChild(label);\n",
              "      const progress = document.createElement('progress');\n",
              "      progress.max = size;\n",
              "      div.appendChild(progress);\n",
              "      document.body.appendChild(div);\n",
              "\n",
              "      const buffers = [];\n",
              "      let downloaded = 0;\n",
              "\n",
              "      const channel = await google.colab.kernel.comms.open(id);\n",
              "      // Send a message to notify the kernel that we're ready.\n",
              "      channel.send({})\n",
              "\n",
              "      for await (const message of channel.messages) {\n",
              "        // Send a message to notify the kernel that we're ready.\n",
              "        channel.send({})\n",
              "        if (message.buffers) {\n",
              "          for (const buffer of message.buffers) {\n",
              "            buffers.push(buffer);\n",
              "            downloaded += buffer.byteLength;\n",
              "            progress.value = downloaded;\n",
              "          }\n",
              "        }\n",
              "      }\n",
              "      const blob = new Blob(buffers, {type: 'application/binary'});\n",
              "      const a = document.createElement('a');\n",
              "      a.href = window.URL.createObjectURL(blob);\n",
              "      a.download = filename;\n",
              "      div.appendChild(a);\n",
              "      a.click();\n",
              "      div.remove();\n",
              "    }\n",
              "  "
            ]
          },
          "metadata": {}
        },
        {
          "output_type": "display_data",
          "data": {
            "text/plain": [
              "<IPython.core.display.Javascript object>"
            ],
            "application/javascript": [
              "download(\"download_8c20b4d0-f2ac-48bd-a5d5-12537a67e4b3\", \"tweets_sentiment_twitteracquisition_20221110_173137_20221215_192524.csv\", 8494773)"
            ]
          },
          "metadata": {}
        }
      ]
    },
    {
      "cell_type": "markdown",
      "metadata": {
        "id": "L-HliHVN8t1n"
      },
      "source": [
        "### Twitter RoBERTa (Fine-Tuned on Sentiment Data)\n",
        "\n",
        "* https://huggingface.co/cardiffnlp/twitter-roberta-base-emotion"
      ]
    },
    {
      "cell_type": "code",
      "execution_count": 140,
      "metadata": {
        "id": "VAHMWfROe8s6"
      },
      "outputs": [],
      "source": [
        "# from transformers import AutoModelForSequenceClassification, TFAutoModelForSequenceClassification, AutoTokenizer"
      ]
    },
    {
      "cell_type": "code",
      "execution_count": 141,
      "metadata": {
        "id": "0-Om9Ba4e8mk"
      },
      "outputs": [],
      "source": [
        "# Preprocess text (username and link placeholders)\n",
        "def preprocess(text):\n",
        "    new_text = []\n",
        "    for t in text.split(\" \"):\n",
        "        t = '@user' if t.startswith('@') and len(t) > 1 else t\n",
        "        t = 'http' if t.startswith('http') else t\n",
        "        new_text.append(t)\n",
        "    return \" \".join(new_text)"
      ]
    },
    {
      "cell_type": "code",
      "execution_count": 142,
      "metadata": {
        "id": "Kksc-dO7fcKG",
        "colab": {
          "base_uri": "https://localhost:8080/"
        },
        "outputId": "2fd2d129-ad25-4105-db4d-2ab3808a2d4a"
      },
      "outputs": [
        {
          "output_type": "stream",
          "name": "stderr",
          "text": [
            "Could not locate the tokenizer configuration file, will try to use the model config instead.\n",
            "loading configuration file config.json from cache at /root/.cache/huggingface/hub/models--cardiffnlp--twitter-roberta-base-sentiment/snapshots/b636d90b2ed53d7ba6006cefd76f29cd354dd9da/config.json\n",
            "Model config RobertaConfig {\n",
            "  \"_name_or_path\": \"cardiffnlp/twitter-roberta-base-sentiment\",\n",
            "  \"architectures\": [\n",
            "    \"RobertaForSequenceClassification\"\n",
            "  ],\n",
            "  \"attention_probs_dropout_prob\": 0.1,\n",
            "  \"bos_token_id\": 0,\n",
            "  \"classifier_dropout\": null,\n",
            "  \"eos_token_id\": 2,\n",
            "  \"gradient_checkpointing\": false,\n",
            "  \"hidden_act\": \"gelu\",\n",
            "  \"hidden_dropout_prob\": 0.1,\n",
            "  \"hidden_size\": 768,\n",
            "  \"id2label\": {\n",
            "    \"0\": \"LABEL_0\",\n",
            "    \"1\": \"LABEL_1\",\n",
            "    \"2\": \"LABEL_2\"\n",
            "  },\n",
            "  \"initializer_range\": 0.02,\n",
            "  \"intermediate_size\": 3072,\n",
            "  \"label2id\": {\n",
            "    \"LABEL_0\": 0,\n",
            "    \"LABEL_1\": 1,\n",
            "    \"LABEL_2\": 2\n",
            "  },\n",
            "  \"layer_norm_eps\": 1e-05,\n",
            "  \"max_position_embeddings\": 514,\n",
            "  \"model_type\": \"roberta\",\n",
            "  \"num_attention_heads\": 12,\n",
            "  \"num_hidden_layers\": 12,\n",
            "  \"pad_token_id\": 1,\n",
            "  \"position_embedding_type\": \"absolute\",\n",
            "  \"transformers_version\": \"4.25.1\",\n",
            "  \"type_vocab_size\": 1,\n",
            "  \"use_cache\": true,\n",
            "  \"vocab_size\": 50265\n",
            "}\n",
            "\n",
            "loading file vocab.json from cache at /root/.cache/huggingface/hub/models--cardiffnlp--twitter-roberta-base-sentiment/snapshots/b636d90b2ed53d7ba6006cefd76f29cd354dd9da/vocab.json\n",
            "loading file merges.txt from cache at /root/.cache/huggingface/hub/models--cardiffnlp--twitter-roberta-base-sentiment/snapshots/b636d90b2ed53d7ba6006cefd76f29cd354dd9da/merges.txt\n",
            "loading file tokenizer.json from cache at None\n",
            "loading file added_tokens.json from cache at None\n",
            "loading file special_tokens_map.json from cache at /root/.cache/huggingface/hub/models--cardiffnlp--twitter-roberta-base-sentiment/snapshots/b636d90b2ed53d7ba6006cefd76f29cd354dd9da/special_tokens_map.json\n",
            "loading file tokenizer_config.json from cache at None\n",
            "loading configuration file config.json from cache at /root/.cache/huggingface/hub/models--cardiffnlp--twitter-roberta-base-sentiment/snapshots/b636d90b2ed53d7ba6006cefd76f29cd354dd9da/config.json\n",
            "Model config RobertaConfig {\n",
            "  \"_name_or_path\": \"cardiffnlp/twitter-roberta-base-sentiment\",\n",
            "  \"architectures\": [\n",
            "    \"RobertaForSequenceClassification\"\n",
            "  ],\n",
            "  \"attention_probs_dropout_prob\": 0.1,\n",
            "  \"bos_token_id\": 0,\n",
            "  \"classifier_dropout\": null,\n",
            "  \"eos_token_id\": 2,\n",
            "  \"gradient_checkpointing\": false,\n",
            "  \"hidden_act\": \"gelu\",\n",
            "  \"hidden_dropout_prob\": 0.1,\n",
            "  \"hidden_size\": 768,\n",
            "  \"id2label\": {\n",
            "    \"0\": \"LABEL_0\",\n",
            "    \"1\": \"LABEL_1\",\n",
            "    \"2\": \"LABEL_2\"\n",
            "  },\n",
            "  \"initializer_range\": 0.02,\n",
            "  \"intermediate_size\": 3072,\n",
            "  \"label2id\": {\n",
            "    \"LABEL_0\": 0,\n",
            "    \"LABEL_1\": 1,\n",
            "    \"LABEL_2\": 2\n",
            "  },\n",
            "  \"layer_norm_eps\": 1e-05,\n",
            "  \"max_position_embeddings\": 514,\n",
            "  \"model_type\": \"roberta\",\n",
            "  \"num_attention_heads\": 12,\n",
            "  \"num_hidden_layers\": 12,\n",
            "  \"pad_token_id\": 1,\n",
            "  \"position_embedding_type\": \"absolute\",\n",
            "  \"transformers_version\": \"4.25.1\",\n",
            "  \"type_vocab_size\": 1,\n",
            "  \"use_cache\": true,\n",
            "  \"vocab_size\": 50265\n",
            "}\n",
            "\n",
            "loading configuration file config.json from cache at /root/.cache/huggingface/hub/models--cardiffnlp--twitter-roberta-base-sentiment/snapshots/b636d90b2ed53d7ba6006cefd76f29cd354dd9da/config.json\n",
            "Model config RobertaConfig {\n",
            "  \"_name_or_path\": \"cardiffnlp/twitter-roberta-base-sentiment\",\n",
            "  \"architectures\": [\n",
            "    \"RobertaForSequenceClassification\"\n",
            "  ],\n",
            "  \"attention_probs_dropout_prob\": 0.1,\n",
            "  \"bos_token_id\": 0,\n",
            "  \"classifier_dropout\": null,\n",
            "  \"eos_token_id\": 2,\n",
            "  \"gradient_checkpointing\": false,\n",
            "  \"hidden_act\": \"gelu\",\n",
            "  \"hidden_dropout_prob\": 0.1,\n",
            "  \"hidden_size\": 768,\n",
            "  \"id2label\": {\n",
            "    \"0\": \"LABEL_0\",\n",
            "    \"1\": \"LABEL_1\",\n",
            "    \"2\": \"LABEL_2\"\n",
            "  },\n",
            "  \"initializer_range\": 0.02,\n",
            "  \"intermediate_size\": 3072,\n",
            "  \"label2id\": {\n",
            "    \"LABEL_0\": 0,\n",
            "    \"LABEL_1\": 1,\n",
            "    \"LABEL_2\": 2\n",
            "  },\n",
            "  \"layer_norm_eps\": 1e-05,\n",
            "  \"max_position_embeddings\": 514,\n",
            "  \"model_type\": \"roberta\",\n",
            "  \"num_attention_heads\": 12,\n",
            "  \"num_hidden_layers\": 12,\n",
            "  \"pad_token_id\": 1,\n",
            "  \"position_embedding_type\": \"absolute\",\n",
            "  \"transformers_version\": \"4.25.1\",\n",
            "  \"type_vocab_size\": 1,\n",
            "  \"use_cache\": true,\n",
            "  \"vocab_size\": 50265\n",
            "}\n",
            "\n",
            "loading configuration file config.json from cache at /root/.cache/huggingface/hub/models--cardiffnlp--twitter-roberta-base-sentiment/snapshots/b636d90b2ed53d7ba6006cefd76f29cd354dd9da/config.json\n",
            "Model config RobertaConfig {\n",
            "  \"_name_or_path\": \"cardiffnlp/twitter-roberta-base-sentiment\",\n",
            "  \"architectures\": [\n",
            "    \"RobertaForSequenceClassification\"\n",
            "  ],\n",
            "  \"attention_probs_dropout_prob\": 0.1,\n",
            "  \"bos_token_id\": 0,\n",
            "  \"classifier_dropout\": null,\n",
            "  \"eos_token_id\": 2,\n",
            "  \"gradient_checkpointing\": false,\n",
            "  \"hidden_act\": \"gelu\",\n",
            "  \"hidden_dropout_prob\": 0.1,\n",
            "  \"hidden_size\": 768,\n",
            "  \"id2label\": {\n",
            "    \"0\": \"LABEL_0\",\n",
            "    \"1\": \"LABEL_1\",\n",
            "    \"2\": \"LABEL_2\"\n",
            "  },\n",
            "  \"initializer_range\": 0.02,\n",
            "  \"intermediate_size\": 3072,\n",
            "  \"label2id\": {\n",
            "    \"LABEL_0\": 0,\n",
            "    \"LABEL_1\": 1,\n",
            "    \"LABEL_2\": 2\n",
            "  },\n",
            "  \"layer_norm_eps\": 1e-05,\n",
            "  \"max_position_embeddings\": 514,\n",
            "  \"model_type\": \"roberta\",\n",
            "  \"num_attention_heads\": 12,\n",
            "  \"num_hidden_layers\": 12,\n",
            "  \"pad_token_id\": 1,\n",
            "  \"position_embedding_type\": \"absolute\",\n",
            "  \"transformers_version\": \"4.25.1\",\n",
            "  \"type_vocab_size\": 1,\n",
            "  \"use_cache\": true,\n",
            "  \"vocab_size\": 50265\n",
            "}\n",
            "\n",
            "loading weights file pytorch_model.bin from cache at /root/.cache/huggingface/hub/models--cardiffnlp--twitter-roberta-base-sentiment/snapshots/b636d90b2ed53d7ba6006cefd76f29cd354dd9da/pytorch_model.bin\n",
            "All model checkpoint weights were used when initializing RobertaForSequenceClassification.\n",
            "\n",
            "All the weights of RobertaForSequenceClassification were initialized from the model checkpoint at cardiffnlp/twitter-roberta-base-sentiment.\n",
            "If your task is similar to the task the model of the checkpoint was trained on, you can already use RobertaForSequenceClassification for predictions without further training.\n"
          ]
        }
      ],
      "source": [
        "# Tasks:\n",
        "#   emoji, emotion, hate, irony, offensive, sentiment\n",
        "#   stance/abortion, stance/atheism, stance/climate, stance/feminist, stance/hillary\n",
        "\n",
        "task='sentiment'\n",
        "model_name = f\"cardiffnlp/twitter-roberta-base-{task}\"\n",
        "tokenizer = AutoTokenizer.from_pretrained(model_name)\n",
        "model = AutoModelForSequenceClassification.from_pretrained(model_name)\n",
        "# model.save_pretrained(model_name)\n",
        "\n",
        "# download label mapping\n",
        "mapping_link = f\"https://raw.githubusercontent.com/cardiffnlp/tweeteval/main/datasets/{task}/mapping.txt\"\n",
        "with urllib.request.urlopen(mapping_link) as f:\n",
        "    html = f.read().decode('utf-8').split(\"\\n\")\n",
        "    csvreader = csv.reader(html, delimiter='\\t')\n",
        "labels = [row[1] for row in csvreader if len(row) > 1]"
      ]
    },
    {
      "cell_type": "code",
      "execution_count": 143,
      "metadata": {
        "id": "4oj610zZ8sa_",
        "colab": {
          "base_uri": "https://localhost:8080/"
        },
        "outputId": "33637b9a-c3b4-405c-a9f8-9d4196c6806c"
      },
      "outputs": [
        {
          "output_type": "stream",
          "name": "stdout",
          "text": [
            "1) positive 0.9699\n",
            "2) neutral 0.0293\n",
            "3) negative 0.0008\n"
          ]
        }
      ],
      "source": [
        "# Test\n",
        "\n",
        "text = \"Celebrating my promotion 😎\"\n",
        "text = preprocess(text)\n",
        "encoded_input = tokenizer(text, return_tensors='pt')\n",
        "output = model(**encoded_input)\n",
        "scores = output[0][0].detach().numpy()\n",
        "scores = softmax(scores)\n",
        "\n",
        "# # TF\n",
        "# model = TFAutoModelForSequenceClassification.from_pretrained(MODEL)\n",
        "# model.save_pretrained(MODEL)\n",
        "\n",
        "# text = \"Celebrating my promotion 😎\"\n",
        "# encoded_input = tokenizer(text, return_tensors='tf')\n",
        "# output = model(encoded_input)\n",
        "# scores = output[0][0].numpy()\n",
        "# scores = softmax(scores)\n",
        "\n",
        "ranking = np.argsort(scores)\n",
        "ranking = ranking[::-1]\n",
        "for i in range(scores.shape[0]):\n",
        "    l = labels[ranking[i]]\n",
        "    s = scores[ranking[i]]\n",
        "    print(f\"{i+1}) {l} {np.round(float(s), 4)}\")"
      ]
    },
    {
      "cell_type": "code",
      "execution_count": 144,
      "metadata": {
        "id": "ia_F3kGWhen_"
      },
      "outputs": [],
      "source": [
        "# Get sentiment for a no_emoji tweet\n",
        "\n",
        "def get_roberta_tweets(line_ls):\n",
        "\n",
        "  sentiment_ls = []\n",
        "\n",
        "  for text in tqdm(line_ls):\n",
        "    # text = \"Celebrating my promotion 😎\"\n",
        "    text_preproc = preprocess(text)\n",
        "    encoded_input = tokenizer(text_preproc, return_tensors='pt')\n",
        "    output = model(**encoded_input)\n",
        "    scores = output[0][0].detach().numpy()\n",
        "    scores = softmax(scores)\n",
        "\n",
        "    # # TF\n",
        "    # model = TFAutoModelForSequenceClassification.from_pretrained(MODEL)\n",
        "    # model.save_pretrained(MODEL)\n",
        "\n",
        "    # text = \"Celebrating my promotion 😎\"\n",
        "    # encoded_input = tokenizer(text, return_tensors='tf')\n",
        "    # output = model(encoded_input)\n",
        "    # scores = output[0][0].numpy()\n",
        "    # scores = softmax(scores)\n",
        "\n",
        "    ranking = np.argsort(scores)\n",
        "    ranking = ranking[::-1]\n",
        "    label_str = labels[ranking[0]]\n",
        "    if label_str == 'positive':\n",
        "      sentiment_ls.append(1)\n",
        "    elif label_str == 'negative':\n",
        "      sentiment_ls.append(-1)\n",
        "    else:\n",
        "      sentiment_ls.append(0)\n",
        "\n",
        "  return sentiment_ls\n"
      ]
    },
    {
      "cell_type": "code",
      "execution_count": 145,
      "metadata": {
        "id": "GPWBZSlSRrc5",
        "colab": {
          "base_uri": "https://localhost:8080/"
        },
        "outputId": "652d4454-e331-45f1-b4f7-c53a35689cc3"
      },
      "outputs": [
        {
          "output_type": "execute_result",
          "data": {
            "text/plain": [
              "153    @pwnallthethings There's another issue, too. I...\n",
              "154    @SpiroAgnewGhost LOL because he overpaid or be...\n",
              "155    @PattieWalker4 1/4 Troubled social media giant...\n",
              "Name: text_raw, dtype: object"
            ]
          },
          "metadata": {},
          "execution_count": 145
        }
      ],
      "source": [
        "data_df.iloc[153:156]['text_raw']"
      ]
    },
    {
      "cell_type": "code",
      "execution_count": null,
      "metadata": {
        "id": "-WwX41eyhTgd",
        "colab": {
          "base_uri": "https://localhost:8080/"
        },
        "outputId": "784258dd-dc8b-4804-e312-b2c75b4eab4a"
      },
      "outputs": [
        {
          "output_type": "stream",
          "name": "stderr",
          "text": [
            " 12%|█▏        | 1202/10000 [04:39<32:31,  4.51it/s]"
          ]
        }
      ],
      "source": [
        "%%time\n",
        "\n",
        "# NOTE:   32m00s on Sun 20221204 @ 17:02PM EST on Colab Pro T4 with 5k Tweets (2x processing)\n",
        "#       1h30m00s on Tue 20221206 @ 03:28AM EST on Colab Pro T4 with 10k Tweets (2x processing)\n",
        "#       1h30m00s on Tue 20221206 @ 17:47AM EST on Colab Pro T4 with 10k Tweets (2x processing)\n",
        "#         18m32s on Thu 20221215 @ 03:20AM EST on Colab Pro T4 with 6k Tweets\n",
        "\n",
        "\n",
        "text_raw_ls = data_df['text_raw'].to_list()\n",
        "text_noemoji_ls = data_df['text_noemoji'].to_list()\n",
        "text_clean_ls = data_df['text_clean'].to_list()\n",
        "\n",
        "# Get sentiment for raw uncleaned twitter Twitter text\n",
        "# sentiment_raw_ls = get_roberta_tweets(text_raw_ls)\n",
        "\n",
        "# Get sentiment for noemoji basic cleaned Twitter text\n",
        "sentiment_noemoji_ls = get_roberta_tweets(text_noemoji_ls)\n",
        "\n",
        "# Get sentiment for clean twitter Twitter text\n",
        "# sentiment_clean_ls = get_roberta_tweets(text_clean_ls)\n",
        "\n",
        "\n",
        "# data_df['roberta_twitter_raw'] = sentiment_raw_ls\n",
        "data_df['roberta_twitter_noemoji'] = sentiment_noemoji_ls\n",
        "# data_df['roberta_twitter_clean'] = sentiment_clean_ls\n",
        "\n",
        "data_df.head()\n",
        "data_df.info()"
      ]
    },
    {
      "cell_type": "code",
      "source": [
        "# Save \n",
        "\n",
        "filename_sentiment_tweets = f\"tweets_sentiment_{slugify(search_str, separator='')}_{start_date}_{start_time}_{end_date}_{end_time}.csv\"\n",
        "print(f'Saving to file: {filename_sentiment_tweets}')\n",
        "\n",
        "data_df.to_csv(filename_sentiment_tweets, index=False)\n",
        "\n",
        "files.download(filename_sentiment_tweets)"
      ],
      "metadata": {
        "id": "5X6y1wsG2HGQ"
      },
      "execution_count": null,
      "outputs": []
    },
    {
      "cell_type": "markdown",
      "source": [
        "## OPTION (b): Upload Sentiment Datafile"
      ],
      "metadata": {
        "id": "ICcOUYwRFSAJ"
      }
    },
    {
      "cell_type": "code",
      "source": [
        "%%time\n",
        "\n",
        "# NOTE: 1m07s\n",
        "\n",
        "# Upload Plain Text File\n",
        "uploaded = files.upload()\n",
        "datafile_name = ''\n",
        "\n",
        "# NOTE: Allows for multiple file uploads, will only process the last\n",
        "#       Left in for future feature addition (processing multiple files at once)\n",
        "\n",
        "print(f\"Tweet raw datafile should have been created with this notebook with the filename format:\")\n",
        "print(f\"   tweets_raw_<search_term>_<start_date>-<end_date>.csv\")\n",
        "print(f\"   e.g. 'tweets_raw_elonmusk_2022-10-01_2022-12-04.csv'\\n\\n\")\n",
        "\n",
        "for fn in uploaded.keys():\n",
        "  print('User uploaded file \"{name}\" with length {length} bytes'.format(\n",
        "      name=fn, length=len(uploaded[fn])))\n",
        "  datafile_name = fn\n",
        "\n",
        "# Parse raw tweet datafile filename to extract key search parameters\n",
        "try:\n",
        "  word1, word2, file_search_term, file_start_date, file_start_time, file_end_date, file_end_time = datafile_name.split('_')\n",
        "  if (word1 =='tweets') & (word2 == 'sentiment'):\n",
        "    search_term = file_search_term\n",
        "    start_date = file_start_date\n",
        "    end_date = file_end_date.split('.')[0]  # trim '.csv' suffix\n",
        "    print(f'\\n\\nSearch Term: {search_term}\\n  start_date: {start_date}\\n  end_date: {end_date}\\n\\n')\n",
        "  else:\n",
        "    print(f'ILLEGAL FILENAME: {datafile_name}\\n  Tweets datafile name must begin with prefix [tweets_raw_]')\n",
        "except:\n",
        "  print(f'ILLEGAL FILENAME: {datafile_name}\\n  cannot parse Tweets datafile name')\n",
        "\n",
        "\n",
        "# Parse out search dates based upon filename\n",
        "\n",
        "tweet_str, text_state_str, search_str, start_date, start_time, end_date, end_time = datafile_name.split('_')\n",
        "end_time = ''.join(end_time.split('.')[:-1])\n",
        "\n",
        "print(f'tweet_str: {tweet_str}')\n",
        "print(f'text_state_str: {text_state_str}')\n",
        "print(f'search_str: {search_str}')\n",
        "print(f'start_date: {start_date}')\n",
        "print(f'start_time: {start_time}')\n",
        "print(f'end_date: {end_date}')\n",
        "print(f'end_time: {end_time}')"
      ],
      "metadata": {
        "id": "m5UYOVIdFZJA"
      },
      "execution_count": null,
      "outputs": []
    },
    {
      "cell_type": "code",
      "source": [
        "data_df.head()"
      ],
      "metadata": {
        "id": "929KTWaw_6Em"
      },
      "execution_count": null,
      "outputs": []
    },
    {
      "cell_type": "code",
      "source": [
        "# Read raw tweet datafile into DataFrame 'data'\n",
        "\n",
        "# NOTE: Tweets have many encoding and other parsing errors so\n",
        "#       just do basic read and then try to set dtype\n",
        "\n",
        "try:\n",
        "  headers = ['datetime','id','tweet','username','reply_ct','retweet_ct','like_ct','quote_ct','retweeted_id','quoted_id']\n",
        "  dtypes_dt = {'datetime': str,\n",
        "            'id': int,\n",
        "            'tweet': str,\n",
        "            'username':str,\n",
        "            'reply_ct':int,\n",
        "            'retweet_ct':int,\n",
        "            'like_ct':int,\n",
        "            'quote_ct':int,\n",
        "            'retweeted_id':str,\n",
        "            'quoted_id':str,\n",
        "            'text_raw': str,\n",
        "            'text_noemoji': str,\n",
        "            'text_clean': str,\n",
        "            'vader': float,\n",
        "            'textblob': float,\n",
        "            'distilbert': float,\n",
        "            'roberta_twitter_noemoji': float}\n",
        "  parse_dates = ['datetime']\n",
        "  data_df = pd.read_csv(datafile_name, index_col=None) # , dtype=dtypes_dt) # , skiprows=[0]) # , names=headers) # , dtype=dtypes) # , parse_dates=parse_dates, index_col=None, on_bad_lines='ignore') # encoding='utf-8', on_bad_lines='ignore')\n",
        "  # data_df = pd.read_csv(datafile_name)\n",
        "  data_df.head()\n",
        "  data_df.info()\n",
        "  print(f\"SUCCESS: Tweets datafile [{datafile_name}] read into DataFrame 'data_df'\")\n",
        "except:\n",
        "  print(f'ERROR: Tweets datafile [{datafile_name}] cannot be read by pd.read_csv')"
      ],
      "metadata": {
        "id": "odoJ82pmFZCn"
      },
      "execution_count": null,
      "outputs": []
    },
    {
      "cell_type": "code",
      "source": [
        "# Drop unused columns\n",
        "\n",
        "if 'reply_ct' in data_df.columns:\n",
        "  data_df.drop(columns=['reply_ct'], inplace=True)\n",
        "\n",
        "if 'retweet_ct' in data_df.columns:\n",
        "  data_df.drop(columns=['retweet_ct'], inplace=True)\n",
        "\n",
        "if 'like_ct' in data_df.columns:\n",
        "  data_df.drop(columns=['like_ct'], inplace=True)\n",
        "\n",
        "if 'quote_ct' in data_df.columns:\n",
        "  data_df.drop(columns=['quote_ct'], inplace=True)\n",
        "\n",
        "if 'retweeted_id' in data_df.columns:\n",
        "  data_df.drop(columns=['retweeted_id'], inplace=True)\n",
        "\n",
        "if 'quoted_id' in data_df.columns:\n",
        "  data_df.drop(columns=['quoted_id'], inplace=True)\n",
        "\n",
        "data_df.info()"
      ],
      "metadata": {
        "id": "urn_ja4dHktu"
      },
      "execution_count": null,
      "outputs": []
    },
    {
      "cell_type": "code",
      "source": [
        "# DEBUG\n",
        "\n",
        "# data_df.iloc[8740:8750].datetime"
      ],
      "metadata": {
        "id": "ogCqayfmHktw"
      },
      "execution_count": null,
      "outputs": []
    },
    {
      "cell_type": "code",
      "source": [
        "# Clean and drop illegal datetime values\n",
        "\n",
        "data_df['datetime'] = pd.to_datetime(data_df['datetime'], errors='coerce')\n",
        "data_df = data_df.dropna(subset=['datetime'])\n",
        "data_df.info()\n"
      ],
      "metadata": {
        "id": "3lQW8QshHktx"
      },
      "execution_count": null,
      "outputs": []
    },
    {
      "cell_type": "code",
      "source": [
        "# DEBUG\n",
        "\n",
        "# data_df.iloc[8740:8750].datetime"
      ],
      "metadata": {
        "id": "9DAhxdPHHsVy"
      },
      "execution_count": null,
      "outputs": []
    },
    {
      "cell_type": "code",
      "source": [
        "# Drop any row that have at any NaN\n",
        "\n",
        "data_df.dropna(inplace=True)\n",
        "data_df.info()"
      ],
      "metadata": {
        "id": "Ylpr7r2FHktx"
      },
      "execution_count": null,
      "outputs": []
    },
    {
      "cell_type": "code",
      "source": [
        "# Try to convert Tweet text to string (raise error if incompatible encoding)\n",
        "\n",
        "# data_df['text_raw'] = data_df['text_raw'].apply(lambda x: str(x)) # \n",
        "data_df['id'] = data_df['id'].astype('int', errors='raise')\n",
        "data_df[['tweet','username','text_raw','text_noemoji','text_clean']] = data_df[['tweet','username','text_raw','text_noemoji','text_clean']].astype('string', errors='raise') # , errors='coerce')\n",
        "# data_df = data_df.dropna(subset=['text_raw'])\n",
        "data_df.info()"
      ],
      "metadata": {
        "id": "WK4bgCYlHktz"
      },
      "execution_count": null,
      "outputs": []
    },
    {
      "cell_type": "code",
      "source": [
        "\"\"\"\n",
        "data_df = data_df.astype({\"id\": \"int\",\n",
        "                          \"tweet\": \"str\",\n",
        "                          \"username\": \"str\",\n",
        "                          \"text_raw\": \"str\",\n",
        "                          \"text_noemoji\": \"str\",\n",
        "                          \"text_clean\": \"str\",\n",
        "                          \"vader\": \"float\",\n",
        "                          \"textblob\": \"float\",\n",
        "                          \"distilbert\": \"float\",\n",
        "                          \"roberta_twitter_noemoji\": \"float\"})\n",
        "\n",
        "data_df.info()\n",
        "\"\"\";"
      ],
      "metadata": {
        "id": "soUMon_YHktz"
      },
      "execution_count": null,
      "outputs": []
    },
    {
      "cell_type": "code",
      "source": [
        "# DEBUG\n",
        "\n",
        "# df is the DataFrame, and column_list is a list of columns as strings (e.g [\"col1\",\"col2\",\"col3\"])\n",
        "# dependencies: pandas\n",
        "\n",
        "def coerce_df_columns_to_string(df, column_list):\n",
        "    df[column_list] = df[column_list].apply(pd.to_string, errors='coerce')\n",
        "\n",
        "# coerce_df_columns_to_string(data_df, ['tweet','username'])\n",
        "# data_df.info()"
      ],
      "metadata": {
        "id": "2ErKDvrmHkt0"
      },
      "execution_count": null,
      "outputs": []
    },
    {
      "cell_type": "code",
      "execution_count": null,
      "metadata": {
        "id": "PlhiRd42Hkt0"
      },
      "outputs": [],
      "source": [
        "# Calculate Data Range\n",
        "print(f'Tweet Dataset Retrieved:\\n')\n",
        "\n",
        "# start_retrieve_date = data_df.datetime.min().strftime('%Y-%m-%d-%H:%M:%S')\n",
        "# end_retrieve_date = data_df.datetime.max().strftime('%Y-%m-%d-%H:%M:%S')\n",
        "start_retrieve_date = data_df.datetime.min() # .strftime('%Y%m%d_%H%M%S')\n",
        "end_retrieve_date = data_df.datetime.max() # .strftime('%Y%m%d_%H%M%S')\n",
        "\n",
        "print(f' Raw Tweet Count: {data_df.shape[0]}')\n",
        "print('\\n')\n",
        "print(f'      First Date: {start_retrieve_date} (vs start_target_date: {start_date})')\n",
        "print(f'       Last Date: {end_retrieve_date} (vs end_target_date: {end_date})')\n",
        "# print('\\n')\n",
        "# print(f'   ReTweet Count: {data_df.retweeted_id.count().sum()}')\n",
        "# print(f'    Quoted Count: {data_df.quoted_id.count().sum()}')\n",
        "# print('\\n')\n",
        "# print(f'     Reply %: {100*data_df.reply_ct.count().sum()/data_df.shape[0]:.2f}%')\n",
        "# print(f'   ReTweet %: {100*data_df.retweet_ct.count().sum()/data_df.shape[0]:.2f}%')\n",
        "# print(f'      Like %: {100*data_df.like_ct.count().sum()/data_df.shape[0]:.2f}%')\n",
        "# print(f'     Quote %: {100*data_df.quote_ct.count().sum()/data_df.shape[0]:.2f}%')\n",
        "\n",
        "print('\\n')"
      ]
    },
    {
      "cell_type": "code",
      "execution_count": null,
      "metadata": {
        "id": "-OAQfvpOHkt1"
      },
      "outputs": [],
      "source": [
        "# Histogram of Tweet Counts over retrieved datetime range\n",
        "\n",
        "# CUSTOMIZE\n",
        "bin_ct = 100\n",
        "\n",
        "_ = fig, ax = plt.subplots()\n",
        "_ = data_df[\"datetime\"].astype(np.int64).plot.hist(bins=bin_ct, ax=ax)\n",
        "_ = labels = ax.get_xticks().tolist()\n",
        "_ = labels = pd.to_datetime(labels)\n",
        "_ = ax.set_xticklabels(labels, rotation=90)\n",
        "_ = plt.grid()\n",
        "_ = plt.show();"
      ]
    },
    {
      "cell_type": "markdown",
      "metadata": {
        "id": "UTLV5VsuEuyJ"
      },
      "source": [
        "# **Plot Sentiment**"
      ]
    },
    {
      "cell_type": "code",
      "execution_count": null,
      "metadata": {
        "id": "BDCpo-toxIAH"
      },
      "outputs": [],
      "source": [
        "data_df.info()"
      ]
    },
    {
      "cell_type": "code",
      "source": [
        "# Reset list of models\n",
        "model_ls = list(set(data_df.columns) - set(['datetime','id','tweet','username','text_raw','text_noemoji','text_clean','text_raw_type']))\n",
        "model_ls = [x for x in model_ls if 'sma' not in x]\n",
        "model_ls = [x for x in model_ls if 'stdscaler' not in x]\n",
        "model_ls"
      ],
      "metadata": {
        "id": "_N2eQGbKIr9h"
      },
      "execution_count": null,
      "outputs": []
    },
    {
      "cell_type": "code",
      "execution_count": null,
      "metadata": {
        "id": "UN-qN5C-47hY"
      },
      "outputs": [],
      "source": [
        "#@title Enter the Sliding Window width as Percent of Novel length (default 10%, larger=smoother)\n",
        "\n",
        "plt.rcParams['figure.figsize'] = [20, 10]\n",
        "\n",
        "# Dict of sentiment model means\n",
        "sentiment_mean_dt = {}\n",
        "\n",
        "window_percent = 10 #@param {type:\"slider\", min:1, max:20, step:1}\n",
        "\n",
        "win_per = int(window_percent/100 * data_df.shape[0])\n",
        "\n",
        "# Reset list of models\n",
        "model_ls = list(set(data_df.columns) - set(['datetime','id','tweet','username','text_raw','text_noemoji','text_clean','text_raw_type']))\n",
        "model_ls = [x for x in model_ls if 'sma' not in x]\n",
        "model_ls = [x for x in model_ls if 'stdscaler' not in x]\n",
        "\n",
        "model_sma_ls = []\n",
        "for amodel in model_ls:\n",
        "  model_col = f'{amodel}_sma{window_percent}'\n",
        "  model_sma_ls.append(model_col)\n",
        "  data_df[model_col] = data_df[amodel].rolling(win_per, center=True, min_periods=1).mean()\n",
        "  sentiment_mean_dt[amodel] = data_df[amodel].mean()\n",
        "\n",
        "# roberta_twitter_raw_col = f'roberta_twitter_raw_sma{window_percent}'\n",
        "# data_df[roberta_twitter_raw_col] = data_df['roberta_twitter_raw'].rolling(win_per, center=True, min_periods=1).mean()\n",
        "# sentiment_mean_dt['roberta_twitter_raw'] = data_df['roberta_twitter_raw'].mean()\n",
        "\n",
        "# Normalize Time Series to same y-range\n",
        "model_norm_ls = [f'{amodel}_stdscaler' for amodel in model_ls]\n",
        "# model_norm_ls\n",
        "\n",
        "data_df[model_norm_ls] = StandardScaler().fit_transform(data_df[model_sma_ls])\n",
        "\n",
        "# _ = data_df[model_norm_ls].plot(xticks=data_df.datetime, rot=90)\n",
        "_ = data_df[model_norm_ls].plot()\n",
        "\n",
        "_ = plt.title(f'Tweets Sentiment Analysis (SMA {window_percent}%)\\nSearch Term=[{search_str}]\\nFrom:{start_date} End:{end_date}')\n",
        "_ = plt.ylabel('Sentiment')\n",
        "xtick_ls = [x.split(' ')[0] for x in data_df.datetime.to_list()]\n",
        "# _ = plt.xticks(xtick_ls, rot=90)\n",
        "_ = plt.xlabel('Datetime')\n",
        "_ = plt.grid(True, alpha=0.3)\n",
        "_ = plt.legend(loc='best')\n",
        "\n",
        "model_mean_str = 'Model Raw Means\\n\\n'\n",
        "for amodel, amean in sentiment_mean_dt.items():\n",
        "  model_mean_str += f'{amodel} = {amean:.2f}\\n'\n",
        "  _ = plt.axhline(y = amean, label='book', color='red', linestyle='--', alpha=0.4)\n",
        "\n",
        "filename_plot = f\"twitter_plot_ensemble_{search_str.replace(' ', '_')}_{start_date}_{start_time}_{end_date}_{end_time}.png\"\n",
        "_ = plt.savefig(filename_plot, dpi=300)\n",
        "_ = plt.show();\n",
        "\n",
        "print(f'{model_mean_str}')\n",
        "\n",
        "# Download Crux Point Plot file 'crux_plot.png' to your laptop\n",
        "files.download(filename_plot)"
      ]
    },
    {
      "cell_type": "markdown",
      "metadata": {
        "id": "Tsyyo-oIF2V5"
      },
      "source": [
        "# **Crux Detection**"
      ]
    },
    {
      "cell_type": "code",
      "execution_count": null,
      "metadata": {
        "id": "2qWYkdaw82U2"
      },
      "outputs": [],
      "source": [
        "#@title Which Lexicon?\n",
        "\n",
        "Sentiment_Model = \"RoBERTa_Twitter_NoEmoji\" #@param [\"VADER\", \"TextBlob\", \"DistilBERT\",\"RoBERTa_Twitter_NoEmoji\"]"
      ]
    },
    {
      "cell_type": "code",
      "execution_count": null,
      "metadata": {
        "cellView": "form",
        "id": "lkX5inEzkHiS"
      },
      "outputs": [],
      "source": [
        "#@title Tune the main Hyperparameter for each of the 4 Peak Detection Algorithms:\n",
        "\n",
        "Distance_Min = 300 #@param {type:\"slider\", min:50, max:1000, step:10}\n",
        "Prominence_Min = 0.031 #@param {type:\"slider\", min:0.001, max:0.05, step:0.001}\n",
        "Width_Min = 40 #@param {type:\"slider\", min:10, max:500, step:5}\n",
        "Threshold_Min = 0.007 #@param {type:\"slider\", min:0.001, max:0.01, step:0.001}\n",
        "\n",
        "plt.rcParams['figure.figsize'] = [30, 20]\n",
        "\n",
        "model_name = f'{Sentiment_Model.lower()}_sma{window_percent}'\n",
        "# print(f'Plotting: {model_name}\\n')\n",
        "\n",
        "x = data_df[model_name]\n",
        "data_df[model_name].plot()\n",
        "\n",
        "# Peak Algo #1 (by Distance)\n",
        "distance_min = Distance_Min # 750\n",
        "\n",
        "# Peak Algo #2 (by Prominence)\n",
        "prominence_min = Prominence_Min # 0.01\n",
        "\n",
        "# Peak Algo #3 (by Width)\n",
        "width_min = Width_Min # 175\n",
        "\n",
        "# Peak Algo #4 (by Threshold)\n",
        "threshold_min = Threshold_Min # 0.001\n",
        "\n",
        "\n",
        "peaks, _ = find_peaks(x, distance=distance_min)\n",
        "peaks2, _ = find_peaks(x, prominence=prominence_min)      # BEST!\n",
        "peaks3, _ = find_peaks(x, width=width_min)\n",
        "peaks4, _ = find_peaks(x, threshold=threshold_min)     # Required vertical distance to its direct neighbouring samples, pretty useless\n",
        "\n",
        "\n",
        "x_inv = pd.Series([-x for x in data_df[model_name].to_list()])\n",
        "\n",
        "valleys, _ = find_peaks(x_inv, distance=distance_min)\n",
        "valleys2, _ = find_peaks(x_inv, prominence=prominence_min)      # BEST!\n",
        "valleys3, _ = find_peaks(x_inv, width=width_min)\n",
        "valleys4, _ = find_peaks(x_inv, threshold=threshold_min)     # Required vertical distance to its direct neighbouring samples, pretty useless\n",
        "\n",
        "\n",
        "_ = plt.subplot(2, 2, 1)\n",
        "_ = plt.grid(True, alpha=0.3)\n",
        "_ = plt.plot(x)\n",
        "_ = plt.title(f'Distance Peak Detection ({len(peaks)+len(valleys)} Cruxes) \\n {len(peaks)} Peaks & {len(valleys)} Valleys')\n",
        "_ = plt.plot(peaks, x[peaks], \"^g\", markersize=7)\n",
        "_ = plt.plot(valleys, x[valleys], \"vr\", markersize=7)\n",
        "for x_val in peaks:\n",
        "  _ = plt.text(x_val, x[x_val], f'-----{x_val}', ha='center', va='bottom', rotation=90, size='large', color='black', weight='semibold')\n",
        "for x_val in valleys:\n",
        "  _ = plt.text(x_val, x[x_val], f'-----{x_val}', ha='center', va='top', rotation=270, size='large', color='black', weight='semibold')\n",
        "\n",
        "_ = plt.subplot(2, 2, 2)\n",
        "_ = plt.grid(True, alpha=0.3)\n",
        "_ = plt.plot(x)\n",
        "_ = plt.title(f'Prominence Peak Detection ({len(peaks2)+len(valleys2)} Cruxes) \\n {len(peaks2)} Peaks & {len(valleys2)} Valleys')\n",
        "_ = plt.plot(peaks2, x[peaks2], \"^g\", markersize=7)\n",
        "_ = plt.plot(valleys2, x[valleys2], \"vr\", markersize=7)\n",
        "for x_val in peaks2:\n",
        "  _ = plt.text(x_val, x[x_val], f'-----{x_val}', ha='center', va='bottom', rotation=90, size='large', color='black', weight='semibold')\n",
        "for x_val in valleys2:\n",
        "  _ = plt.text(x_val, x[x_val], f'-----{x_val}', ha='center', va='top', rotation=270, size='large', color='black', weight='semibold')\n",
        "\n",
        "\n",
        "_ = plt.subplot(2, 2, 3)\n",
        "_ = plt.grid(True, alpha=0.3)\n",
        "_ = plt.plot(x)\n",
        "_ = plt.title(f'Width Peak Detection ({len(peaks3)+len(valleys3)} Cruxes) \\n {len(peaks3)} Peaks & {len(valleys3)} Valleys')\n",
        "_ = plt.plot(valleys3, x[valleys3], \"vr\", markersize=7)\n",
        "_ = plt.plot(peaks3, x[peaks3], \"^g\", markersize=7)\n",
        "for x_val in peaks3:\n",
        "  _ = plt.text(x_val, x[x_val], f'-----{x_val}', ha='center', va='bottom', rotation=90, size='large', color='black', weight='semibold')\n",
        "for x_val in valleys3:\n",
        "  _ = plt.text(x_val, x[x_val], f'-----{x_val}', ha='center', va='top', rotation=270, size='large', color='black', weight='semibold')\n",
        "\n",
        "\n",
        "_ = plt.subplot(2, 2, 4)\n",
        "_ = plt.grid(True, alpha=0.3)\n",
        "_ = plt.plot(x)\n",
        "_ = plt.title(f'Threshold Peak Detection ({len(peaks4)+len(valleys4)} Cruxes) \\n {len(peaks4)} Peaks & {len(valleys4)} Valleys')\n",
        "_ = plt.plot(valleys4, x[valleys4], \"vr\", markersize=7)\n",
        "_ = plt.plot(valleys4, x[valleys4], \"^g\", markersize=7)\n",
        "for x_val in peaks4:\n",
        "  _ = plt.text(x_val, x[x_val], f'-----{x_val}', ha='center', va='bottom', rotation=90, size='large', color='black', weight='semibold')\n",
        "for x_val in valleys4:\n",
        "  _ = plt.text(x_val, x[x_val], f'-----{x_val}', ha='center', va='top', rotation=270, size='large', color='black', weight='semibold')\n",
        "\n",
        "_ = plt.suptitle(f'Peak Detection of Twitter Sentiment Analysis\\nModel: {Sentiment_Model}\\n(SMA {window_percent}%)', fontsize=20)\n",
        "_ = plt.grid(True, alpha=0.3)\n",
        "\n",
        "_ = plt.show()"
      ]
    },
    {
      "cell_type": "code",
      "execution_count": null,
      "metadata": {
        "id": "h-jc8YkYz154"
      },
      "outputs": [],
      "source": [
        "#@title Select a Peak Detection Algorithms to View in Detail (usually Distance or Width is best):\n",
        "\n",
        "plt.rcParams['figure.figsize'] = [20, 10]\n",
        "\n",
        "Peak_Algorithm = \"Distance\" #@param [\"Distance\", \"Prominence\", \"Width\", \"Threshold\"]\n",
        "\n",
        "if Peak_Algorithm == 'Distance':\n",
        "  peaks = peaks\n",
        "  valleys = valleys\n",
        "elif Peak_Algorithm == 'Prominence':\n",
        "  peaks = peaks2\n",
        "  valleys = valleys2  \n",
        "elif Peak_Algorithm == 'Width':\n",
        "  peaks = peaks3\n",
        "  valleys = valleys3\n",
        "else:\n",
        "  # Assume Peak_Algorithm == 'Threshold'\n",
        "  peaks = peaks4\n",
        "  valleys = valleys4\n",
        "\n",
        "# model_name = f'{Sentiment_Model.lower()}_sma10'\n",
        "\n",
        "# x = novel_clean_df[model_name]\n",
        "\n",
        "# peaks2, _ = find_peaks(x, prominence=peak_prominence)  \n",
        "\n",
        "# x_inv = pd.Series([-x for x in novel_clean_df[model_name].to_list()])\n",
        "# valleys2, _ = find_peaks(x_inv, prominence=peak_prominence)     \n",
        "\n",
        "_ = plt.plot(x)\n",
        "_ = plt.plot(peaks, x[peaks], \"^g\", markersize=15, label='peak sentence#')\n",
        "_ = plt.plot(valleys, x[valleys], \"vr\", markersize=15, label='valley sentence#')\n",
        "for x_val in peaks:\n",
        "  _ = plt.text(x_val, x[x_val], f'    {x_val}', horizontalalignment='left', size='medium', color='black', weight='semibold')\n",
        "for x_val in valleys:\n",
        "  _ = plt.text(x_val, x[x_val], f'    {x_val}', horizontalalignment='left', size='medium', color='black', weight='semibold')\n",
        "_ = plt.title(f'{Peak_Algorithm} Peak Detection of Twitter Sentiment Analysis\\nTwitter Sentiment Model: {Sentiment_Model}\\n(SMA {window_percent}%)', fontsize=16)\n",
        "_ = plt.ylabel('Sentiment')\n",
        "_ = plt.xlabel('Sentence No.')\n",
        "_ = plt.legend(loc='best')\n",
        "_ = plt.grid(True, alpha=0.3)\n",
        "\n",
        "filename_plot = f\"twitter_plot_cruxes_{Sentiment_Model.lower()}_{search_str.replace(' ', '_')}_{start_date}_{start_time}_{end_date}_{end_time}.png\"\n",
        "_ = plt.savefig(filename_plot, dpi=300)\n",
        "_ = plt.show();\n",
        "\n",
        "# Download Crux Point Plot file 'crux_plot.png' to your laptop\n",
        "files.download(filename_plot)\n",
        "\n",
        "print(f'\\n\\n     >>>>> SAVED PLOT TO FILE: [{filename_plot}] <<<<<')"
      ]
    },
    {
      "cell_type": "markdown",
      "metadata": {
        "id": "Z6bmv1yCw4UB"
      },
      "source": [
        "# **Get Context around Crux Points**"
      ]
    },
    {
      "cell_type": "code",
      "execution_count": null,
      "metadata": {
        "cellView": "form",
        "id": "AgIQYvcP4ko8"
      },
      "outputs": [],
      "source": [
        "#@title How many Sentences around Crux Point do you want to view for context?\n",
        "\n",
        "Crux_Sentence_Context_Count = 19 #@param {type:\"slider\", min:1, max:20, step:1}\n"
      ]
    },
    {
      "cell_type": "code",
      "execution_count": null,
      "metadata": {
        "id": "Ad86Yzl-E_yu"
      },
      "outputs": [],
      "source": [
        "# Print Context around each Sentiment Peak\n",
        "\n",
        "output_ls = []\n",
        "\n",
        "halfwin = int(Crux_Sentence_Context_Count/2)\n",
        "crux_sents_ls = []\n",
        "nl = '\\n'\n",
        "\n",
        "print('==================================================')\n",
        "print('============     Peak Crux Points   ==============')\n",
        "print('==================================================\\n\\n')\n",
        "\n",
        "output_ls.append('==================================================')\n",
        "output_ls.append('============     Peak Crux Points   ==============')\n",
        "output_ls.append('==================================================\\n\\n')\n",
        "\n",
        "# for i, apeak in enumerate(peaks2):\n",
        "for i, apeak in enumerate(peaks):\n",
        "  print(f'Processing Peak #{i}...')\n",
        "  crux_sents_ls = []\n",
        "  indx_start = apeak-halfwin\n",
        "  indx_start = max(indx_start, 0)\n",
        "  indx_end = apeak+halfwin\n",
        "  indx_end = min(indx_end, data_df.shape[0])\n",
        "  for sent_idx in range(indx_start, indx_end):\n",
        "    sent_cur = data_df.iloc[sent_idx].text_raw\n",
        "    if sent_idx == apeak:\n",
        "      sent_str = sent_cur.upper()\n",
        "    else:\n",
        "      sent_str = sent_cur\n",
        "    crux_sents_ls.append(sent_str)\n",
        "  \n",
        "  # context_ls = data_df.iloc[apeak-halfwin:apeak+halfwin].text_raw\n",
        "  print(f\"Peak #{i} at Sentence #{apeak}:\\n\\n{nl.join(crux_sents_ls)}\\n\\n\\n\")\n",
        "  output_ls.append(f\"Peak #{i} at Sentence #{apeak}:\\n\\n{nl.join(crux_sents_ls)}\\n\\n\\n\")\n",
        "\n",
        "print('==================================================')\n",
        "print('===========     Crux Valley Points    ============')\n",
        "print('==================================================\\n\\n')\n",
        "\n",
        "output_ls.append('==================================================')\n",
        "output_ls.append('===========     Crux Valley Points    ============')\n",
        "output_ls.append('==================================================\\n\\n')\n",
        "\n",
        "# for i, avalley in enumerate(valleys2):\n",
        "for i, avalley in enumerate(valleys):\n",
        "  print(f'Processing Valley #{i}')\n",
        "  crux_sents_ls = []\n",
        "  for sent_idx in range(avalley-halfwin,avalley+halfwin+1):\n",
        "    sent_cur = data_df.iloc[sent_idx].text_raw\n",
        "    if sent_idx == avalley:\n",
        "      sent_str = sent_cur.upper()\n",
        "    else:\n",
        "      sent_str = sent_cur\n",
        "    crux_sents_ls.append(sent_str)\n",
        "\n",
        "  # context_ls = novel_df.iloc[avalley-halfwin:avalley+halfwin].text_raw\n",
        "  print(f\"Valley #{i} at Sentence #{avalley}:\\n\\n{nl.join(crux_sents_ls)}\\n\\n\\n\")\n",
        "  output_ls.append(f\"Valley #{i} at Sentence #{avalley}:\\n\\n{nl.join(crux_sents_ls)}\\n\\n\\n\")\n",
        "\n",
        "filename_cruxes = f\"twitter_cruxes_context_{Sentiment_Model.lower()}_{search_str.replace(' ', '_')}_{start_date}_{start_time}_{end_date}_{end_time}.txt\" \n",
        "\n",
        "output_str = ' '.join(output_ls)\n",
        "\n",
        "with open(filename_cruxes, 'w') as f:\n",
        "    f.write(output_str)\n",
        "\n",
        "# Download Crux Point Report file 'cruxes.txt' to your laptop\n",
        "files.download(filename_cruxes)"
      ]
    },
    {
      "cell_type": "code",
      "execution_count": null,
      "metadata": {
        "id": "VZ0k6pVjsaIX"
      },
      "outputs": [],
      "source": [
        "!cat $filename_cruxes"
      ]
    },
    {
      "cell_type": "markdown",
      "metadata": {
        "id": "zIclXwPYXYm9"
      },
      "source": [
        "# **END OF NOTEBOOK**"
      ]
    }
  ],
  "metadata": {
    "colab": {
      "collapsed_sections": [
        "mujSX6yGnMzV",
        "ICcOUYwRFSAJ",
        "zIclXwPYXYm9"
      ],
      "provenance": [],
      "toc_visible": true,
      "include_colab_link": true
    },
    "gpuClass": "standard",
    "kernelspec": {
      "display_name": "Python 3",
      "name": "python3"
    },
    "language_info": {
      "name": "python"
    }
  },
  "nbformat": 4,
  "nbformat_minor": 0
}